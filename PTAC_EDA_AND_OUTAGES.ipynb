{
 "cells": [
  {
   "cell_type": "markdown",
   "metadata": {},
   "source": [
    "# PTAC Data EDA and Identification of Outages"
   ]
  },
  {
   "cell_type": "code",
   "execution_count": 1,
   "metadata": {},
   "outputs": [],
   "source": [
    "import os\n",
    "import pandas as pd\n",
    "import plotly.graph_objects as go\n",
    "# turn off scientific notation  in pandas\n",
    "pd.set_option('display.float_format', lambda x: '%.3f' % x)\n",
    "\n",
    "# set max columns and rows to display\n",
    "pd.set_option('display.max_columns', 500)\n",
    "pd.set_option('display.max_rows', 500)"
   ]
  },
  {
   "cell_type": "code",
   "execution_count": 2,
   "metadata": {},
   "outputs": [
    {
     "name": "stdout",
     "output_type": "stream",
     "text": [
      "rmsCurrent.csv\n"
     ]
    }
   ],
   "source": [
    "circuit_df = pd.read_excel('ALG_ptac_inventory.xlsx').set_index('id')\n",
    "circuit_df['full_address'] = circuit_df.apply(lambda s: f\"{s['address1']}_{s['city']}_{s['state']}\", axis=1)\n",
    "\n",
    "for csv in os.listdir('data'):\n",
    "    if csv == 'rmsCurrent.csv':\n",
    "        print(csv)\n",
    "\n",
    "        csv_df = pd.read_csv(f'data/{csv}', \n",
    "                         parse_dates=[0], \n",
    "                         index_col=0)\n",
    "        \n"
   ]
  },
  {
   "cell_type": "markdown",
   "metadata": {},
   "source": [
    "## Quick Analysis Questions"
   ]
  },
  {
   "cell_type": "code",
   "execution_count": 3,
   "metadata": {},
   "outputs": [
    {
     "data": {
      "application/vnd.plotly.v1+json": {
       "config": {
        "plotlyServerURL": "https://plot.ly"
       },
       "data": [
        {
         "marker": {
          "color": "blue",
          "size": 10
         },
         "mode": "markers+text",
         "type": "scatter",
         "x": [
          9,
          6,
          6,
          53,
          14,
          13,
          13,
          6,
          14,
          17,
          20
         ],
         "y": [
          6.022956841138659,
          8.938154269972452,
          15.963429752066116,
          24.10151515151515,
          11.959802571166207,
          14.794329660238752,
          12.135135445362717,
          15.73116391184573,
          15.270316804407713,
          12.004752066115703,
          14.801790633608816
         ]
        }
       ],
       "layout": {
        "template": {
         "data": {
          "bar": [
           {
            "error_x": {
             "color": "rgb(36,36,36)"
            },
            "error_y": {
             "color": "rgb(36,36,36)"
            },
            "marker": {
             "line": {
              "color": "white",
              "width": 0.5
             },
             "pattern": {
              "fillmode": "overlay",
              "size": 10,
              "solidity": 0.2
             }
            },
            "type": "bar"
           }
          ],
          "barpolar": [
           {
            "marker": {
             "line": {
              "color": "white",
              "width": 0.5
             },
             "pattern": {
              "fillmode": "overlay",
              "size": 10,
              "solidity": 0.2
             }
            },
            "type": "barpolar"
           }
          ],
          "carpet": [
           {
            "aaxis": {
             "endlinecolor": "rgb(36,36,36)",
             "gridcolor": "white",
             "linecolor": "white",
             "minorgridcolor": "white",
             "startlinecolor": "rgb(36,36,36)"
            },
            "baxis": {
             "endlinecolor": "rgb(36,36,36)",
             "gridcolor": "white",
             "linecolor": "white",
             "minorgridcolor": "white",
             "startlinecolor": "rgb(36,36,36)"
            },
            "type": "carpet"
           }
          ],
          "choropleth": [
           {
            "colorbar": {
             "outlinewidth": 1,
             "tickcolor": "rgb(36,36,36)",
             "ticks": "outside"
            },
            "type": "choropleth"
           }
          ],
          "contour": [
           {
            "colorbar": {
             "outlinewidth": 1,
             "tickcolor": "rgb(36,36,36)",
             "ticks": "outside"
            },
            "colorscale": [
             [
              0,
              "#440154"
             ],
             [
              0.1111111111111111,
              "#482878"
             ],
             [
              0.2222222222222222,
              "#3e4989"
             ],
             [
              0.3333333333333333,
              "#31688e"
             ],
             [
              0.4444444444444444,
              "#26828e"
             ],
             [
              0.5555555555555556,
              "#1f9e89"
             ],
             [
              0.6666666666666666,
              "#35b779"
             ],
             [
              0.7777777777777778,
              "#6ece58"
             ],
             [
              0.8888888888888888,
              "#b5de2b"
             ],
             [
              1,
              "#fde725"
             ]
            ],
            "type": "contour"
           }
          ],
          "contourcarpet": [
           {
            "colorbar": {
             "outlinewidth": 1,
             "tickcolor": "rgb(36,36,36)",
             "ticks": "outside"
            },
            "type": "contourcarpet"
           }
          ],
          "heatmap": [
           {
            "colorbar": {
             "outlinewidth": 1,
             "tickcolor": "rgb(36,36,36)",
             "ticks": "outside"
            },
            "colorscale": [
             [
              0,
              "#440154"
             ],
             [
              0.1111111111111111,
              "#482878"
             ],
             [
              0.2222222222222222,
              "#3e4989"
             ],
             [
              0.3333333333333333,
              "#31688e"
             ],
             [
              0.4444444444444444,
              "#26828e"
             ],
             [
              0.5555555555555556,
              "#1f9e89"
             ],
             [
              0.6666666666666666,
              "#35b779"
             ],
             [
              0.7777777777777778,
              "#6ece58"
             ],
             [
              0.8888888888888888,
              "#b5de2b"
             ],
             [
              1,
              "#fde725"
             ]
            ],
            "type": "heatmap"
           }
          ],
          "heatmapgl": [
           {
            "colorbar": {
             "outlinewidth": 1,
             "tickcolor": "rgb(36,36,36)",
             "ticks": "outside"
            },
            "colorscale": [
             [
              0,
              "#440154"
             ],
             [
              0.1111111111111111,
              "#482878"
             ],
             [
              0.2222222222222222,
              "#3e4989"
             ],
             [
              0.3333333333333333,
              "#31688e"
             ],
             [
              0.4444444444444444,
              "#26828e"
             ],
             [
              0.5555555555555556,
              "#1f9e89"
             ],
             [
              0.6666666666666666,
              "#35b779"
             ],
             [
              0.7777777777777778,
              "#6ece58"
             ],
             [
              0.8888888888888888,
              "#b5de2b"
             ],
             [
              1,
              "#fde725"
             ]
            ],
            "type": "heatmapgl"
           }
          ],
          "histogram": [
           {
            "marker": {
             "line": {
              "color": "white",
              "width": 0.6
             }
            },
            "type": "histogram"
           }
          ],
          "histogram2d": [
           {
            "colorbar": {
             "outlinewidth": 1,
             "tickcolor": "rgb(36,36,36)",
             "ticks": "outside"
            },
            "colorscale": [
             [
              0,
              "#440154"
             ],
             [
              0.1111111111111111,
              "#482878"
             ],
             [
              0.2222222222222222,
              "#3e4989"
             ],
             [
              0.3333333333333333,
              "#31688e"
             ],
             [
              0.4444444444444444,
              "#26828e"
             ],
             [
              0.5555555555555556,
              "#1f9e89"
             ],
             [
              0.6666666666666666,
              "#35b779"
             ],
             [
              0.7777777777777778,
              "#6ece58"
             ],
             [
              0.8888888888888888,
              "#b5de2b"
             ],
             [
              1,
              "#fde725"
             ]
            ],
            "type": "histogram2d"
           }
          ],
          "histogram2dcontour": [
           {
            "colorbar": {
             "outlinewidth": 1,
             "tickcolor": "rgb(36,36,36)",
             "ticks": "outside"
            },
            "colorscale": [
             [
              0,
              "#440154"
             ],
             [
              0.1111111111111111,
              "#482878"
             ],
             [
              0.2222222222222222,
              "#3e4989"
             ],
             [
              0.3333333333333333,
              "#31688e"
             ],
             [
              0.4444444444444444,
              "#26828e"
             ],
             [
              0.5555555555555556,
              "#1f9e89"
             ],
             [
              0.6666666666666666,
              "#35b779"
             ],
             [
              0.7777777777777778,
              "#6ece58"
             ],
             [
              0.8888888888888888,
              "#b5de2b"
             ],
             [
              1,
              "#fde725"
             ]
            ],
            "type": "histogram2dcontour"
           }
          ],
          "mesh3d": [
           {
            "colorbar": {
             "outlinewidth": 1,
             "tickcolor": "rgb(36,36,36)",
             "ticks": "outside"
            },
            "type": "mesh3d"
           }
          ],
          "parcoords": [
           {
            "line": {
             "colorbar": {
              "outlinewidth": 1,
              "tickcolor": "rgb(36,36,36)",
              "ticks": "outside"
             }
            },
            "type": "parcoords"
           }
          ],
          "pie": [
           {
            "automargin": true,
            "type": "pie"
           }
          ],
          "scatter": [
           {
            "fillpattern": {
             "fillmode": "overlay",
             "size": 10,
             "solidity": 0.2
            },
            "type": "scatter"
           }
          ],
          "scatter3d": [
           {
            "line": {
             "colorbar": {
              "outlinewidth": 1,
              "tickcolor": "rgb(36,36,36)",
              "ticks": "outside"
             }
            },
            "marker": {
             "colorbar": {
              "outlinewidth": 1,
              "tickcolor": "rgb(36,36,36)",
              "ticks": "outside"
             }
            },
            "type": "scatter3d"
           }
          ],
          "scattercarpet": [
           {
            "marker": {
             "colorbar": {
              "outlinewidth": 1,
              "tickcolor": "rgb(36,36,36)",
              "ticks": "outside"
             }
            },
            "type": "scattercarpet"
           }
          ],
          "scattergeo": [
           {
            "marker": {
             "colorbar": {
              "outlinewidth": 1,
              "tickcolor": "rgb(36,36,36)",
              "ticks": "outside"
             }
            },
            "type": "scattergeo"
           }
          ],
          "scattergl": [
           {
            "marker": {
             "colorbar": {
              "outlinewidth": 1,
              "tickcolor": "rgb(36,36,36)",
              "ticks": "outside"
             }
            },
            "type": "scattergl"
           }
          ],
          "scattermapbox": [
           {
            "marker": {
             "colorbar": {
              "outlinewidth": 1,
              "tickcolor": "rgb(36,36,36)",
              "ticks": "outside"
             }
            },
            "type": "scattermapbox"
           }
          ],
          "scatterpolar": [
           {
            "marker": {
             "colorbar": {
              "outlinewidth": 1,
              "tickcolor": "rgb(36,36,36)",
              "ticks": "outside"
             }
            },
            "type": "scatterpolar"
           }
          ],
          "scatterpolargl": [
           {
            "marker": {
             "colorbar": {
              "outlinewidth": 1,
              "tickcolor": "rgb(36,36,36)",
              "ticks": "outside"
             }
            },
            "type": "scatterpolargl"
           }
          ],
          "scatterternary": [
           {
            "marker": {
             "colorbar": {
              "outlinewidth": 1,
              "tickcolor": "rgb(36,36,36)",
              "ticks": "outside"
             }
            },
            "type": "scatterternary"
           }
          ],
          "surface": [
           {
            "colorbar": {
             "outlinewidth": 1,
             "tickcolor": "rgb(36,36,36)",
             "ticks": "outside"
            },
            "colorscale": [
             [
              0,
              "#440154"
             ],
             [
              0.1111111111111111,
              "#482878"
             ],
             [
              0.2222222222222222,
              "#3e4989"
             ],
             [
              0.3333333333333333,
              "#31688e"
             ],
             [
              0.4444444444444444,
              "#26828e"
             ],
             [
              0.5555555555555556,
              "#1f9e89"
             ],
             [
              0.6666666666666666,
              "#35b779"
             ],
             [
              0.7777777777777778,
              "#6ece58"
             ],
             [
              0.8888888888888888,
              "#b5de2b"
             ],
             [
              1,
              "#fde725"
             ]
            ],
            "type": "surface"
           }
          ],
          "table": [
           {
            "cells": {
             "fill": {
              "color": "rgb(237,237,237)"
             },
             "line": {
              "color": "white"
             }
            },
            "header": {
             "fill": {
              "color": "rgb(217,217,217)"
             },
             "line": {
              "color": "white"
             }
            },
            "type": "table"
           }
          ]
         },
         "layout": {
          "annotationdefaults": {
           "arrowhead": 0,
           "arrowwidth": 1
          },
          "autotypenumbers": "strict",
          "coloraxis": {
           "colorbar": {
            "outlinewidth": 1,
            "tickcolor": "rgb(36,36,36)",
            "ticks": "outside"
           }
          },
          "colorscale": {
           "diverging": [
            [
             0,
             "rgb(103,0,31)"
            ],
            [
             0.1,
             "rgb(178,24,43)"
            ],
            [
             0.2,
             "rgb(214,96,77)"
            ],
            [
             0.3,
             "rgb(244,165,130)"
            ],
            [
             0.4,
             "rgb(253,219,199)"
            ],
            [
             0.5,
             "rgb(247,247,247)"
            ],
            [
             0.6,
             "rgb(209,229,240)"
            ],
            [
             0.7,
             "rgb(146,197,222)"
            ],
            [
             0.8,
             "rgb(67,147,195)"
            ],
            [
             0.9,
             "rgb(33,102,172)"
            ],
            [
             1,
             "rgb(5,48,97)"
            ]
           ],
           "sequential": [
            [
             0,
             "#440154"
            ],
            [
             0.1111111111111111,
             "#482878"
            ],
            [
             0.2222222222222222,
             "#3e4989"
            ],
            [
             0.3333333333333333,
             "#31688e"
            ],
            [
             0.4444444444444444,
             "#26828e"
            ],
            [
             0.5555555555555556,
             "#1f9e89"
            ],
            [
             0.6666666666666666,
             "#35b779"
            ],
            [
             0.7777777777777778,
             "#6ece58"
            ],
            [
             0.8888888888888888,
             "#b5de2b"
            ],
            [
             1,
             "#fde725"
            ]
           ],
           "sequentialminus": [
            [
             0,
             "#440154"
            ],
            [
             0.1111111111111111,
             "#482878"
            ],
            [
             0.2222222222222222,
             "#3e4989"
            ],
            [
             0.3333333333333333,
             "#31688e"
            ],
            [
             0.4444444444444444,
             "#26828e"
            ],
            [
             0.5555555555555556,
             "#1f9e89"
            ],
            [
             0.6666666666666666,
             "#35b779"
            ],
            [
             0.7777777777777778,
             "#6ece58"
            ],
            [
             0.8888888888888888,
             "#b5de2b"
            ],
            [
             1,
             "#fde725"
            ]
           ]
          },
          "colorway": [
           "#1F77B4",
           "#FF7F0E",
           "#2CA02C",
           "#D62728",
           "#9467BD",
           "#8C564B",
           "#E377C2",
           "#7F7F7F",
           "#BCBD22",
           "#17BECF"
          ],
          "font": {
           "color": "rgb(36,36,36)"
          },
          "geo": {
           "bgcolor": "white",
           "lakecolor": "white",
           "landcolor": "white",
           "showlakes": true,
           "showland": true,
           "subunitcolor": "white"
          },
          "hoverlabel": {
           "align": "left"
          },
          "hovermode": "closest",
          "mapbox": {
           "style": "light"
          },
          "paper_bgcolor": "white",
          "plot_bgcolor": "white",
          "polar": {
           "angularaxis": {
            "gridcolor": "rgb(232,232,232)",
            "linecolor": "rgb(36,36,36)",
            "showgrid": false,
            "showline": true,
            "ticks": "outside"
           },
           "bgcolor": "white",
           "radialaxis": {
            "gridcolor": "rgb(232,232,232)",
            "linecolor": "rgb(36,36,36)",
            "showgrid": false,
            "showline": true,
            "ticks": "outside"
           }
          },
          "scene": {
           "xaxis": {
            "backgroundcolor": "white",
            "gridcolor": "rgb(232,232,232)",
            "gridwidth": 2,
            "linecolor": "rgb(36,36,36)",
            "showbackground": true,
            "showgrid": false,
            "showline": true,
            "ticks": "outside",
            "zeroline": false,
            "zerolinecolor": "rgb(36,36,36)"
           },
           "yaxis": {
            "backgroundcolor": "white",
            "gridcolor": "rgb(232,232,232)",
            "gridwidth": 2,
            "linecolor": "rgb(36,36,36)",
            "showbackground": true,
            "showgrid": false,
            "showline": true,
            "ticks": "outside",
            "zeroline": false,
            "zerolinecolor": "rgb(36,36,36)"
           },
           "zaxis": {
            "backgroundcolor": "white",
            "gridcolor": "rgb(232,232,232)",
            "gridwidth": 2,
            "linecolor": "rgb(36,36,36)",
            "showbackground": true,
            "showgrid": false,
            "showline": true,
            "ticks": "outside",
            "zeroline": false,
            "zerolinecolor": "rgb(36,36,36)"
           }
          },
          "shapedefaults": {
           "fillcolor": "black",
           "line": {
            "width": 0
           },
           "opacity": 0.3
          },
          "ternary": {
           "aaxis": {
            "gridcolor": "rgb(232,232,232)",
            "linecolor": "rgb(36,36,36)",
            "showgrid": false,
            "showline": true,
            "ticks": "outside"
           },
           "baxis": {
            "gridcolor": "rgb(232,232,232)",
            "linecolor": "rgb(36,36,36)",
            "showgrid": false,
            "showline": true,
            "ticks": "outside"
           },
           "bgcolor": "white",
           "caxis": {
            "gridcolor": "rgb(232,232,232)",
            "linecolor": "rgb(36,36,36)",
            "showgrid": false,
            "showline": true,
            "ticks": "outside"
           }
          },
          "title": {
           "x": 0.05
          },
          "xaxis": {
           "automargin": true,
           "gridcolor": "rgb(232,232,232)",
           "linecolor": "rgb(36,36,36)",
           "showgrid": false,
           "showline": true,
           "ticks": "outside",
           "title": {
            "standoff": 15
           },
           "zeroline": false,
           "zerolinecolor": "rgb(36,36,36)"
          },
          "yaxis": {
           "automargin": true,
           "gridcolor": "rgb(232,232,232)",
           "linecolor": "rgb(36,36,36)",
           "showgrid": false,
           "showline": true,
           "ticks": "outside",
           "title": {
            "standoff": 15
           },
           "zeroline": false,
           "zerolinecolor": "rgb(36,36,36)"
          }
         }
        },
        "title": {
         "text": "Months of Data Metered vs PTAC Count"
        },
        "xaxis": {
         "title": {
          "text": "PTAC Count"
         }
        },
        "yaxis": {
         "title": {
          "text": "Months of Metering"
         }
        }
       }
      }
     },
     "metadata": {},
     "output_type": "display_data"
    }
   ],
   "source": [
    "minutes_of_data = (~csv_df.isna()).astype(int).groupby(circuit_df['full_address'], axis=1).median().sum() / (1440*30.25)\n",
    "ptac_count = circuit_df[['full_address', 'description']].drop_duplicates().groupby('full_address').count()['description']\n",
    "\n",
    "fig = go.Figure(data=[go.Scatter(x=ptac_count, y=minutes_of_data, mode='markers+text', marker=dict(size=10, color='blue'))])\n",
    "fig.update_yaxes(title='Months of Metering')\n",
    "fig.update_xaxes(title='PTAC Count')\n",
    "fig.update_layout(template='simple_white', title='Months of Data Metered vs PTAC Count')"
   ]
  },
  {
   "cell_type": "code",
   "execution_count": 4,
   "metadata": {},
   "outputs": [
    {
     "data": {
      "text/plain": [
       "14.794329660238752"
      ]
     },
     "execution_count": 4,
     "metadata": {},
     "output_type": "execute_result"
    }
   ],
   "source": [
    "minutes_of_data.median()"
   ]
  },
  {
   "cell_type": "code",
   "execution_count": 5,
   "metadata": {},
   "outputs": [],
   "source": [
    "ptacs_df = csv_df.groupby([circuit_df['full_address'], circuit_df['description']], axis=1).sum()"
   ]
  },
  {
   "cell_type": "code",
   "execution_count": 6,
   "metadata": {},
   "outputs": [
    {
     "data": {
      "text/plain": [
       "{('11 Sherwood Ridge Road_Brevard_NC',\n",
       "  'Thru Wall Unit Corridor'): 0.8433518483446749,\n",
       " ('11 Sherwood Ridge Road_Brevard_NC',\n",
       "  'Thru Wall Unit Rm 121'): 0.6760374467996788,\n",
       " ('11 Sherwood Ridge Road_Brevard_NC',\n",
       "  'Thru Wall Unit Rm 122'): 0.8916575427778141,\n",
       " ('11 Sherwood Ridge Road_Brevard_NC',\n",
       "  'Thru Wall Unit Rm 123'): 0.6658207868369849,\n",
       " ('11 Sherwood Ridge Road_Brevard_NC',\n",
       "  'Thru Wall Unit Rm 124'): 0.9285562304903902,\n",
       " ('11 Sherwood Ridge Road_Brevard_NC',\n",
       "  'Thru Wall Unit Rm 125'): 0.9128464763446551,\n",
       " ('11 Sherwood Ridge Road_Brevard_NC',\n",
       "  'Thru Wall Unit Rm 126'): 0.9150891630593689,\n",
       " ('11 Sherwood Ridge Road_Brevard_NC',\n",
       "  'Thru Wall Unit Rm 127'): 0.7508622246239661,\n",
       " ('11 Sherwood Ridge Road_Brevard_NC',\n",
       "  'Thru Wall Unit Rm 128'): 0.8828999443147141,\n",
       " ('1328 Southeast 2nd Street_Snow Hill_NC',\n",
       "  'HVAC - Rm 101'): 0.9352652631719668,\n",
       " ('1328 Southeast 2nd Street_Snow Hill_NC',\n",
       "  'HVAC - Rm 103'): 0.8383928085458676,\n",
       " ('1328 Southeast 2nd Street_Snow Hill_NC',\n",
       "  'HVAC - Rm 105'): 0.9249314628982959,\n",
       " ('1328 Southeast 2nd Street_Snow Hill_NC',\n",
       "  'HVAC - Rm 107'): 0.8957376654701917,\n",
       " ('1328 Southeast 2nd Street_Snow Hill_NC',\n",
       "  'HVAC - Rm 109'): 0.9348728041151863,\n",
       " ('1328 Southeast 2nd Street_Snow Hill_NC',\n",
       "  'HVAC - Rm 111'): 0.9068115041112712,\n",
       " ('186 One Center Court_Franklin_NC', 'PTAC 201'): 0.8660290224135492,\n",
       " ('186 One Center Court_Franklin_NC', 'PTAC 202'): 0.8269334934051231,\n",
       " ('186 One Center Court_Franklin_NC', 'PTAC 203'): 0.880660265588704,\n",
       " ('186 One Center Court_Franklin_NC', 'PTAC 204'): 0.9378798649549074,\n",
       " ('186 One Center Court_Franklin_NC', 'PTAC 205'): 0.835944826192401,\n",
       " ('186 One Center Court_Franklin_NC', 'PTAC 206'): 0.7298884036383998,\n",
       " ('2010 29th Avenue Drive Northeast_Hickory_NC',\n",
       "  'Room 102-1'): 0.9130900441235307,\n",
       " ('2010 29th Avenue Drive Northeast_Hickory_NC',\n",
       "  'Room 102-2'): 0.9180178511203264,\n",
       " ('2010 29th Avenue Drive Northeast_Hickory_NC',\n",
       "  'Room 103'): 0.8422976625325967,\n",
       " ('2010 29th Avenue Drive Northeast_Hickory_NC',\n",
       "  'Room 104'): 0.8608870450609467,\n",
       " ('2010 29th Avenue Drive Northeast_Hickory_NC',\n",
       "  'Room 105A'): 0.900790306936252,\n",
       " ('2010 29th Avenue Drive Northeast_Hickory_NC',\n",
       "  'Room 105B'): 0.9425913443904838,\n",
       " ('2010 29th Avenue Drive Northeast_Hickory_NC',\n",
       "  'Room 106A'): 0.9445557141201218,\n",
       " ('2010 29th Avenue Drive Northeast_Hickory_NC',\n",
       "  'Room 106B'): 0.9456618777470686,\n",
       " ('2010 29th Avenue Drive Northeast_Hickory_NC',\n",
       "  'Room 107'): 0.9169159706896371,\n",
       " ('2010 29th Avenue Drive Northeast_Hickory_NC',\n",
       "  'Room 108'): 0.8915185709087904,\n",
       " ('2010 29th Avenue Drive Northeast_Hickory_NC',\n",
       "  'Room 109'): 0.9209153717236898,\n",
       " ('2010 29th Avenue Drive Northeast_Hickory_NC',\n",
       "  'Room 110'): 0.9139100908819713,\n",
       " ('2010 29th Avenue Drive Northeast_Hickory_NC',\n",
       "  'Room 111'): 0.8501008454295598,\n",
       " ('2010 29th Avenue Drive Northeast_Hickory_NC',\n",
       "  'Room 112'): 0.8932683538531692,\n",
       " ('2010 29th Avenue Drive Northeast_Hickory_NC',\n",
       "  'Room 113A'): 0.8971651249858689,\n",
       " ('2010 29th Avenue Drive Northeast_Hickory_NC',\n",
       "  'Room 113B'): 0.9223201816471751,\n",
       " ('2010 29th Avenue Drive Northeast_Hickory_NC',\n",
       "  'Room 114'): 0.9325612614920773,\n",
       " ('2010 29th Avenue Drive Northeast_Hickory_NC',\n",
       "  'Room 116A'): 0.8978563535491644,\n",
       " ('2010 29th Avenue Drive Northeast_Hickory_NC',\n",
       "  'Room 116B'): 0.892013837095844,\n",
       " ('2010 29th Avenue Drive Northeast_Hickory_NC',\n",
       "  'Room 202A'): 0.9184705665490355,\n",
       " ('2010 29th Avenue Drive Northeast_Hickory_NC',\n",
       "  'Room 202B'): 0.9218422995114194,\n",
       " ('2010 29th Avenue Drive Northeast_Hickory_NC',\n",
       "  'Room 203A'): 0.9527895813062515,\n",
       " ('2010 29th Avenue Drive Northeast_Hickory_NC',\n",
       "  'Room 203B'): 0.9489417035542497,\n",
       " ('2010 29th Avenue Drive Northeast_Hickory_NC',\n",
       "  'Room 204'): 0.8975133115331142,\n",
       " ('2010 29th Avenue Drive Northeast_Hickory_NC',\n",
       "  'Room 205'): 0.840316088377824,\n",
       " ('2010 29th Avenue Drive Northeast_Hickory_NC',\n",
       "  'Room 206'): 0.9054043911925344,\n",
       " ('2010 29th Avenue Drive Northeast_Hickory_NC',\n",
       "  'Room 207'): 0.9038423171707229,\n",
       " ('2010 29th Avenue Drive Northeast_Hickory_NC',\n",
       "  'Room 208'): 0.877900699513382,\n",
       " ('2010 29th Avenue Drive Northeast_Hickory_NC',\n",
       "  'Room 209'): 0.5189985739787703,\n",
       " ('2010 29th Avenue Drive Northeast_Hickory_NC',\n",
       "  'Room 210'): 0.9156703536186945,\n",
       " ('2010 29th Avenue Drive Northeast_Hickory_NC',\n",
       "  'Room 211'): 0.9242894776091753,\n",
       " ('2010 29th Avenue Drive Northeast_Hickory_NC',\n",
       "  'Room 212'): 0.9010044541059864,\n",
       " ('2010 29th Avenue Drive Northeast_Hickory_NC',\n",
       "  'Room 213'): 0.8919289672357432,\n",
       " ('2010 29th Avenue Drive Northeast_Hickory_NC',\n",
       "  'Room 214'): 0.8671873886728714,\n",
       " ('2010 29th Avenue Drive Northeast_Hickory_NC',\n",
       "  'Room 215'): 0.8660498143552599,\n",
       " ('2010 29th Avenue Drive Northeast_Hickory_NC',\n",
       "  'Room 216A'): 0.9205700751403953,\n",
       " ('2010 29th Avenue Drive Northeast_Hickory_NC',\n",
       "  'Room 216B'): 0.8385061771025168,\n",
       " ('2010 29th Avenue Drive Northeast_Hickory_NC',\n",
       "  'Room 217A'): 0.940834136081487,\n",
       " ('2010 29th Avenue Drive Northeast_Hickory_NC',\n",
       "  'Room 217B'): 0.9300421493508468,\n",
       " ('2010 29th Avenue Drive Northeast_Hickory_NC',\n",
       "  'Room 301'): 0.8662278742770474,\n",
       " ('2010 29th Avenue Drive Northeast_Hickory_NC',\n",
       "  'Room 302'): 0.795492077746153,\n",
       " ('2010 29th Avenue Drive Northeast_Hickory_NC',\n",
       "  'Room 303'): 0.8583743175498579,\n",
       " ('2010 29th Avenue Drive Northeast_Hickory_NC',\n",
       "  'Room 304'): 0.9000905460602012,\n",
       " ('2010 29th Avenue Drive Northeast_Hickory_NC',\n",
       "  'Room 305'): 0.8458273995741944,\n",
       " ('2010 29th Avenue Drive Northeast_Hickory_NC',\n",
       "  'Room 306'): 0.8746028774339348,\n",
       " ('2010 29th Avenue Drive Northeast_Hickory_NC',\n",
       "  'Room 307'): 0.8231986943716187,\n",
       " ('2010 29th Avenue Drive Northeast_Hickory_NC',\n",
       "  'Room 308'): 0.777327111282713,\n",
       " ('2010 29th Avenue Drive Northeast_Hickory_NC',\n",
       "  'Room 309'): 0.8183993168674034,\n",
       " ('2010 29th Avenue Drive Northeast_Hickory_NC',\n",
       "  'Room 310'): 0.823881261468479,\n",
       " ('2010 29th Avenue Drive Northeast_Hickory_NC',\n",
       "  'Room 311'): 0.8291648693689158,\n",
       " ('2010 29th Avenue Drive Northeast_Hickory_NC',\n",
       "  'Room 312'): 0.8247084696974735,\n",
       " ('240 Independence Avenue_North Wilkesboro_NC',\n",
       "  'Through Wall Unit - 101'): 0.9484585741811176,\n",
       " ('240 Independence Avenue_North Wilkesboro_NC',\n",
       "  'Through Wall Unit - 216'): 0.8540593643618107,\n",
       " ('240 Independence Avenue_North Wilkesboro_NC',\n",
       "  'Through Wall Unit - 217'): 0.8624963662583576,\n",
       " ('240 Independence Avenue_North Wilkesboro_NC',\n",
       "  'Through Wall Unit - 218'): 0.9351474750123264,\n",
       " ('240 Independence Avenue_North Wilkesboro_NC',\n",
       "  'Through Wall Unit - 219'): 0.8914797030370861,\n",
       " ('240 Independence Avenue_North Wilkesboro_NC',\n",
       "  'Through Wall Unit - 301'): 0.9032116175319395,\n",
       " ('240 Independence Avenue_North Wilkesboro_NC',\n",
       "  'Through Wall Unit - 302'): 0.8916261492598567,\n",
       " ('240 Independence Avenue_North Wilkesboro_NC',\n",
       "  'Through Wall Unit - 303'): 0.853682286530741,\n",
       " ('240 Independence Avenue_North Wilkesboro_NC',\n",
       "  'Through Wall Unit - 304'): 0.9085325652225957,\n",
       " ('240 Independence Avenue_North Wilkesboro_NC',\n",
       "  'Through Wall Unit - 305'): 0.8793287734876549,\n",
       " ('240 Independence Avenue_North Wilkesboro_NC',\n",
       "  'Through Wall Unit - 306'): 0.8829223654942405,\n",
       " ('240 Independence Avenue_North Wilkesboro_NC',\n",
       "  'Through Wall Unit - 307'): 0.7629181930109897,\n",
       " ('240 Independence Avenue_North Wilkesboro_NC',\n",
       "  'Through Wall Unit - 308'): 0.8266111219308288,\n",
       " ('240 Independence Avenue_North Wilkesboro_NC',\n",
       "  'Through Wall Unit - 310'): 0.8758228113858381,\n",
       " ('27669 Highway 125_Scotland Neck_NC',\n",
       "  'CABLE BOARD RM 624'): 0.4778240919790488,\n",
       " ('27669 Highway 125_Scotland Neck_NC', 'TWL-1 RM 302 A'): 0.9117108083976718,\n",
       " ('27669 Highway 125_Scotland Neck_NC', 'TWV-1 RM 205 A'): 0.9257253902090824,\n",
       " ('27669 Highway 125_Scotland Neck_NC', 'TWV-1 RM 205 B'): 0.9246052549907133,\n",
       " ('27669 Highway 125_Scotland Neck_NC', 'TWV-1 RM 301'): 0.8551998433911545,\n",
       " ('27669 Highway 125_Scotland Neck_NC', 'TWV-1 RM 302 B'): 0.8950997665191297,\n",
       " ('27669 Highway 125_Scotland Neck_NC', 'TWV-1 RM 601 A'): 0.7537774721995426,\n",
       " ('27669 Highway 125_Scotland Neck_NC', 'TWV-1 RM 601 B'): 0.9028939213804497,\n",
       " ('27669 Highway 125_Scotland Neck_NC', 'TWV-2 RM 303'): 0.8675003222895449,\n",
       " ('27669 Highway 125_Scotland Neck_NC', 'TWV-2 RM 304'): 0.8734103963445203,\n",
       " ('27669 Highway 125_Scotland Neck_NC', 'TWV-2 RM 305'): 0.7372608659365524,\n",
       " ('27669 Highway 125_Scotland Neck_NC', 'TWV-2 RM 306'): 0.8533205372447348,\n",
       " ('27669 Highway 125_Scotland Neck_NC', 'TWV-2 RM 307'): 0.8238809390801141,\n",
       " ('314 Hughes Branch Road_Bryson City_NC', 'TWU Unit 301'): 0.8579419153471376,\n",
       " ('314 Hughes Branch Road_Bryson City_NC', 'TWU Unit 302'): 0.8051951386511469,\n",
       " ('314 Hughes Branch Road_Bryson City_NC', 'TWU Unit 303'): 0.9006647266917722,\n",
       " ('314 Hughes Branch Road_Bryson City_NC',\n",
       "  'TWU Unit 304A'): 0.8615004691484524,\n",
       " ('314 Hughes Branch Road_Bryson City_NC',\n",
       "  'TWU Unit 304B'): 0.9016400677748845,\n",
       " ('314 Hughes Branch Road_Bryson City_NC', 'TWU Unit 305'): 0.8032785014629545,\n",
       " ('314 Hughes Branch Road_Bryson City_NC',\n",
       "  'TWU Unit 306A'): 0.9141779224967252,\n",
       " ('314 Hughes Branch Road_Bryson City_NC',\n",
       "  'TWU Unit 306B'): 0.9005542776561158,\n",
       " ('314 Hughes Branch Road_Bryson City_NC',\n",
       "  'TWU Unit 307B'): 0.8977957303212626,\n",
       " ('314 Hughes Branch Road_Bryson City_NC', 'TWU Unit 308'): 0.8788372990891853,\n",
       " ('314 Hughes Branch Road_Bryson City_NC',\n",
       "  'TWU Unit 309A'): 0.9075783121416746,\n",
       " ('314 Hughes Branch Road_Bryson City_NC', 'TWU Unit 309B'): 0.923965622775391,\n",
       " ('314 Hughes Branch Road_Bryson City_NC', 'TWU Unit 311'): 0.8625685102853414,\n",
       " ('330 Juniper Street_Morganton_NC', '301 TWU-1'): 0.9526854679806009,\n",
       " ('330 Juniper Street_Morganton_NC', '302A TWU-1'): 0.9739927856960321,\n",
       " ('330 Juniper Street_Morganton_NC', '302B TWU-1'): 0.9314889938152557,\n",
       " ('330 Juniper Street_Morganton_NC', '303 TWU-1'): 0.9687025679481222,\n",
       " ('330 Juniper Street_Morganton_NC', '304 TWU-1'): 0.9358861566467211,\n",
       " ('330 Juniper Street_Morganton_NC', '305 TWU-1'): 0.9097808185803996,\n",
       " ('337 Hospital Street_Mocksville_NC',\n",
       "  'Through Wall Unit Dining Room 127'): 0.8658354574209993,\n",
       " ('337 Hospital Street_Mocksville_NC',\n",
       "  'Through Wall Unit Dining Room 402'): 0.8697808754951613,\n",
       " ('337 Hospital Street_Mocksville_NC',\n",
       "  'Through Wall Unit Living Room 146'): 0.8690674609143877,\n",
       " ('337 Hospital Street_Mocksville_NC',\n",
       "  'Through Wall Unit Room 100'): 0.7341838668723136,\n",
       " ('337 Hospital Street_Mocksville_NC',\n",
       "  'Through Wall Unit Room 105'): 0.8489106973554152,\n",
       " ('337 Hospital Street_Mocksville_NC',\n",
       "  'Through Wall Unit Room 108'): 0.6526609031525594,\n",
       " ('337 Hospital Street_Mocksville_NC',\n",
       "  'Through Wall Unit Room 115'): 0.853537293763316,\n",
       " ('337 Hospital Street_Mocksville_NC',\n",
       "  'Through Wall Unit Room 119'): 0.8163223437624136,\n",
       " ('337 Hospital Street_Mocksville_NC',\n",
       "  'Through Wall Unit Room 127'): 0.7748034954642,\n",
       " ('337 Hospital Street_Mocksville_NC',\n",
       "  'Through Wall Unit Room 138'): 0.9084857965311767,\n",
       " ('337 Hospital Street_Mocksville_NC',\n",
       "  'Through Wall Unit Room 142'): 0.910217351855959,\n",
       " ('337 Hospital Street_Mocksville_NC',\n",
       "  'Through Wall Unit Room 404'): 0.9307570300532956,\n",
       " ('337 Hospital Street_Mocksville_NC',\n",
       "  'Through Wall Unit Room 408'): 0.9087981490745373,\n",
       " ('337 Hospital Street_Mocksville_NC',\n",
       "  'Through Wall Unit Room 411'): 0.8819765987996903,\n",
       " ('4968 Milestone Avenue_Kannapolis_NC', 'TW-50-6'): 0.8631919868007357,\n",
       " ('4968 Milestone Avenue_Kannapolis_NC', 'TW-503'): 0.8643596839480719,\n",
       " ('4968 Milestone Avenue_Kannapolis_NC', 'TW-504'): 0.8977053907764136,\n",
       " ('4968 Milestone Avenue_Kannapolis_NC', 'TW-505'): 0.8814591109409571,\n",
       " ('4968 Milestone Avenue_Kannapolis_NC', 'TW-601'): 0.8451264874529281,\n",
       " ('4968 Milestone Avenue_Kannapolis_NC', 'TW-602'): 0.9075113358183335,\n",
       " ('4968 Milestone Avenue_Kannapolis_NC', 'TW-603A'): 0.8994624803523955,\n",
       " ('4968 Milestone Avenue_Kannapolis_NC', 'TW-603B'): 0.9273073476702509,\n",
       " ('4968 Milestone Avenue_Kannapolis_NC', 'TW-604A'): 0.9009032835353793,\n",
       " ('4968 Milestone Avenue_Kannapolis_NC', 'TW-604B'): 0.8933031256684261,\n",
       " ('4968 Milestone Avenue_Kannapolis_NC', 'TW-605A'): 0.9655513223614098,\n",
       " ('4968 Milestone Avenue_Kannapolis_NC', 'TW-605B'): 0.9529782412479392,\n",
       " ('4968 Milestone Avenue_Kannapolis_NC', 'TW-606A'): 0.9101194044313303,\n",
       " ('4968 Milestone Avenue_Kannapolis_NC', 'TW-606B'): 0.8136743676144098,\n",
       " ('4968 Milestone Avenue_Kannapolis_NC', 'TW-607'): 0.9143436898152479,\n",
       " ('4968 Milestone Avenue_Kannapolis_NC', 'TW-608'): 0.8696638290840462,\n",
       " ('4968 Milestone Avenue_Kannapolis_NC', 'TW-708 LOUNGE'): 0.8238188345243632,\n",
       " ('632 Freeman Mill Road_Hamlet_NC', 'Thru Wall - 101'): 0.7710435188135568,\n",
       " ('632 Freeman Mill Road_Hamlet_NC', 'Thru Wall - 107'): 0.8975476697667168,\n",
       " ('632 Freeman Mill Road_Hamlet_NC', 'Thru Wall - 109'): 0.8678454563497631,\n",
       " ('632 Freeman Mill Road_Hamlet_NC', 'Thru Wall - 111'): 0.9558941459502807,\n",
       " ('632 Freeman Mill Road_Hamlet_NC', 'Thru Wall - 113'): 0.8803383880466744,\n",
       " ('632 Freeman Mill Road_Hamlet_NC', 'Thru Wall - 115'): 0.9085136769795861,\n",
       " ('632 Freeman Mill Road_Hamlet_NC', 'Thru Wall - 117'): 0.8312385178500321,\n",
       " ('632 Freeman Mill Road_Hamlet_NC', 'Thru Wall - 118'): 0.8370490501217988,\n",
       " ('632 Freeman Mill Road_Hamlet_NC', 'Thru Wall - 119'): 0.9316102896187947,\n",
       " ('632 Freeman Mill Road_Hamlet_NC', 'Thru Wall - 120'): 0.7525394140450063,\n",
       " ('632 Freeman Mill Road_Hamlet_NC', 'Thru Wall - 121'): 0.7825310587058508,\n",
       " ('632 Freeman Mill Road_Hamlet_NC', 'Thru Wall - 122'): 0.7002510331718977,\n",
       " ('632 Freeman Mill Road_Hamlet_NC', 'Thru Wall - 125'): 0.8532813436938487,\n",
       " ('632 Freeman Mill Road_Hamlet_NC', 'Thru Wall - 126'): 0.991119457585407,\n",
       " ('632 Freeman Mill Road_Hamlet_NC', 'Thru Wall - 127'): 0.7783429416972514,\n",
       " ('632 Freeman Mill Road_Hamlet_NC', 'Thru Wall - 128'): 0.803585159753771,\n",
       " ('632 Freeman Mill Road_Hamlet_NC', 'Thru Wall - 129'): 0.8772321590933888,\n",
       " ('632 Freeman Mill Road_Hamlet_NC', 'Thru Wall - 130'): 0.9516381255393701,\n",
       " ('632 Freeman Mill Road_Hamlet_NC', 'Thru Wall - 131'): 0.5544624764376295,\n",
       " ('632 Freeman Mill Road_Hamlet_NC', 'Thru Wall - 132'): 0.9929415028493547}"
      ]
     },
     "execution_count": 6,
     "metadata": {},
     "output_type": "execute_result"
    }
   ],
   "source": [
    "pct_zeros = {}\n",
    "\n",
    "for col in ptacs_df.columns:\n",
    "    start = ptacs_df[col].replace(0, None).first_valid_index()\n",
    "    \n",
    "    if start is not None:\n",
    "        valid = ptacs_df[col].loc[start:]\n",
    "        pct_zeros[col] = valid[valid == 0].count() / valid.count()\n",
    "\n",
    "pct_zeros"
   ]
  },
  {
   "cell_type": "code",
   "execution_count": 7,
   "metadata": {},
   "outputs": [
    {
     "name": "stdout",
     "output_type": "stream",
     "text": [
      "count   169.000\n",
      "mean      0.869\n",
      "std       0.077\n",
      "min       0.478\n",
      "25%       0.845\n",
      "50%       0.892\n",
      "75%       0.914\n",
      "max       0.993\n",
      "dtype: float64\n"
     ]
    },
    {
     "data": {
      "application/vnd.plotly.v1+json": {
       "config": {
        "plotlyServerURL": "https://plot.ly"
       },
       "data": [
        {
         "type": "histogram",
         "x": [
          0.8433518483446749,
          0.6760374467996788,
          0.8916575427778141,
          0.6658207868369849,
          0.9285562304903902,
          0.9128464763446551,
          0.9150891630593689,
          0.7508622246239661,
          0.8828999443147141,
          0.9352652631719668,
          0.8383928085458676,
          0.9249314628982959,
          0.8957376654701917,
          0.9348728041151863,
          0.9068115041112712,
          0.8660290224135492,
          0.8269334934051231,
          0.880660265588704,
          0.9378798649549074,
          0.835944826192401,
          0.7298884036383998,
          0.9130900441235307,
          0.9180178511203264,
          0.8422976625325967,
          0.8608870450609467,
          0.900790306936252,
          0.9425913443904838,
          0.9445557141201218,
          0.9456618777470686,
          0.9169159706896371,
          0.8915185709087904,
          0.9209153717236898,
          0.9139100908819713,
          0.8501008454295598,
          0.8932683538531692,
          0.8971651249858689,
          0.9223201816471751,
          0.9325612614920773,
          0.8978563535491644,
          0.892013837095844,
          0.9184705665490355,
          0.9218422995114194,
          0.9527895813062515,
          0.9489417035542497,
          0.8975133115331142,
          0.840316088377824,
          0.9054043911925344,
          0.9038423171707229,
          0.877900699513382,
          0.5189985739787703,
          0.9156703536186945,
          0.9242894776091753,
          0.9010044541059864,
          0.8919289672357432,
          0.8671873886728714,
          0.8660498143552599,
          0.9205700751403953,
          0.8385061771025168,
          0.940834136081487,
          0.9300421493508468,
          0.8662278742770474,
          0.795492077746153,
          0.8583743175498579,
          0.9000905460602012,
          0.8458273995741944,
          0.8746028774339348,
          0.8231986943716187,
          0.777327111282713,
          0.8183993168674034,
          0.823881261468479,
          0.8291648693689158,
          0.8247084696974735,
          0.9484585741811176,
          0.8540593643618107,
          0.8624963662583576,
          0.9351474750123264,
          0.8914797030370861,
          0.9032116175319395,
          0.8916261492598567,
          0.853682286530741,
          0.9085325652225957,
          0.8793287734876549,
          0.8829223654942405,
          0.7629181930109897,
          0.8266111219308288,
          0.8758228113858381,
          0.4778240919790488,
          0.9117108083976718,
          0.9257253902090824,
          0.9246052549907133,
          0.8551998433911545,
          0.8950997665191297,
          0.7537774721995426,
          0.9028939213804497,
          0.8675003222895449,
          0.8734103963445203,
          0.7372608659365524,
          0.8533205372447348,
          0.8238809390801141,
          0.8579419153471376,
          0.8051951386511469,
          0.9006647266917722,
          0.8615004691484524,
          0.9016400677748845,
          0.8032785014629545,
          0.9141779224967252,
          0.9005542776561158,
          0.8977957303212626,
          0.8788372990891853,
          0.9075783121416746,
          0.923965622775391,
          0.8625685102853414,
          0.9526854679806009,
          0.9739927856960321,
          0.9314889938152557,
          0.9687025679481222,
          0.9358861566467211,
          0.9097808185803996,
          0.8658354574209993,
          0.8697808754951613,
          0.8690674609143877,
          0.7341838668723136,
          0.8489106973554152,
          0.6526609031525594,
          0.853537293763316,
          0.8163223437624136,
          0.7748034954642,
          0.9084857965311767,
          0.910217351855959,
          0.9307570300532956,
          0.9087981490745373,
          0.8819765987996903,
          0.8631919868007357,
          0.8643596839480719,
          0.8977053907764136,
          0.8814591109409571,
          0.8451264874529281,
          0.9075113358183335,
          0.8994624803523955,
          0.9273073476702509,
          0.9009032835353793,
          0.8933031256684261,
          0.9655513223614098,
          0.9529782412479392,
          0.9101194044313303,
          0.8136743676144098,
          0.9143436898152479,
          0.8696638290840462,
          0.8238188345243632,
          0.7710435188135568,
          0.8975476697667168,
          0.8678454563497631,
          0.9558941459502807,
          0.8803383880466744,
          0.9085136769795861,
          0.8312385178500321,
          0.8370490501217988,
          0.9316102896187947,
          0.7525394140450063,
          0.7825310587058508,
          0.7002510331718977,
          0.8532813436938487,
          0.991119457585407,
          0.7783429416972514,
          0.803585159753771,
          0.8772321590933888,
          0.9516381255393701,
          0.5544624764376295,
          0.9929415028493547
         ]
        }
       ],
       "layout": {
        "template": {
         "data": {
          "bar": [
           {
            "error_x": {
             "color": "#2a3f5f"
            },
            "error_y": {
             "color": "#2a3f5f"
            },
            "marker": {
             "line": {
              "color": "#E5ECF6",
              "width": 0.5
             },
             "pattern": {
              "fillmode": "overlay",
              "size": 10,
              "solidity": 0.2
             }
            },
            "type": "bar"
           }
          ],
          "barpolar": [
           {
            "marker": {
             "line": {
              "color": "#E5ECF6",
              "width": 0.5
             },
             "pattern": {
              "fillmode": "overlay",
              "size": 10,
              "solidity": 0.2
             }
            },
            "type": "barpolar"
           }
          ],
          "carpet": [
           {
            "aaxis": {
             "endlinecolor": "#2a3f5f",
             "gridcolor": "white",
             "linecolor": "white",
             "minorgridcolor": "white",
             "startlinecolor": "#2a3f5f"
            },
            "baxis": {
             "endlinecolor": "#2a3f5f",
             "gridcolor": "white",
             "linecolor": "white",
             "minorgridcolor": "white",
             "startlinecolor": "#2a3f5f"
            },
            "type": "carpet"
           }
          ],
          "choropleth": [
           {
            "colorbar": {
             "outlinewidth": 0,
             "ticks": ""
            },
            "type": "choropleth"
           }
          ],
          "contour": [
           {
            "colorbar": {
             "outlinewidth": 0,
             "ticks": ""
            },
            "colorscale": [
             [
              0,
              "#0d0887"
             ],
             [
              0.1111111111111111,
              "#46039f"
             ],
             [
              0.2222222222222222,
              "#7201a8"
             ],
             [
              0.3333333333333333,
              "#9c179e"
             ],
             [
              0.4444444444444444,
              "#bd3786"
             ],
             [
              0.5555555555555556,
              "#d8576b"
             ],
             [
              0.6666666666666666,
              "#ed7953"
             ],
             [
              0.7777777777777778,
              "#fb9f3a"
             ],
             [
              0.8888888888888888,
              "#fdca26"
             ],
             [
              1,
              "#f0f921"
             ]
            ],
            "type": "contour"
           }
          ],
          "contourcarpet": [
           {
            "colorbar": {
             "outlinewidth": 0,
             "ticks": ""
            },
            "type": "contourcarpet"
           }
          ],
          "heatmap": [
           {
            "colorbar": {
             "outlinewidth": 0,
             "ticks": ""
            },
            "colorscale": [
             [
              0,
              "#0d0887"
             ],
             [
              0.1111111111111111,
              "#46039f"
             ],
             [
              0.2222222222222222,
              "#7201a8"
             ],
             [
              0.3333333333333333,
              "#9c179e"
             ],
             [
              0.4444444444444444,
              "#bd3786"
             ],
             [
              0.5555555555555556,
              "#d8576b"
             ],
             [
              0.6666666666666666,
              "#ed7953"
             ],
             [
              0.7777777777777778,
              "#fb9f3a"
             ],
             [
              0.8888888888888888,
              "#fdca26"
             ],
             [
              1,
              "#f0f921"
             ]
            ],
            "type": "heatmap"
           }
          ],
          "heatmapgl": [
           {
            "colorbar": {
             "outlinewidth": 0,
             "ticks": ""
            },
            "colorscale": [
             [
              0,
              "#0d0887"
             ],
             [
              0.1111111111111111,
              "#46039f"
             ],
             [
              0.2222222222222222,
              "#7201a8"
             ],
             [
              0.3333333333333333,
              "#9c179e"
             ],
             [
              0.4444444444444444,
              "#bd3786"
             ],
             [
              0.5555555555555556,
              "#d8576b"
             ],
             [
              0.6666666666666666,
              "#ed7953"
             ],
             [
              0.7777777777777778,
              "#fb9f3a"
             ],
             [
              0.8888888888888888,
              "#fdca26"
             ],
             [
              1,
              "#f0f921"
             ]
            ],
            "type": "heatmapgl"
           }
          ],
          "histogram": [
           {
            "marker": {
             "pattern": {
              "fillmode": "overlay",
              "size": 10,
              "solidity": 0.2
             }
            },
            "type": "histogram"
           }
          ],
          "histogram2d": [
           {
            "colorbar": {
             "outlinewidth": 0,
             "ticks": ""
            },
            "colorscale": [
             [
              0,
              "#0d0887"
             ],
             [
              0.1111111111111111,
              "#46039f"
             ],
             [
              0.2222222222222222,
              "#7201a8"
             ],
             [
              0.3333333333333333,
              "#9c179e"
             ],
             [
              0.4444444444444444,
              "#bd3786"
             ],
             [
              0.5555555555555556,
              "#d8576b"
             ],
             [
              0.6666666666666666,
              "#ed7953"
             ],
             [
              0.7777777777777778,
              "#fb9f3a"
             ],
             [
              0.8888888888888888,
              "#fdca26"
             ],
             [
              1,
              "#f0f921"
             ]
            ],
            "type": "histogram2d"
           }
          ],
          "histogram2dcontour": [
           {
            "colorbar": {
             "outlinewidth": 0,
             "ticks": ""
            },
            "colorscale": [
             [
              0,
              "#0d0887"
             ],
             [
              0.1111111111111111,
              "#46039f"
             ],
             [
              0.2222222222222222,
              "#7201a8"
             ],
             [
              0.3333333333333333,
              "#9c179e"
             ],
             [
              0.4444444444444444,
              "#bd3786"
             ],
             [
              0.5555555555555556,
              "#d8576b"
             ],
             [
              0.6666666666666666,
              "#ed7953"
             ],
             [
              0.7777777777777778,
              "#fb9f3a"
             ],
             [
              0.8888888888888888,
              "#fdca26"
             ],
             [
              1,
              "#f0f921"
             ]
            ],
            "type": "histogram2dcontour"
           }
          ],
          "mesh3d": [
           {
            "colorbar": {
             "outlinewidth": 0,
             "ticks": ""
            },
            "type": "mesh3d"
           }
          ],
          "parcoords": [
           {
            "line": {
             "colorbar": {
              "outlinewidth": 0,
              "ticks": ""
             }
            },
            "type": "parcoords"
           }
          ],
          "pie": [
           {
            "automargin": true,
            "type": "pie"
           }
          ],
          "scatter": [
           {
            "fillpattern": {
             "fillmode": "overlay",
             "size": 10,
             "solidity": 0.2
            },
            "type": "scatter"
           }
          ],
          "scatter3d": [
           {
            "line": {
             "colorbar": {
              "outlinewidth": 0,
              "ticks": ""
             }
            },
            "marker": {
             "colorbar": {
              "outlinewidth": 0,
              "ticks": ""
             }
            },
            "type": "scatter3d"
           }
          ],
          "scattercarpet": [
           {
            "marker": {
             "colorbar": {
              "outlinewidth": 0,
              "ticks": ""
             }
            },
            "type": "scattercarpet"
           }
          ],
          "scattergeo": [
           {
            "marker": {
             "colorbar": {
              "outlinewidth": 0,
              "ticks": ""
             }
            },
            "type": "scattergeo"
           }
          ],
          "scattergl": [
           {
            "marker": {
             "colorbar": {
              "outlinewidth": 0,
              "ticks": ""
             }
            },
            "type": "scattergl"
           }
          ],
          "scattermapbox": [
           {
            "marker": {
             "colorbar": {
              "outlinewidth": 0,
              "ticks": ""
             }
            },
            "type": "scattermapbox"
           }
          ],
          "scatterpolar": [
           {
            "marker": {
             "colorbar": {
              "outlinewidth": 0,
              "ticks": ""
             }
            },
            "type": "scatterpolar"
           }
          ],
          "scatterpolargl": [
           {
            "marker": {
             "colorbar": {
              "outlinewidth": 0,
              "ticks": ""
             }
            },
            "type": "scatterpolargl"
           }
          ],
          "scatterternary": [
           {
            "marker": {
             "colorbar": {
              "outlinewidth": 0,
              "ticks": ""
             }
            },
            "type": "scatterternary"
           }
          ],
          "surface": [
           {
            "colorbar": {
             "outlinewidth": 0,
             "ticks": ""
            },
            "colorscale": [
             [
              0,
              "#0d0887"
             ],
             [
              0.1111111111111111,
              "#46039f"
             ],
             [
              0.2222222222222222,
              "#7201a8"
             ],
             [
              0.3333333333333333,
              "#9c179e"
             ],
             [
              0.4444444444444444,
              "#bd3786"
             ],
             [
              0.5555555555555556,
              "#d8576b"
             ],
             [
              0.6666666666666666,
              "#ed7953"
             ],
             [
              0.7777777777777778,
              "#fb9f3a"
             ],
             [
              0.8888888888888888,
              "#fdca26"
             ],
             [
              1,
              "#f0f921"
             ]
            ],
            "type": "surface"
           }
          ],
          "table": [
           {
            "cells": {
             "fill": {
              "color": "#EBF0F8"
             },
             "line": {
              "color": "white"
             }
            },
            "header": {
             "fill": {
              "color": "#C8D4E3"
             },
             "line": {
              "color": "white"
             }
            },
            "type": "table"
           }
          ]
         },
         "layout": {
          "annotationdefaults": {
           "arrowcolor": "#2a3f5f",
           "arrowhead": 0,
           "arrowwidth": 1
          },
          "autotypenumbers": "strict",
          "coloraxis": {
           "colorbar": {
            "outlinewidth": 0,
            "ticks": ""
           }
          },
          "colorscale": {
           "diverging": [
            [
             0,
             "#8e0152"
            ],
            [
             0.1,
             "#c51b7d"
            ],
            [
             0.2,
             "#de77ae"
            ],
            [
             0.3,
             "#f1b6da"
            ],
            [
             0.4,
             "#fde0ef"
            ],
            [
             0.5,
             "#f7f7f7"
            ],
            [
             0.6,
             "#e6f5d0"
            ],
            [
             0.7,
             "#b8e186"
            ],
            [
             0.8,
             "#7fbc41"
            ],
            [
             0.9,
             "#4d9221"
            ],
            [
             1,
             "#276419"
            ]
           ],
           "sequential": [
            [
             0,
             "#0d0887"
            ],
            [
             0.1111111111111111,
             "#46039f"
            ],
            [
             0.2222222222222222,
             "#7201a8"
            ],
            [
             0.3333333333333333,
             "#9c179e"
            ],
            [
             0.4444444444444444,
             "#bd3786"
            ],
            [
             0.5555555555555556,
             "#d8576b"
            ],
            [
             0.6666666666666666,
             "#ed7953"
            ],
            [
             0.7777777777777778,
             "#fb9f3a"
            ],
            [
             0.8888888888888888,
             "#fdca26"
            ],
            [
             1,
             "#f0f921"
            ]
           ],
           "sequentialminus": [
            [
             0,
             "#0d0887"
            ],
            [
             0.1111111111111111,
             "#46039f"
            ],
            [
             0.2222222222222222,
             "#7201a8"
            ],
            [
             0.3333333333333333,
             "#9c179e"
            ],
            [
             0.4444444444444444,
             "#bd3786"
            ],
            [
             0.5555555555555556,
             "#d8576b"
            ],
            [
             0.6666666666666666,
             "#ed7953"
            ],
            [
             0.7777777777777778,
             "#fb9f3a"
            ],
            [
             0.8888888888888888,
             "#fdca26"
            ],
            [
             1,
             "#f0f921"
            ]
           ]
          },
          "colorway": [
           "#636efa",
           "#EF553B",
           "#00cc96",
           "#ab63fa",
           "#FFA15A",
           "#19d3f3",
           "#FF6692",
           "#B6E880",
           "#FF97FF",
           "#FECB52"
          ],
          "font": {
           "color": "#2a3f5f"
          },
          "geo": {
           "bgcolor": "white",
           "lakecolor": "white",
           "landcolor": "#E5ECF6",
           "showlakes": true,
           "showland": true,
           "subunitcolor": "white"
          },
          "hoverlabel": {
           "align": "left"
          },
          "hovermode": "closest",
          "mapbox": {
           "style": "light"
          },
          "paper_bgcolor": "white",
          "plot_bgcolor": "#E5ECF6",
          "polar": {
           "angularaxis": {
            "gridcolor": "white",
            "linecolor": "white",
            "ticks": ""
           },
           "bgcolor": "#E5ECF6",
           "radialaxis": {
            "gridcolor": "white",
            "linecolor": "white",
            "ticks": ""
           }
          },
          "scene": {
           "xaxis": {
            "backgroundcolor": "#E5ECF6",
            "gridcolor": "white",
            "gridwidth": 2,
            "linecolor": "white",
            "showbackground": true,
            "ticks": "",
            "zerolinecolor": "white"
           },
           "yaxis": {
            "backgroundcolor": "#E5ECF6",
            "gridcolor": "white",
            "gridwidth": 2,
            "linecolor": "white",
            "showbackground": true,
            "ticks": "",
            "zerolinecolor": "white"
           },
           "zaxis": {
            "backgroundcolor": "#E5ECF6",
            "gridcolor": "white",
            "gridwidth": 2,
            "linecolor": "white",
            "showbackground": true,
            "ticks": "",
            "zerolinecolor": "white"
           }
          },
          "shapedefaults": {
           "line": {
            "color": "#2a3f5f"
           }
          },
          "ternary": {
           "aaxis": {
            "gridcolor": "white",
            "linecolor": "white",
            "ticks": ""
           },
           "baxis": {
            "gridcolor": "white",
            "linecolor": "white",
            "ticks": ""
           },
           "bgcolor": "#E5ECF6",
           "caxis": {
            "gridcolor": "white",
            "linecolor": "white",
            "ticks": ""
           }
          },
          "title": {
           "x": 0.05
          },
          "xaxis": {
           "automargin": true,
           "gridcolor": "white",
           "linecolor": "white",
           "ticks": "",
           "title": {
            "standoff": 15
           },
           "zerolinecolor": "white",
           "zerolinewidth": 2
          },
          "yaxis": {
           "automargin": true,
           "gridcolor": "white",
           "linecolor": "white",
           "ticks": "",
           "title": {
            "standoff": 15
           },
           "zerolinecolor": "white",
           "zerolinewidth": 2
          }
         }
        },
        "title": {
         "text": "Percentage of No Current Readings in PTAC Data"
        },
        "xaxis": {
         "ticktext": [
          "0%",
          "20%",
          "40%",
          "60%",
          "80%",
          "100%"
         ],
         "tickvals": [
          0,
          0.2,
          0.4,
          0.6,
          0.8,
          1
         ],
         "title": {
          "text": "Percentage of No Current Readings"
         }
        },
        "yaxis": {
         "title": {
          "text": "Number of PTACs"
         }
        }
       }
      }
     },
     "metadata": {},
     "output_type": "display_data"
    }
   ],
   "source": [
    "pct_zeros_series = pd.Series(pct_zeros)\n",
    "\n",
    "print(pct_zeros_series.describe())\n",
    "\n",
    "pct_zero_hist = go.Figure(data=[go.Histogram(x=pct_zeros_series)])\n",
    "pct_zero_hist.update_layout(title_text='Percentage of No Current Readings in PTAC Data')\n",
    "pct_zero_hist.update_xaxes(title_text='Percentage of No Current Readings', \n",
    "                           tickvals=[0, .2, .4, .6, .8, 1],\n",
    "                            ticktext=['0%', '20%', '40%', '60%', '80%', '100%'])\n",
    "pct_zero_hist.update_yaxes(title_text='Number of PTACs')\n"
   ]
  },
  {
   "cell_type": "code",
   "execution_count": 8,
   "metadata": {},
   "outputs": [
    {
     "name": "stdout",
     "output_type": "stream",
     "text": [
      "Number of unique circuits:  171\n",
      "Number of sites:  11\n"
     ]
    }
   ],
   "source": [
    "print(\"Number of unique circuits: \", circuit_df.filter(['address1', 'description']).drop_duplicates().shape[0])\n",
    "print(\"Number of sites: \", circuit_df.filter(['address1', 'city', 'state']).drop_duplicates().shape[0])"
   ]
  },
  {
   "cell_type": "code",
   "execution_count": 9,
   "metadata": {},
   "outputs": [],
   "source": [
    "ptacs_df = csv_df.groupby([circuit_df['full_address'], circuit_df['description']], axis=1).sum()\n",
    "# ptacs_df = ptacs_df.resample('H').sum()/60"
   ]
  },
  {
   "cell_type": "markdown",
   "metadata": {},
   "source": [
    "## Outage Detection"
   ]
  },
  {
   "cell_type": "code",
   "execution_count": 10,
   "metadata": {},
   "outputs": [],
   "source": [
    "class RulesBasedAnomalyDetector:\n",
    "    def __init__(self):\n",
    "        self.temp_based_anomalies = None\n",
    "        self.cohort_based_anomalies = None\n",
    "        self.consistent_outages = None\n",
    "\n",
    "    def load_data(self, all_ptacs_df, ptac_name, outside_temp):\n",
    "        \"\"\"_summary_\n",
    "\n",
    "        Parameters\n",
    "        ----------\n",
    "        all_ptacs_df : _type_\n",
    "            _description_\n",
    "        ptac_name : _type_\n",
    "            _description_\n",
    "        outside_temp : _type_\n",
    "            _description_\n",
    "        \"\"\"\n",
    "        self.all_ptacs_df = all_ptacs_df\n",
    "        self.ptac_name = ptac_name\n",
    "        self.kW = self.all_ptacs_df[ptac_name]\n",
    "        self.temp = outside_temp\n",
    "\n",
    "    def set_parameters(self, \n",
    "        temp_upper_threshold=70, \n",
    "        temp_lower_threshold=50, \n",
    "        temp_kW_scaled_threshold=0.2, \n",
    "        cohort_difference_threshold=0.025, \n",
    "        consistency_n_hours_lag=12, \n",
    "        consistency_threshold=.2):\n",
    "        \"\"\"Set the parameters for the anomaly detection methods.\n",
    "\n",
    "        Parameters\n",
    "        ----------\n",
    "        temp_upper_threshold : int\n",
    "            The upper temperature threshold for detecting anomalies.\n",
    "        temp_lower_threshold : int\n",
    "            The lower temperature threshold for detecting anomalies.\n",
    "        temp_kW_scaled_threshold : float\n",
    "            The kW scaled threshold for detecting anomalies.\n",
    "        cohort_difference_threshold : float\n",
    "            The cohort difference threshold for detecting anomalies.\n",
    "        consistency_n_hours_lag : int\n",
    "            The number of hours to lag for detecting anomalies.\n",
    "        consistency_threshold : float\n",
    "            The consistency threshold for detecting anomalies.\n",
    "        \"\"\"\n",
    "        self.temp_upper_threshold = temp_upper_threshold\n",
    "        self.temp_lower_threshold = temp_lower_threshold\n",
    "        self.temp_kW_scaled_threshold = temp_kW_scaled_threshold\n",
    "        self.cohort_difference_threshold = cohort_difference_threshold\n",
    "        self.consistency_n_hours_lag = consistency_n_hours_lag\n",
    "        self.consistency_threshold = consistency_threshold\n",
    "\n",
    "    def detect_temp_based_anomalies(self):\n",
    "        \"\"\"_summary_\n",
    "\n",
    "        Returns\n",
    "        -------\n",
    "        _type_\n",
    "            _description_\n",
    "        \"\"\"\n",
    "        anomaly_index = pd.Series(index=self.kW.index, data=0)\n",
    "        \n",
    "        kW_scaled = (self.kW - self.kW.mean()) / self.kW.std()\n",
    "\n",
    "        # hot and no operation\n",
    "        anomaly_index[(kW_scaled < self.temp_kW_scaled_threshold) & (self.temp > self.temp_upper_threshold)] = 1\n",
    "\n",
    "        # cold and no operation\n",
    "        anomaly_index[(kW_scaled < self.temp_kW_scaled_threshold) & (self.temp < self.temp_lower_threshold)] = 1\n",
    "\n",
    "        self.temp_based_anomalies = anomaly_index\n",
    "\n",
    "    def detect_cohort_based_anomalies(self):\n",
    "        \"\"\"_summary_\n",
    "\n",
    "        Returns\n",
    "        -------\n",
    "        _type_\n",
    "            _description_\n",
    "        \"\"\"\n",
    "        # scale the data\n",
    "        scaled_df = self.all_ptacs_df / self.all_ptacs_df.max(0)\n",
    "        avg_at_time = scaled_df.drop([self.ptac_name], axis=1).median(1)\n",
    "\n",
    "        anomaly_index = (avg_at_time - scaled_df[self.ptac_name]) > self.cohort_difference_threshold\n",
    "\n",
    "        self.cohort_based_anomalies = anomaly_index\n",
    "\n",
    "    def detect_consistent_outages(self):\n",
    "        \"\"\"_summary_\n",
    "\n",
    "        Returns\n",
    "        -------\n",
    "        _type_\n",
    "            _description_\n",
    "        \"\"\"\n",
    "        lag_df = pd.DataFrame(data={f'lag_{h}hr': self.kW.shift(h) for h in range(0, self.consistency_n_hours_lag+1)})\n",
    "\n",
    "        anomaly_index = (lag_df.max(1) / self.kW.max()) <= self.consistency_threshold\n",
    "\n",
    "        self.consistent_outages = anomaly_index\n",
    "\n",
    "    def return_combined_anomalies(self):\n",
    "        \"\"\"_summary_\n",
    "\n",
    "        Returns\n",
    "        -------\n",
    "        _type_\n",
    "            _description_\n",
    "        \"\"\"\n",
    "        return self.temp_based_anomalies & self.cohort_based_anomalies & self.consistent_outages    \n",
    "    \n",
    "    def anomaly_stats(self):\n",
    "        \"\"\"_summary_\n",
    "\n",
    "        Returns\n",
    "        -------\n",
    "        _type_\n",
    "            _description_\n",
    "        \"\"\"\n",
    "        return {\n",
    "            'temp_based_anomalies': self.temp_based_anomalies.sum(),\n",
    "            'cohort_based_anomalies': self.cohort_based_anomalies.sum(),\n",
    "            'consistent_outages': self.consistent_outages.sum(),\n",
    "            'combined_anomalies': self.return_combined_anomalies().sum(),\n",
    "            'percent_anomalous': self.return_combined_anomalies().sum() / self.kW.count()\n",
    "        }\n",
    "\n",
    "\n"
   ]
  },
  {
   "cell_type": "code",
   "execution_count": 11,
   "metadata": {},
   "outputs": [],
   "source": [
    "from plotly.subplots import make_subplots\n",
    "\n",
    "stats = pd.DataFrame()\n",
    "\n",
    "for site_address in ptacs_df.columns.get_level_values(0).unique():\n",
    "    try:\n",
    "        os.makedirs(f'anomalyCharts/{site_address}/')\n",
    "    except:\n",
    "        pass\n",
    "\n",
    "    site_df = ptacs_df[site_address].loc['2023']\n",
    "    site_df.index = pd.to_datetime(site_df.index, utc=True)\n",
    "    oat_df = pd.read_csv(f'data/weather/{site_address}.csv')\n",
    "    oat_df.index = pd.to_datetime(oat_df['Unnamed: 0'], utc=True)\n",
    "\n",
    "    oat_df = oat_df.reindex(site_df.index).ffill().bfill()\n",
    "\n",
    "    for i, ptac in enumerate(site_df.columns.get_level_values(0).unique()):\n",
    "        ptac_df = site_df[ptac].to_frame()\n",
    "        ptac_df = ptac_df.resample('H').mean().assign(temp=oat_df['temp'])\n",
    "\n",
    "        detector = RulesBasedAnomalyDetector()\n",
    "\n",
    "        detector.load_data(ptac_df, ptac, ptac_df['temp'])\n",
    "        detector.set_parameters(temp_upper_threshold=70, \n",
    "                                temp_lower_threshold=50, \n",
    "                                temp_kW_scaled_threshold=0.2, \n",
    "                                cohort_difference_threshold=.05, \n",
    "                                consistency_n_hours_lag=24, \n",
    "                                consistency_threshold=.05)\n",
    "        \n",
    "        detector.detect_temp_based_anomalies()\n",
    "        detector.detect_cohort_based_anomalies()\n",
    "        detector.detect_consistent_outages()\n",
    "\n",
    "        for k, v in detector.anomaly_stats().items():\n",
    "            stats.loc[ptac, k] = v\n",
    "\n",
    "        ptac_df['outliers'] = detector.return_combined_anomalies()\n",
    "\n",
    "        ptac_df['outliers'] = ptac_df['outliers'].astype(bool) * ptac_df[ptac].max().max()\n",
    "        \n",
    "        fig = make_subplots(\n",
    "            rows=1, cols=1,\n",
    "            specs=[[{\"secondary_y\": True}]])\n",
    "        \n",
    "        fig.add_scatter(x=ptac_df.index, \n",
    "                                y=ptac_df[ptac],\n",
    "                                name='Amps_' + ptac,\n",
    "                                line=dict(color='black', width=2))\n",
    "\n",
    "        fig.add_scatter(x=ptac_df.index,\n",
    "                                y=ptac_df['outliers'],\n",
    "                                name='Outliers',\n",
    "                                line=dict(color='purple', width=0),\n",
    "                                fill='tozeroy')\n",
    "\n",
    "        fig.add_scatter(x=ptac_df.index,\n",
    "                                y=ptac_df['temp'],\n",
    "                                name='temp',\n",
    "                                line=dict(color='red', width=1),\n",
    "                                yaxis='y2')\n",
    "\n",
    "        fig.update_layout(height=400, width=1000, template='simple_white')\n",
    "\n",
    "        fig.update_yaxes(title_text='Amps', secondary_y=False)\n",
    "        fig.update_yaxes(title_text='Temperature', secondary_y=True)\n",
    "\n",
    "        fig.write_html(f'anomalyCharts/{site_address}/{ptac}.html')\n",
    "\n"
   ]
  },
  {
   "cell_type": "code",
   "execution_count": 12,
   "metadata": {},
   "outputs": [
    {
     "data": {
      "text/plain": [
       "11"
      ]
     },
     "execution_count": 12,
     "metadata": {},
     "output_type": "execute_result"
    }
   ],
   "source": [
    "len(ptacs_df.columns.get_level_values(0).unique())"
   ]
  },
  {
   "cell_type": "code",
   "execution_count": 13,
   "metadata": {},
   "outputs": [
    {
     "data": {
      "application/vnd.plotly.v1+json": {
       "config": {
        "plotlyServerURL": "https://plot.ly"
       },
       "data": [
        {
         "type": "histogram",
         "x": [
          0.39452054794520547,
          0.30856164383561646,
          0.3180365296803653,
          0.2978310502283105,
          0.245662100456621,
          0.26929223744292236,
          0.31917808219178084,
          0.31267123287671234,
          0.2930365296803653,
          0.3252283105022831,
          0.34863013698630135,
          0.35924657534246573,
          0.36050228310502286,
          0.41084474885844746,
          0.31666666666666665,
          0.05319634703196347,
          0.03047945205479452,
          0.10616438356164383,
          0.13287671232876713,
          0.05228310502283105,
          0.04417808219178082,
          0,
          0.1254566210045662,
          0.07557077625570777,
          0.11484018264840183,
          0.010616438356164383,
          0.19817351598173516,
          0.26210045662100456,
          0.1954337899543379,
          0.1660958904109589,
          0.11746575342465754,
          0.14863013698630137,
          0.33230593607305936,
          0.08436073059360731,
          0.1047945205479452,
          0.18242009132420092,
          0.15319634703196347,
          0.16141552511415524,
          0.27294520547945206,
          0.17602739726027397,
          0.14623287671232876,
          0.1202054794520548,
          0.14931506849315068,
          0.2627853881278539,
          0.17751141552511415,
          0.18310502283105023,
          0.07888127853881279,
          0.11803652968036529,
          0.19429223744292237,
          0.021461187214611873,
          0.10547945205479452,
          0.07990867579908675,
          0.18538812785388128,
          0.13013698630136986,
          0.1473744292237443,
          0.13778538812785388,
          0.0432648401826484,
          0.09646118721461187,
          0.07168949771689498,
          0.13184931506849315,
          0.06495433789954339,
          0.10490867579908676,
          0.07363013698630137,
          0.14052511415525115,
          0.10764840182648402,
          0.257648401826484,
          0.10878995433789955,
          0.13732876712328768,
          0.10136986301369863,
          0.13538812785388127,
          0.13607305936073058,
          0.12157534246575342,
          0.12728310502283105,
          0,
          0.27294520547945206,
          0.03881278538812785,
          0.06449771689497717,
          0.1963470319634703,
          0.17363013698630136,
          0.14874429223744293,
          0.17888127853881278,
          0.0656392694063927,
          0.1917808219178082,
          0.1386986301369863,
          0.22009132420091324,
          0.07180365296803654,
          0.1284246575342466,
          0.24337899543378996,
          0.19771689497716896,
          0.14417808219178083,
          0.2565068493150685,
          0.3125570776255708,
          0.2004566210045662,
          0.17990867579908676,
          0.14897260273972604,
          0.20867579908675798,
          0.19155251141552512,
          0.17363013698630136,
          0.23310502283105022,
          0.10228310502283106,
          0.270662100456621,
          0.2341324200913242,
          0.14726027397260275,
          0.3721461187214612,
          0.1558219178082192,
          0.15810502283105024,
          0.1471461187214612,
          0.192351598173516,
          0.32431506849315067,
          0.15810502283105024,
          0.16472602739726028,
          0.1156392694063927,
          0.28184931506849314,
          0.12340182648401826,
          0.22168949771689497,
          0.4128995433789954,
          0.18242009132420092,
          0.28070776255707763,
          0.13116438356164384,
          0.23778538812785388,
          0.36917808219178083,
          0.25388127853881276,
          0.31061643835616437,
          0.25490867579908677,
          0.27123287671232876,
          0.11506849315068493,
          0.2856164383561644,
          0.20570776255707762,
          0.24429223744292236,
          0.3093607305936073,
          0.3319634703196347,
          0.2848173515981735,
          0.36210045662100454,
          0.29668949771689496,
          0.3590182648401826,
          0.28949771689497716,
          0.40742009132420093,
          0.3113013698630137,
          0.34463470319634704,
          0.37888127853881276,
          0.3223744292237443,
          0.42317351598173514,
          0.31118721461187215,
          0.3502283105022831,
          0.41198630136986303,
          0.4529680365296804,
          0.39863013698630134,
          0.2568493150684932,
          0.3180365296803653,
          0.3013698630136986,
          0.2843607305936073,
          0.2702054794520548,
          0.23938356164383562,
          0.26666666666666666,
          0.32602739726027397,
          0.14121004566210046,
          0.30011415525114155,
          0.16757990867579908,
          0.33207762557077625,
          0.091324200913242,
          0.20821917808219179,
          0.15319634703196347,
          0.27248858447488583,
          0.12968036529680366,
          0,
          0.20410958904109588,
          0.1519406392694064,
          0.2517123287671233,
          0,
          0.11894977168949772,
          0.5601598173515981
         ]
        }
       ],
       "layout": {
        "template": {
         "data": {
          "bar": [
           {
            "error_x": {
             "color": "#2a3f5f"
            },
            "error_y": {
             "color": "#2a3f5f"
            },
            "marker": {
             "line": {
              "color": "#E5ECF6",
              "width": 0.5
             },
             "pattern": {
              "fillmode": "overlay",
              "size": 10,
              "solidity": 0.2
             }
            },
            "type": "bar"
           }
          ],
          "barpolar": [
           {
            "marker": {
             "line": {
              "color": "#E5ECF6",
              "width": 0.5
             },
             "pattern": {
              "fillmode": "overlay",
              "size": 10,
              "solidity": 0.2
             }
            },
            "type": "barpolar"
           }
          ],
          "carpet": [
           {
            "aaxis": {
             "endlinecolor": "#2a3f5f",
             "gridcolor": "white",
             "linecolor": "white",
             "minorgridcolor": "white",
             "startlinecolor": "#2a3f5f"
            },
            "baxis": {
             "endlinecolor": "#2a3f5f",
             "gridcolor": "white",
             "linecolor": "white",
             "minorgridcolor": "white",
             "startlinecolor": "#2a3f5f"
            },
            "type": "carpet"
           }
          ],
          "choropleth": [
           {
            "colorbar": {
             "outlinewidth": 0,
             "ticks": ""
            },
            "type": "choropleth"
           }
          ],
          "contour": [
           {
            "colorbar": {
             "outlinewidth": 0,
             "ticks": ""
            },
            "colorscale": [
             [
              0,
              "#0d0887"
             ],
             [
              0.1111111111111111,
              "#46039f"
             ],
             [
              0.2222222222222222,
              "#7201a8"
             ],
             [
              0.3333333333333333,
              "#9c179e"
             ],
             [
              0.4444444444444444,
              "#bd3786"
             ],
             [
              0.5555555555555556,
              "#d8576b"
             ],
             [
              0.6666666666666666,
              "#ed7953"
             ],
             [
              0.7777777777777778,
              "#fb9f3a"
             ],
             [
              0.8888888888888888,
              "#fdca26"
             ],
             [
              1,
              "#f0f921"
             ]
            ],
            "type": "contour"
           }
          ],
          "contourcarpet": [
           {
            "colorbar": {
             "outlinewidth": 0,
             "ticks": ""
            },
            "type": "contourcarpet"
           }
          ],
          "heatmap": [
           {
            "colorbar": {
             "outlinewidth": 0,
             "ticks": ""
            },
            "colorscale": [
             [
              0,
              "#0d0887"
             ],
             [
              0.1111111111111111,
              "#46039f"
             ],
             [
              0.2222222222222222,
              "#7201a8"
             ],
             [
              0.3333333333333333,
              "#9c179e"
             ],
             [
              0.4444444444444444,
              "#bd3786"
             ],
             [
              0.5555555555555556,
              "#d8576b"
             ],
             [
              0.6666666666666666,
              "#ed7953"
             ],
             [
              0.7777777777777778,
              "#fb9f3a"
             ],
             [
              0.8888888888888888,
              "#fdca26"
             ],
             [
              1,
              "#f0f921"
             ]
            ],
            "type": "heatmap"
           }
          ],
          "heatmapgl": [
           {
            "colorbar": {
             "outlinewidth": 0,
             "ticks": ""
            },
            "colorscale": [
             [
              0,
              "#0d0887"
             ],
             [
              0.1111111111111111,
              "#46039f"
             ],
             [
              0.2222222222222222,
              "#7201a8"
             ],
             [
              0.3333333333333333,
              "#9c179e"
             ],
             [
              0.4444444444444444,
              "#bd3786"
             ],
             [
              0.5555555555555556,
              "#d8576b"
             ],
             [
              0.6666666666666666,
              "#ed7953"
             ],
             [
              0.7777777777777778,
              "#fb9f3a"
             ],
             [
              0.8888888888888888,
              "#fdca26"
             ],
             [
              1,
              "#f0f921"
             ]
            ],
            "type": "heatmapgl"
           }
          ],
          "histogram": [
           {
            "marker": {
             "pattern": {
              "fillmode": "overlay",
              "size": 10,
              "solidity": 0.2
             }
            },
            "type": "histogram"
           }
          ],
          "histogram2d": [
           {
            "colorbar": {
             "outlinewidth": 0,
             "ticks": ""
            },
            "colorscale": [
             [
              0,
              "#0d0887"
             ],
             [
              0.1111111111111111,
              "#46039f"
             ],
             [
              0.2222222222222222,
              "#7201a8"
             ],
             [
              0.3333333333333333,
              "#9c179e"
             ],
             [
              0.4444444444444444,
              "#bd3786"
             ],
             [
              0.5555555555555556,
              "#d8576b"
             ],
             [
              0.6666666666666666,
              "#ed7953"
             ],
             [
              0.7777777777777778,
              "#fb9f3a"
             ],
             [
              0.8888888888888888,
              "#fdca26"
             ],
             [
              1,
              "#f0f921"
             ]
            ],
            "type": "histogram2d"
           }
          ],
          "histogram2dcontour": [
           {
            "colorbar": {
             "outlinewidth": 0,
             "ticks": ""
            },
            "colorscale": [
             [
              0,
              "#0d0887"
             ],
             [
              0.1111111111111111,
              "#46039f"
             ],
             [
              0.2222222222222222,
              "#7201a8"
             ],
             [
              0.3333333333333333,
              "#9c179e"
             ],
             [
              0.4444444444444444,
              "#bd3786"
             ],
             [
              0.5555555555555556,
              "#d8576b"
             ],
             [
              0.6666666666666666,
              "#ed7953"
             ],
             [
              0.7777777777777778,
              "#fb9f3a"
             ],
             [
              0.8888888888888888,
              "#fdca26"
             ],
             [
              1,
              "#f0f921"
             ]
            ],
            "type": "histogram2dcontour"
           }
          ],
          "mesh3d": [
           {
            "colorbar": {
             "outlinewidth": 0,
             "ticks": ""
            },
            "type": "mesh3d"
           }
          ],
          "parcoords": [
           {
            "line": {
             "colorbar": {
              "outlinewidth": 0,
              "ticks": ""
             }
            },
            "type": "parcoords"
           }
          ],
          "pie": [
           {
            "automargin": true,
            "type": "pie"
           }
          ],
          "scatter": [
           {
            "fillpattern": {
             "fillmode": "overlay",
             "size": 10,
             "solidity": 0.2
            },
            "type": "scatter"
           }
          ],
          "scatter3d": [
           {
            "line": {
             "colorbar": {
              "outlinewidth": 0,
              "ticks": ""
             }
            },
            "marker": {
             "colorbar": {
              "outlinewidth": 0,
              "ticks": ""
             }
            },
            "type": "scatter3d"
           }
          ],
          "scattercarpet": [
           {
            "marker": {
             "colorbar": {
              "outlinewidth": 0,
              "ticks": ""
             }
            },
            "type": "scattercarpet"
           }
          ],
          "scattergeo": [
           {
            "marker": {
             "colorbar": {
              "outlinewidth": 0,
              "ticks": ""
             }
            },
            "type": "scattergeo"
           }
          ],
          "scattergl": [
           {
            "marker": {
             "colorbar": {
              "outlinewidth": 0,
              "ticks": ""
             }
            },
            "type": "scattergl"
           }
          ],
          "scattermapbox": [
           {
            "marker": {
             "colorbar": {
              "outlinewidth": 0,
              "ticks": ""
             }
            },
            "type": "scattermapbox"
           }
          ],
          "scatterpolar": [
           {
            "marker": {
             "colorbar": {
              "outlinewidth": 0,
              "ticks": ""
             }
            },
            "type": "scatterpolar"
           }
          ],
          "scatterpolargl": [
           {
            "marker": {
             "colorbar": {
              "outlinewidth": 0,
              "ticks": ""
             }
            },
            "type": "scatterpolargl"
           }
          ],
          "scatterternary": [
           {
            "marker": {
             "colorbar": {
              "outlinewidth": 0,
              "ticks": ""
             }
            },
            "type": "scatterternary"
           }
          ],
          "surface": [
           {
            "colorbar": {
             "outlinewidth": 0,
             "ticks": ""
            },
            "colorscale": [
             [
              0,
              "#0d0887"
             ],
             [
              0.1111111111111111,
              "#46039f"
             ],
             [
              0.2222222222222222,
              "#7201a8"
             ],
             [
              0.3333333333333333,
              "#9c179e"
             ],
             [
              0.4444444444444444,
              "#bd3786"
             ],
             [
              0.5555555555555556,
              "#d8576b"
             ],
             [
              0.6666666666666666,
              "#ed7953"
             ],
             [
              0.7777777777777778,
              "#fb9f3a"
             ],
             [
              0.8888888888888888,
              "#fdca26"
             ],
             [
              1,
              "#f0f921"
             ]
            ],
            "type": "surface"
           }
          ],
          "table": [
           {
            "cells": {
             "fill": {
              "color": "#EBF0F8"
             },
             "line": {
              "color": "white"
             }
            },
            "header": {
             "fill": {
              "color": "#C8D4E3"
             },
             "line": {
              "color": "white"
             }
            },
            "type": "table"
           }
          ]
         },
         "layout": {
          "annotationdefaults": {
           "arrowcolor": "#2a3f5f",
           "arrowhead": 0,
           "arrowwidth": 1
          },
          "autotypenumbers": "strict",
          "coloraxis": {
           "colorbar": {
            "outlinewidth": 0,
            "ticks": ""
           }
          },
          "colorscale": {
           "diverging": [
            [
             0,
             "#8e0152"
            ],
            [
             0.1,
             "#c51b7d"
            ],
            [
             0.2,
             "#de77ae"
            ],
            [
             0.3,
             "#f1b6da"
            ],
            [
             0.4,
             "#fde0ef"
            ],
            [
             0.5,
             "#f7f7f7"
            ],
            [
             0.6,
             "#e6f5d0"
            ],
            [
             0.7,
             "#b8e186"
            ],
            [
             0.8,
             "#7fbc41"
            ],
            [
             0.9,
             "#4d9221"
            ],
            [
             1,
             "#276419"
            ]
           ],
           "sequential": [
            [
             0,
             "#0d0887"
            ],
            [
             0.1111111111111111,
             "#46039f"
            ],
            [
             0.2222222222222222,
             "#7201a8"
            ],
            [
             0.3333333333333333,
             "#9c179e"
            ],
            [
             0.4444444444444444,
             "#bd3786"
            ],
            [
             0.5555555555555556,
             "#d8576b"
            ],
            [
             0.6666666666666666,
             "#ed7953"
            ],
            [
             0.7777777777777778,
             "#fb9f3a"
            ],
            [
             0.8888888888888888,
             "#fdca26"
            ],
            [
             1,
             "#f0f921"
            ]
           ],
           "sequentialminus": [
            [
             0,
             "#0d0887"
            ],
            [
             0.1111111111111111,
             "#46039f"
            ],
            [
             0.2222222222222222,
             "#7201a8"
            ],
            [
             0.3333333333333333,
             "#9c179e"
            ],
            [
             0.4444444444444444,
             "#bd3786"
            ],
            [
             0.5555555555555556,
             "#d8576b"
            ],
            [
             0.6666666666666666,
             "#ed7953"
            ],
            [
             0.7777777777777778,
             "#fb9f3a"
            ],
            [
             0.8888888888888888,
             "#fdca26"
            ],
            [
             1,
             "#f0f921"
            ]
           ]
          },
          "colorway": [
           "#636efa",
           "#EF553B",
           "#00cc96",
           "#ab63fa",
           "#FFA15A",
           "#19d3f3",
           "#FF6692",
           "#B6E880",
           "#FF97FF",
           "#FECB52"
          ],
          "font": {
           "color": "#2a3f5f"
          },
          "geo": {
           "bgcolor": "white",
           "lakecolor": "white",
           "landcolor": "#E5ECF6",
           "showlakes": true,
           "showland": true,
           "subunitcolor": "white"
          },
          "hoverlabel": {
           "align": "left"
          },
          "hovermode": "closest",
          "mapbox": {
           "style": "light"
          },
          "paper_bgcolor": "white",
          "plot_bgcolor": "#E5ECF6",
          "polar": {
           "angularaxis": {
            "gridcolor": "white",
            "linecolor": "white",
            "ticks": ""
           },
           "bgcolor": "#E5ECF6",
           "radialaxis": {
            "gridcolor": "white",
            "linecolor": "white",
            "ticks": ""
           }
          },
          "scene": {
           "xaxis": {
            "backgroundcolor": "#E5ECF6",
            "gridcolor": "white",
            "gridwidth": 2,
            "linecolor": "white",
            "showbackground": true,
            "ticks": "",
            "zerolinecolor": "white"
           },
           "yaxis": {
            "backgroundcolor": "#E5ECF6",
            "gridcolor": "white",
            "gridwidth": 2,
            "linecolor": "white",
            "showbackground": true,
            "ticks": "",
            "zerolinecolor": "white"
           },
           "zaxis": {
            "backgroundcolor": "#E5ECF6",
            "gridcolor": "white",
            "gridwidth": 2,
            "linecolor": "white",
            "showbackground": true,
            "ticks": "",
            "zerolinecolor": "white"
           }
          },
          "shapedefaults": {
           "line": {
            "color": "#2a3f5f"
           }
          },
          "ternary": {
           "aaxis": {
            "gridcolor": "white",
            "linecolor": "white",
            "ticks": ""
           },
           "baxis": {
            "gridcolor": "white",
            "linecolor": "white",
            "ticks": ""
           },
           "bgcolor": "#E5ECF6",
           "caxis": {
            "gridcolor": "white",
            "linecolor": "white",
            "ticks": ""
           }
          },
          "title": {
           "x": 0.05
          },
          "xaxis": {
           "automargin": true,
           "gridcolor": "white",
           "linecolor": "white",
           "ticks": "",
           "title": {
            "standoff": 15
           },
           "zerolinecolor": "white",
           "zerolinewidth": 2
          },
          "yaxis": {
           "automargin": true,
           "gridcolor": "white",
           "linecolor": "white",
           "ticks": "",
           "title": {
            "standoff": 15
           },
           "zerolinecolor": "white",
           "zerolinewidth": 2
          }
         }
        },
        "title": {
         "text": "Percentage of Outage Readings in PTAC Data"
        },
        "xaxis": {
         "ticktext": [
          "0%",
          "5%",
          "10%",
          "15%",
          "20%",
          "25%"
         ],
         "tickvals": [
          0,
          0.05,
          0.1,
          0.15,
          0.2,
          0.25
         ],
         "title": {
          "text": "Percentage of Outage Readings"
         }
        },
        "yaxis": {
         "title": {
          "text": "Number of PTACs"
         }
        }
       }
      }
     },
     "metadata": {},
     "output_type": "display_data"
    }
   ],
   "source": [
    "pct_anom_hist = go.Figure([go.Histogram(x=stats.percent_anomalous)])\n",
    "\n",
    "pct_anom_hist.update_layout(title_text='Percentage of Outage Readings in PTAC Data')\n",
    "pct_anom_hist.update_xaxes(title_text='Percentage of Outage Readings', \n",
    "                           tickvals=[0, .05, .1, .15, .2, .25],\n",
    "                            ticktext=['0%', '5%', '10%', '15%', '20%', '25%'])\n",
    "pct_anom_hist.update_yaxes(title_text='Number of PTACs')"
   ]
  },
  {
   "cell_type": "markdown",
   "metadata": {},
   "source": [
    "## Continuous Usage Detection"
   ]
  },
  {
   "cell_type": "code",
   "execution_count": 19,
   "metadata": {},
   "outputs": [],
   "source": [
    "# params\n",
    "usage_normalized_threshold = 0.1\n",
    "min_hours_block = 48\n",
    "\n",
    "thresh_df = (ptacs_df.abs() / ptacs_df.max(0)) > usage_normalized_threshold\n",
    "blocks_df = thresh_df.diff().abs().cumsum()\n",
    "match_df = blocks_df.mask(~thresh_df, 0)\n",
    "\n",
    "blocks_df = pd.DataFrame()\n",
    "\n",
    "for c in match_df.columns:\n",
    "    blocks = pd.DataFrame(data={'len':match_df[c].groupby(match_df[c]).count(),\n",
    "                                'start':match_df[c].groupby(match_df[c]).apply(lambda s: s.index[0])})\n",
    "    blocks = blocks[blocks.len > min_hours_block*60]\n",
    "    blocks = blocks.drop(0)\n",
    "\n",
    "    fig = go.Figure()\n",
    "\n",
    "    figStart = pd.to_datetime('2025-01-01')\n",
    "    figEnd = pd.to_datetime('2020-01-01')\n",
    "\n",
    "    if blocks.shape[0] > 0:\n",
    "        for i, block in blocks.iterrows():\n",
    "            \n",
    "            block_info = {'site': c[0],\n",
    "                          'ptac': c[1],\n",
    "                          'length': block['len'],\n",
    "                          'start': block['start'],\n",
    "                          'end': block['start'] + pd.Timedelta(seconds=60*block['len'])\n",
    "                          }\n",
    "            \n",
    "            insert_index = len(blocks_df)\n",
    "            for k, v in block_info.items():\n",
    "                blocks_df.loc[insert_index, k] = v\n",
    "\n",
    "            figStart = min(figStart, block_info['start'])\n",
    "            figEnd = max(figEnd, block_info['start'] + pd.Timedelta(seconds=block_info['length']))\n",
    "\n",
    "            fig.add_shape(type='rect',\n",
    "                        x0=block['start'],\n",
    "                        y0=0,\n",
    "                        x1=block['start'] + pd.Timedelta(seconds=60*block['len']),\n",
    "                        y1=ptacs_df[block_info['start']:block_info['end']][c].max(),\n",
    "                        line=dict(width=0),\n",
    "                        fillcolor='red',\n",
    "                        opacity=0.5)\n",
    "\n",
    "        fig.add_scatter(x=match_df[figStart:figEnd].index, y=ptacs_df[figStart:figEnd][c])\n",
    "\n",
    "        fig.update_layout(template='simple_white')\n",
    "\n",
    "        fig.write_html(f'continuousUsageCharts/{c[0]}_{c[1]}.html')"
   ]
  },
  {
   "cell_type": "code",
   "execution_count": 21,
   "metadata": {},
   "outputs": [],
   "source": [
    "blocks_df.to_excel('PTAC_continuous_usage_blocks.xlsx')"
   ]
  },
  {
   "cell_type": "code",
   "execution_count": 15,
   "metadata": {},
   "outputs": [
    {
     "data": {
      "application/vnd.plotly.v1+json": {
       "config": {
        "plotlyServerURL": "https://plot.ly"
       },
       "data": [],
       "layout": {
        "template": {
         "data": {
          "bar": [
           {
            "error_x": {
             "color": "#2a3f5f"
            },
            "error_y": {
             "color": "#2a3f5f"
            },
            "marker": {
             "line": {
              "color": "#E5ECF6",
              "width": 0.5
             },
             "pattern": {
              "fillmode": "overlay",
              "size": 10,
              "solidity": 0.2
             }
            },
            "type": "bar"
           }
          ],
          "barpolar": [
           {
            "marker": {
             "line": {
              "color": "#E5ECF6",
              "width": 0.5
             },
             "pattern": {
              "fillmode": "overlay",
              "size": 10,
              "solidity": 0.2
             }
            },
            "type": "barpolar"
           }
          ],
          "carpet": [
           {
            "aaxis": {
             "endlinecolor": "#2a3f5f",
             "gridcolor": "white",
             "linecolor": "white",
             "minorgridcolor": "white",
             "startlinecolor": "#2a3f5f"
            },
            "baxis": {
             "endlinecolor": "#2a3f5f",
             "gridcolor": "white",
             "linecolor": "white",
             "minorgridcolor": "white",
             "startlinecolor": "#2a3f5f"
            },
            "type": "carpet"
           }
          ],
          "choropleth": [
           {
            "colorbar": {
             "outlinewidth": 0,
             "ticks": ""
            },
            "type": "choropleth"
           }
          ],
          "contour": [
           {
            "colorbar": {
             "outlinewidth": 0,
             "ticks": ""
            },
            "colorscale": [
             [
              0,
              "#0d0887"
             ],
             [
              0.1111111111111111,
              "#46039f"
             ],
             [
              0.2222222222222222,
              "#7201a8"
             ],
             [
              0.3333333333333333,
              "#9c179e"
             ],
             [
              0.4444444444444444,
              "#bd3786"
             ],
             [
              0.5555555555555556,
              "#d8576b"
             ],
             [
              0.6666666666666666,
              "#ed7953"
             ],
             [
              0.7777777777777778,
              "#fb9f3a"
             ],
             [
              0.8888888888888888,
              "#fdca26"
             ],
             [
              1,
              "#f0f921"
             ]
            ],
            "type": "contour"
           }
          ],
          "contourcarpet": [
           {
            "colorbar": {
             "outlinewidth": 0,
             "ticks": ""
            },
            "type": "contourcarpet"
           }
          ],
          "heatmap": [
           {
            "colorbar": {
             "outlinewidth": 0,
             "ticks": ""
            },
            "colorscale": [
             [
              0,
              "#0d0887"
             ],
             [
              0.1111111111111111,
              "#46039f"
             ],
             [
              0.2222222222222222,
              "#7201a8"
             ],
             [
              0.3333333333333333,
              "#9c179e"
             ],
             [
              0.4444444444444444,
              "#bd3786"
             ],
             [
              0.5555555555555556,
              "#d8576b"
             ],
             [
              0.6666666666666666,
              "#ed7953"
             ],
             [
              0.7777777777777778,
              "#fb9f3a"
             ],
             [
              0.8888888888888888,
              "#fdca26"
             ],
             [
              1,
              "#f0f921"
             ]
            ],
            "type": "heatmap"
           }
          ],
          "heatmapgl": [
           {
            "colorbar": {
             "outlinewidth": 0,
             "ticks": ""
            },
            "colorscale": [
             [
              0,
              "#0d0887"
             ],
             [
              0.1111111111111111,
              "#46039f"
             ],
             [
              0.2222222222222222,
              "#7201a8"
             ],
             [
              0.3333333333333333,
              "#9c179e"
             ],
             [
              0.4444444444444444,
              "#bd3786"
             ],
             [
              0.5555555555555556,
              "#d8576b"
             ],
             [
              0.6666666666666666,
              "#ed7953"
             ],
             [
              0.7777777777777778,
              "#fb9f3a"
             ],
             [
              0.8888888888888888,
              "#fdca26"
             ],
             [
              1,
              "#f0f921"
             ]
            ],
            "type": "heatmapgl"
           }
          ],
          "histogram": [
           {
            "marker": {
             "pattern": {
              "fillmode": "overlay",
              "size": 10,
              "solidity": 0.2
             }
            },
            "type": "histogram"
           }
          ],
          "histogram2d": [
           {
            "colorbar": {
             "outlinewidth": 0,
             "ticks": ""
            },
            "colorscale": [
             [
              0,
              "#0d0887"
             ],
             [
              0.1111111111111111,
              "#46039f"
             ],
             [
              0.2222222222222222,
              "#7201a8"
             ],
             [
              0.3333333333333333,
              "#9c179e"
             ],
             [
              0.4444444444444444,
              "#bd3786"
             ],
             [
              0.5555555555555556,
              "#d8576b"
             ],
             [
              0.6666666666666666,
              "#ed7953"
             ],
             [
              0.7777777777777778,
              "#fb9f3a"
             ],
             [
              0.8888888888888888,
              "#fdca26"
             ],
             [
              1,
              "#f0f921"
             ]
            ],
            "type": "histogram2d"
           }
          ],
          "histogram2dcontour": [
           {
            "colorbar": {
             "outlinewidth": 0,
             "ticks": ""
            },
            "colorscale": [
             [
              0,
              "#0d0887"
             ],
             [
              0.1111111111111111,
              "#46039f"
             ],
             [
              0.2222222222222222,
              "#7201a8"
             ],
             [
              0.3333333333333333,
              "#9c179e"
             ],
             [
              0.4444444444444444,
              "#bd3786"
             ],
             [
              0.5555555555555556,
              "#d8576b"
             ],
             [
              0.6666666666666666,
              "#ed7953"
             ],
             [
              0.7777777777777778,
              "#fb9f3a"
             ],
             [
              0.8888888888888888,
              "#fdca26"
             ],
             [
              1,
              "#f0f921"
             ]
            ],
            "type": "histogram2dcontour"
           }
          ],
          "mesh3d": [
           {
            "colorbar": {
             "outlinewidth": 0,
             "ticks": ""
            },
            "type": "mesh3d"
           }
          ],
          "parcoords": [
           {
            "line": {
             "colorbar": {
              "outlinewidth": 0,
              "ticks": ""
             }
            },
            "type": "parcoords"
           }
          ],
          "pie": [
           {
            "automargin": true,
            "type": "pie"
           }
          ],
          "scatter": [
           {
            "fillpattern": {
             "fillmode": "overlay",
             "size": 10,
             "solidity": 0.2
            },
            "type": "scatter"
           }
          ],
          "scatter3d": [
           {
            "line": {
             "colorbar": {
              "outlinewidth": 0,
              "ticks": ""
             }
            },
            "marker": {
             "colorbar": {
              "outlinewidth": 0,
              "ticks": ""
             }
            },
            "type": "scatter3d"
           }
          ],
          "scattercarpet": [
           {
            "marker": {
             "colorbar": {
              "outlinewidth": 0,
              "ticks": ""
             }
            },
            "type": "scattercarpet"
           }
          ],
          "scattergeo": [
           {
            "marker": {
             "colorbar": {
              "outlinewidth": 0,
              "ticks": ""
             }
            },
            "type": "scattergeo"
           }
          ],
          "scattergl": [
           {
            "marker": {
             "colorbar": {
              "outlinewidth": 0,
              "ticks": ""
             }
            },
            "type": "scattergl"
           }
          ],
          "scattermapbox": [
           {
            "marker": {
             "colorbar": {
              "outlinewidth": 0,
              "ticks": ""
             }
            },
            "type": "scattermapbox"
           }
          ],
          "scatterpolar": [
           {
            "marker": {
             "colorbar": {
              "outlinewidth": 0,
              "ticks": ""
             }
            },
            "type": "scatterpolar"
           }
          ],
          "scatterpolargl": [
           {
            "marker": {
             "colorbar": {
              "outlinewidth": 0,
              "ticks": ""
             }
            },
            "type": "scatterpolargl"
           }
          ],
          "scatterternary": [
           {
            "marker": {
             "colorbar": {
              "outlinewidth": 0,
              "ticks": ""
             }
            },
            "type": "scatterternary"
           }
          ],
          "surface": [
           {
            "colorbar": {
             "outlinewidth": 0,
             "ticks": ""
            },
            "colorscale": [
             [
              0,
              "#0d0887"
             ],
             [
              0.1111111111111111,
              "#46039f"
             ],
             [
              0.2222222222222222,
              "#7201a8"
             ],
             [
              0.3333333333333333,
              "#9c179e"
             ],
             [
              0.4444444444444444,
              "#bd3786"
             ],
             [
              0.5555555555555556,
              "#d8576b"
             ],
             [
              0.6666666666666666,
              "#ed7953"
             ],
             [
              0.7777777777777778,
              "#fb9f3a"
             ],
             [
              0.8888888888888888,
              "#fdca26"
             ],
             [
              1,
              "#f0f921"
             ]
            ],
            "type": "surface"
           }
          ],
          "table": [
           {
            "cells": {
             "fill": {
              "color": "#EBF0F8"
             },
             "line": {
              "color": "white"
             }
            },
            "header": {
             "fill": {
              "color": "#C8D4E3"
             },
             "line": {
              "color": "white"
             }
            },
            "type": "table"
           }
          ]
         },
         "layout": {
          "annotationdefaults": {
           "arrowcolor": "#2a3f5f",
           "arrowhead": 0,
           "arrowwidth": 1
          },
          "autotypenumbers": "strict",
          "coloraxis": {
           "colorbar": {
            "outlinewidth": 0,
            "ticks": ""
           }
          },
          "colorscale": {
           "diverging": [
            [
             0,
             "#8e0152"
            ],
            [
             0.1,
             "#c51b7d"
            ],
            [
             0.2,
             "#de77ae"
            ],
            [
             0.3,
             "#f1b6da"
            ],
            [
             0.4,
             "#fde0ef"
            ],
            [
             0.5,
             "#f7f7f7"
            ],
            [
             0.6,
             "#e6f5d0"
            ],
            [
             0.7,
             "#b8e186"
            ],
            [
             0.8,
             "#7fbc41"
            ],
            [
             0.9,
             "#4d9221"
            ],
            [
             1,
             "#276419"
            ]
           ],
           "sequential": [
            [
             0,
             "#0d0887"
            ],
            [
             0.1111111111111111,
             "#46039f"
            ],
            [
             0.2222222222222222,
             "#7201a8"
            ],
            [
             0.3333333333333333,
             "#9c179e"
            ],
            [
             0.4444444444444444,
             "#bd3786"
            ],
            [
             0.5555555555555556,
             "#d8576b"
            ],
            [
             0.6666666666666666,
             "#ed7953"
            ],
            [
             0.7777777777777778,
             "#fb9f3a"
            ],
            [
             0.8888888888888888,
             "#fdca26"
            ],
            [
             1,
             "#f0f921"
            ]
           ],
           "sequentialminus": [
            [
             0,
             "#0d0887"
            ],
            [
             0.1111111111111111,
             "#46039f"
            ],
            [
             0.2222222222222222,
             "#7201a8"
            ],
            [
             0.3333333333333333,
             "#9c179e"
            ],
            [
             0.4444444444444444,
             "#bd3786"
            ],
            [
             0.5555555555555556,
             "#d8576b"
            ],
            [
             0.6666666666666666,
             "#ed7953"
            ],
            [
             0.7777777777777778,
             "#fb9f3a"
            ],
            [
             0.8888888888888888,
             "#fdca26"
            ],
            [
             1,
             "#f0f921"
            ]
           ]
          },
          "colorway": [
           "#636efa",
           "#EF553B",
           "#00cc96",
           "#ab63fa",
           "#FFA15A",
           "#19d3f3",
           "#FF6692",
           "#B6E880",
           "#FF97FF",
           "#FECB52"
          ],
          "font": {
           "color": "#2a3f5f"
          },
          "geo": {
           "bgcolor": "white",
           "lakecolor": "white",
           "landcolor": "#E5ECF6",
           "showlakes": true,
           "showland": true,
           "subunitcolor": "white"
          },
          "hoverlabel": {
           "align": "left"
          },
          "hovermode": "closest",
          "mapbox": {
           "style": "light"
          },
          "paper_bgcolor": "white",
          "plot_bgcolor": "#E5ECF6",
          "polar": {
           "angularaxis": {
            "gridcolor": "white",
            "linecolor": "white",
            "ticks": ""
           },
           "bgcolor": "#E5ECF6",
           "radialaxis": {
            "gridcolor": "white",
            "linecolor": "white",
            "ticks": ""
           }
          },
          "scene": {
           "xaxis": {
            "backgroundcolor": "#E5ECF6",
            "gridcolor": "white",
            "gridwidth": 2,
            "linecolor": "white",
            "showbackground": true,
            "ticks": "",
            "zerolinecolor": "white"
           },
           "yaxis": {
            "backgroundcolor": "#E5ECF6",
            "gridcolor": "white",
            "gridwidth": 2,
            "linecolor": "white",
            "showbackground": true,
            "ticks": "",
            "zerolinecolor": "white"
           },
           "zaxis": {
            "backgroundcolor": "#E5ECF6",
            "gridcolor": "white",
            "gridwidth": 2,
            "linecolor": "white",
            "showbackground": true,
            "ticks": "",
            "zerolinecolor": "white"
           }
          },
          "shapedefaults": {
           "line": {
            "color": "#2a3f5f"
           }
          },
          "ternary": {
           "aaxis": {
            "gridcolor": "white",
            "linecolor": "white",
            "ticks": ""
           },
           "baxis": {
            "gridcolor": "white",
            "linecolor": "white",
            "ticks": ""
           },
           "bgcolor": "#E5ECF6",
           "caxis": {
            "gridcolor": "white",
            "linecolor": "white",
            "ticks": ""
           }
          },
          "title": {
           "x": 0.05
          },
          "xaxis": {
           "automargin": true,
           "gridcolor": "white",
           "linecolor": "white",
           "ticks": "",
           "title": {
            "standoff": 15
           },
           "zerolinecolor": "white",
           "zerolinewidth": 2
          },
          "yaxis": {
           "automargin": true,
           "gridcolor": "white",
           "linecolor": "white",
           "ticks": "",
           "title": {
            "standoff": 15
           },
           "zerolinecolor": "white",
           "zerolinewidth": 2
          }
         }
        }
       }
      }
     },
     "metadata": {},
     "output_type": "display_data"
    }
   ],
   "source": [
    "fig"
   ]
  },
  {
   "cell_type": "code",
   "execution_count": null,
   "metadata": {},
   "outputs": [],
   "source": []
  },
  {
   "cell_type": "code",
   "execution_count": 16,
   "metadata": {},
   "outputs": [
    {
     "data": {
      "text/html": [
       "<div>\n",
       "<style scoped>\n",
       "    .dataframe tbody tr th:only-of-type {\n",
       "        vertical-align: middle;\n",
       "    }\n",
       "\n",
       "    .dataframe tbody tr th {\n",
       "        vertical-align: top;\n",
       "    }\n",
       "\n",
       "    .dataframe thead th {\n",
       "        text-align: right;\n",
       "    }\n",
       "</style>\n",
       "<table border=\"1\" class=\"dataframe\">\n",
       "  <thead>\n",
       "    <tr style=\"text-align: right;\">\n",
       "      <th></th>\n",
       "      <th>site</th>\n",
       "      <th>ptac</th>\n",
       "      <th>length</th>\n",
       "      <th>start</th>\n",
       "      <th>end</th>\n",
       "    </tr>\n",
       "  </thead>\n",
       "  <tbody>\n",
       "    <tr>\n",
       "      <th>0</th>\n",
       "      <td>11 Sherwood Ridge Road_Brevard_NC</td>\n",
       "      <td>Thru Wall Unit Corridor</td>\n",
       "      <td>2971.000</td>\n",
       "      <td>2022-09-13 15:49:00</td>\n",
       "      <td>2022-09-15 17:20:00</td>\n",
       "    </tr>\n",
       "    <tr>\n",
       "      <th>1</th>\n",
       "      <td>11 Sherwood Ridge Road_Brevard_NC</td>\n",
       "      <td>Thru Wall Unit Corridor</td>\n",
       "      <td>3641.000</td>\n",
       "      <td>2022-11-22 00:00:00</td>\n",
       "      <td>2022-11-24 12:41:00</td>\n",
       "    </tr>\n",
       "    <tr>\n",
       "      <th>2</th>\n",
       "      <td>11 Sherwood Ridge Road_Brevard_NC</td>\n",
       "      <td>Thru Wall Unit Corridor</td>\n",
       "      <td>3968.000</td>\n",
       "      <td>2022-12-20 17:14:00</td>\n",
       "      <td>2022-12-23 11:22:00</td>\n",
       "    </tr>\n",
       "    <tr>\n",
       "      <th>3</th>\n",
       "      <td>11 Sherwood Ridge Road_Brevard_NC</td>\n",
       "      <td>Thru Wall Unit Rm 127</td>\n",
       "      <td>3303.000</td>\n",
       "      <td>2023-02-01 09:35:00</td>\n",
       "      <td>2023-02-03 16:38:00</td>\n",
       "    </tr>\n",
       "    <tr>\n",
       "      <th>4</th>\n",
       "      <td>11 Sherwood Ridge Road_Brevard_NC</td>\n",
       "      <td>Thru Wall Unit Rm 127</td>\n",
       "      <td>4926.000</td>\n",
       "      <td>2023-02-08 13:04:00</td>\n",
       "      <td>2023-02-11 23:10:00</td>\n",
       "    </tr>\n",
       "    <tr>\n",
       "      <th>5</th>\n",
       "      <td>11 Sherwood Ridge Road_Brevard_NC</td>\n",
       "      <td>Thru Wall Unit Rm 127</td>\n",
       "      <td>4428.000</td>\n",
       "      <td>2023-02-28 00:00:00</td>\n",
       "      <td>2023-03-03 01:48:00</td>\n",
       "    </tr>\n",
       "    <tr>\n",
       "      <th>6</th>\n",
       "      <td>11 Sherwood Ridge Road_Brevard_NC</td>\n",
       "      <td>Thru Wall Unit Rm 127</td>\n",
       "      <td>4859.000</td>\n",
       "      <td>2023-03-03 01:49:00</td>\n",
       "      <td>2023-03-06 10:48:00</td>\n",
       "    </tr>\n",
       "    <tr>\n",
       "      <th>7</th>\n",
       "      <td>11 Sherwood Ridge Road_Brevard_NC</td>\n",
       "      <td>Thru Wall Unit Rm 127</td>\n",
       "      <td>3387.000</td>\n",
       "      <td>2023-03-25 15:33:00</td>\n",
       "      <td>2023-03-28 00:00:00</td>\n",
       "    </tr>\n",
       "    <tr>\n",
       "      <th>8</th>\n",
       "      <td>11 Sherwood Ridge Road_Brevard_NC</td>\n",
       "      <td>Thru Wall Unit Rm 127</td>\n",
       "      <td>4328.000</td>\n",
       "      <td>2023-04-04 10:02:00</td>\n",
       "      <td>2023-04-07 10:10:00</td>\n",
       "    </tr>\n",
       "    <tr>\n",
       "      <th>9</th>\n",
       "      <td>11 Sherwood Ridge Road_Brevard_NC</td>\n",
       "      <td>Thru Wall Unit Rm 127</td>\n",
       "      <td>4391.000</td>\n",
       "      <td>2023-04-07 10:11:00</td>\n",
       "      <td>2023-04-10 11:22:00</td>\n",
       "    </tr>\n",
       "    <tr>\n",
       "      <th>10</th>\n",
       "      <td>11 Sherwood Ridge Road_Brevard_NC</td>\n",
       "      <td>Thru Wall Unit Rm 127</td>\n",
       "      <td>4880.000</td>\n",
       "      <td>2023-04-20 09:21:00</td>\n",
       "      <td>2023-04-23 18:41:00</td>\n",
       "    </tr>\n",
       "    <tr>\n",
       "      <th>11</th>\n",
       "      <td>11 Sherwood Ridge Road_Brevard_NC</td>\n",
       "      <td>Thru Wall Unit Rm 127</td>\n",
       "      <td>3687.000</td>\n",
       "      <td>2023-05-06 10:33:00</td>\n",
       "      <td>2023-05-09 00:00:00</td>\n",
       "    </tr>\n",
       "    <tr>\n",
       "      <th>12</th>\n",
       "      <td>11 Sherwood Ridge Road_Brevard_NC</td>\n",
       "      <td>Thru Wall Unit Rm 127</td>\n",
       "      <td>8319.000</td>\n",
       "      <td>2023-05-16 00:00:00</td>\n",
       "      <td>2023-05-21 18:39:00</td>\n",
       "    </tr>\n",
       "    <tr>\n",
       "      <th>13</th>\n",
       "      <td>11 Sherwood Ridge Road_Brevard_NC</td>\n",
       "      <td>Thru Wall Unit Rm 127</td>\n",
       "      <td>4794.000</td>\n",
       "      <td>2023-06-13 00:00:00</td>\n",
       "      <td>2023-06-16 07:54:00</td>\n",
       "    </tr>\n",
       "    <tr>\n",
       "      <th>14</th>\n",
       "      <td>11 Sherwood Ridge Road_Brevard_NC</td>\n",
       "      <td>Thru Wall Unit Rm 127</td>\n",
       "      <td>5285.000</td>\n",
       "      <td>2023-06-16 07:55:00</td>\n",
       "      <td>2023-06-20 00:00:00</td>\n",
       "    </tr>\n",
       "    <tr>\n",
       "      <th>15</th>\n",
       "      <td>11 Sherwood Ridge Road_Brevard_NC</td>\n",
       "      <td>Thru Wall Unit Rm 127</td>\n",
       "      <td>6887.000</td>\n",
       "      <td>2023-06-27 00:00:00</td>\n",
       "      <td>2023-07-01 18:47:00</td>\n",
       "    </tr>\n",
       "    <tr>\n",
       "      <th>16</th>\n",
       "      <td>11 Sherwood Ridge Road_Brevard_NC</td>\n",
       "      <td>Thru Wall Unit Rm 127</td>\n",
       "      <td>9165.000</td>\n",
       "      <td>2023-07-01 18:48:00</td>\n",
       "      <td>2023-07-08 03:33:00</td>\n",
       "    </tr>\n",
       "    <tr>\n",
       "      <th>17</th>\n",
       "      <td>11 Sherwood Ridge Road_Brevard_NC</td>\n",
       "      <td>Thru Wall Unit Rm 127</td>\n",
       "      <td>4104.000</td>\n",
       "      <td>2023-07-08 03:36:00</td>\n",
       "      <td>2023-07-11 00:00:00</td>\n",
       "    </tr>\n",
       "    <tr>\n",
       "      <th>18</th>\n",
       "      <td>11 Sherwood Ridge Road_Brevard_NC</td>\n",
       "      <td>Thru Wall Unit Rm 127</td>\n",
       "      <td>4263.000</td>\n",
       "      <td>2023-07-18 00:00:00</td>\n",
       "      <td>2023-07-20 23:03:00</td>\n",
       "    </tr>\n",
       "    <tr>\n",
       "      <th>19</th>\n",
       "      <td>11 Sherwood Ridge Road_Brevard_NC</td>\n",
       "      <td>Thru Wall Unit Rm 127</td>\n",
       "      <td>5816.000</td>\n",
       "      <td>2023-07-20 23:04:00</td>\n",
       "      <td>2023-07-25 00:00:00</td>\n",
       "    </tr>\n",
       "    <tr>\n",
       "      <th>20</th>\n",
       "      <td>11 Sherwood Ridge Road_Brevard_NC</td>\n",
       "      <td>Thru Wall Unit Rm 127</td>\n",
       "      <td>5768.000</td>\n",
       "      <td>2023-08-15 00:00:00</td>\n",
       "      <td>2023-08-19 00:08:00</td>\n",
       "    </tr>\n",
       "    <tr>\n",
       "      <th>21</th>\n",
       "      <td>11 Sherwood Ridge Road_Brevard_NC</td>\n",
       "      <td>Thru Wall Unit Rm 127</td>\n",
       "      <td>9185.000</td>\n",
       "      <td>2023-08-19 00:09:00</td>\n",
       "      <td>2023-08-25 09:14:00</td>\n",
       "    </tr>\n",
       "    <tr>\n",
       "      <th>22</th>\n",
       "      <td>11 Sherwood Ridge Road_Brevard_NC</td>\n",
       "      <td>Thru Wall Unit Rm 127</td>\n",
       "      <td>9154.000</td>\n",
       "      <td>2023-08-25 09:15:00</td>\n",
       "      <td>2023-08-31 17:49:00</td>\n",
       "    </tr>\n",
       "    <tr>\n",
       "      <th>23</th>\n",
       "      <td>11 Sherwood Ridge Road_Brevard_NC</td>\n",
       "      <td>Thru Wall Unit Rm 127</td>\n",
       "      <td>9172.000</td>\n",
       "      <td>2023-08-31 17:50:00</td>\n",
       "      <td>2023-09-07 02:42:00</td>\n",
       "    </tr>\n",
       "    <tr>\n",
       "      <th>24</th>\n",
       "      <td>11 Sherwood Ridge Road_Brevard_NC</td>\n",
       "      <td>Thru Wall Unit Rm 127</td>\n",
       "      <td>7037.000</td>\n",
       "      <td>2023-09-07 02:43:00</td>\n",
       "      <td>2023-09-12 00:00:00</td>\n",
       "    </tr>\n",
       "    <tr>\n",
       "      <th>25</th>\n",
       "      <td>1328 Southeast 2nd Street_Snow Hill_NC</td>\n",
       "      <td>HVAC - Rm 103</td>\n",
       "      <td>5937.000</td>\n",
       "      <td>2023-02-01 09:42:00</td>\n",
       "      <td>2023-02-05 12:39:00</td>\n",
       "    </tr>\n",
       "    <tr>\n",
       "      <th>26</th>\n",
       "      <td>186 One Center Court_Franklin_NC</td>\n",
       "      <td>PTAC 206</td>\n",
       "      <td>8605.000</td>\n",
       "      <td>2023-07-26 00:35:00</td>\n",
       "      <td>2023-08-01 00:00:00</td>\n",
       "    </tr>\n",
       "    <tr>\n",
       "      <th>27</th>\n",
       "      <td>186 One Center Court_Franklin_NC</td>\n",
       "      <td>PTAC 206</td>\n",
       "      <td>4651.000</td>\n",
       "      <td>2023-08-10 01:43:00</td>\n",
       "      <td>2023-08-13 07:14:00</td>\n",
       "    </tr>\n",
       "    <tr>\n",
       "      <th>28</th>\n",
       "      <td>2010 29th Avenue Drive Northeast_Hickory_NC</td>\n",
       "      <td>Room 209</td>\n",
       "      <td>7810.000</td>\n",
       "      <td>2022-05-03 00:00:00</td>\n",
       "      <td>2022-05-08 10:10:00</td>\n",
       "    </tr>\n",
       "    <tr>\n",
       "      <th>29</th>\n",
       "      <td>2010 29th Avenue Drive Northeast_Hickory_NC</td>\n",
       "      <td>Room 209</td>\n",
       "      <td>8305.000</td>\n",
       "      <td>2022-05-08 10:11:00</td>\n",
       "      <td>2022-05-14 04:36:00</td>\n",
       "    </tr>\n",
       "    <tr>\n",
       "      <th>30</th>\n",
       "      <td>2010 29th Avenue Drive Northeast_Hickory_NC</td>\n",
       "      <td>Room 209</td>\n",
       "      <td>5641.000</td>\n",
       "      <td>2022-05-14 04:37:00</td>\n",
       "      <td>2022-05-18 02:38:00</td>\n",
       "    </tr>\n",
       "    <tr>\n",
       "      <th>31</th>\n",
       "      <td>2010 29th Avenue Drive Northeast_Hickory_NC</td>\n",
       "      <td>Room 209</td>\n",
       "      <td>3773.000</td>\n",
       "      <td>2022-05-21 10:54:00</td>\n",
       "      <td>2022-05-24 01:47:00</td>\n",
       "    </tr>\n",
       "    <tr>\n",
       "      <th>32</th>\n",
       "      <td>2010 29th Avenue Drive Northeast_Hickory_NC</td>\n",
       "      <td>Room 209</td>\n",
       "      <td>6605.000</td>\n",
       "      <td>2022-06-23 16:39:00</td>\n",
       "      <td>2022-06-28 06:44:00</td>\n",
       "    </tr>\n",
       "    <tr>\n",
       "      <th>33</th>\n",
       "      <td>2010 29th Avenue Drive Northeast_Hickory_NC</td>\n",
       "      <td>Room 209</td>\n",
       "      <td>4229.000</td>\n",
       "      <td>2022-06-29 11:36:00</td>\n",
       "      <td>2022-07-02 10:05:00</td>\n",
       "    </tr>\n",
       "    <tr>\n",
       "      <th>34</th>\n",
       "      <td>2010 29th Avenue Drive Northeast_Hickory_NC</td>\n",
       "      <td>Room 209</td>\n",
       "      <td>4087.000</td>\n",
       "      <td>2022-07-02 10:08:00</td>\n",
       "      <td>2022-07-05 06:15:00</td>\n",
       "    </tr>\n",
       "    <tr>\n",
       "      <th>35</th>\n",
       "      <td>2010 29th Avenue Drive Northeast_Hickory_NC</td>\n",
       "      <td>Room 209</td>\n",
       "      <td>8327.000</td>\n",
       "      <td>2022-07-05 06:16:00</td>\n",
       "      <td>2022-07-11 01:03:00</td>\n",
       "    </tr>\n",
       "    <tr>\n",
       "      <th>36</th>\n",
       "      <td>2010 29th Avenue Drive Northeast_Hickory_NC</td>\n",
       "      <td>Room 209</td>\n",
       "      <td>6310.000</td>\n",
       "      <td>2022-07-12 10:53:00</td>\n",
       "      <td>2022-07-16 20:03:00</td>\n",
       "    </tr>\n",
       "    <tr>\n",
       "      <th>37</th>\n",
       "      <td>2010 29th Avenue Drive Northeast_Hickory_NC</td>\n",
       "      <td>Room 209</td>\n",
       "      <td>8304.000</td>\n",
       "      <td>2022-07-16 20:08:00</td>\n",
       "      <td>2022-07-22 14:32:00</td>\n",
       "    </tr>\n",
       "    <tr>\n",
       "      <th>38</th>\n",
       "      <td>2010 29th Avenue Drive Northeast_Hickory_NC</td>\n",
       "      <td>Room 209</td>\n",
       "      <td>8322.000</td>\n",
       "      <td>2022-07-22 14:41:00</td>\n",
       "      <td>2022-07-28 09:23:00</td>\n",
       "    </tr>\n",
       "    <tr>\n",
       "      <th>39</th>\n",
       "      <td>2010 29th Avenue Drive Northeast_Hickory_NC</td>\n",
       "      <td>Room 209</td>\n",
       "      <td>6636.000</td>\n",
       "      <td>2022-07-28 09:24:00</td>\n",
       "      <td>2022-08-02 00:00:00</td>\n",
       "    </tr>\n",
       "    <tr>\n",
       "      <th>40</th>\n",
       "      <td>2010 29th Avenue Drive Northeast_Hickory_NC</td>\n",
       "      <td>Room 209</td>\n",
       "      <td>8285.000</td>\n",
       "      <td>2022-08-08 23:11:00</td>\n",
       "      <td>2022-08-14 17:16:00</td>\n",
       "    </tr>\n",
       "    <tr>\n",
       "      <th>41</th>\n",
       "      <td>2010 29th Avenue Drive Northeast_Hickory_NC</td>\n",
       "      <td>Room 209</td>\n",
       "      <td>2897.000</td>\n",
       "      <td>2022-08-21 15:27:00</td>\n",
       "      <td>2022-08-23 15:44:00</td>\n",
       "    </tr>\n",
       "    <tr>\n",
       "      <th>42</th>\n",
       "      <td>2010 29th Avenue Drive Northeast_Hickory_NC</td>\n",
       "      <td>Room 209</td>\n",
       "      <td>8368.000</td>\n",
       "      <td>2022-08-23 15:45:00</td>\n",
       "      <td>2022-08-29 11:13:00</td>\n",
       "    </tr>\n",
       "    <tr>\n",
       "      <th>43</th>\n",
       "      <td>2010 29th Avenue Drive Northeast_Hickory_NC</td>\n",
       "      <td>Room 209</td>\n",
       "      <td>5904.000</td>\n",
       "      <td>2022-09-06 00:00:00</td>\n",
       "      <td>2022-09-10 02:24:00</td>\n",
       "    </tr>\n",
       "    <tr>\n",
       "      <th>44</th>\n",
       "      <td>2010 29th Avenue Drive Northeast_Hickory_NC</td>\n",
       "      <td>Room 209</td>\n",
       "      <td>8349.000</td>\n",
       "      <td>2022-09-10 02:25:00</td>\n",
       "      <td>2022-09-15 21:34:00</td>\n",
       "    </tr>\n",
       "    <tr>\n",
       "      <th>45</th>\n",
       "      <td>2010 29th Avenue Drive Northeast_Hickory_NC</td>\n",
       "      <td>Room 209</td>\n",
       "      <td>5905.000</td>\n",
       "      <td>2022-09-15 21:35:00</td>\n",
       "      <td>2022-09-20 00:00:00</td>\n",
       "    </tr>\n",
       "    <tr>\n",
       "      <th>46</th>\n",
       "      <td>2010 29th Avenue Drive Northeast_Hickory_NC</td>\n",
       "      <td>Room 209</td>\n",
       "      <td>3082.000</td>\n",
       "      <td>2023-04-04 00:00:00</td>\n",
       "      <td>2023-04-06 03:22:00</td>\n",
       "    </tr>\n",
       "    <tr>\n",
       "      <th>47</th>\n",
       "      <td>2010 29th Avenue Drive Northeast_Hickory_NC</td>\n",
       "      <td>Room 209</td>\n",
       "      <td>7823.000</td>\n",
       "      <td>2023-04-12 14:06:00</td>\n",
       "      <td>2023-04-18 00:29:00</td>\n",
       "    </tr>\n",
       "    <tr>\n",
       "      <th>48</th>\n",
       "      <td>2010 29th Avenue Drive Northeast_Hickory_NC</td>\n",
       "      <td>Room 209</td>\n",
       "      <td>5963.000</td>\n",
       "      <td>2023-04-18 00:30:00</td>\n",
       "      <td>2023-04-22 03:53:00</td>\n",
       "    </tr>\n",
       "    <tr>\n",
       "      <th>49</th>\n",
       "      <td>2010 29th Avenue Drive Northeast_Hickory_NC</td>\n",
       "      <td>Room 209</td>\n",
       "      <td>8304.000</td>\n",
       "      <td>2023-06-26 06:52:00</td>\n",
       "      <td>2023-07-02 01:16:00</td>\n",
       "    </tr>\n",
       "    <tr>\n",
       "      <th>50</th>\n",
       "      <td>2010 29th Avenue Drive Northeast_Hickory_NC</td>\n",
       "      <td>Room 209</td>\n",
       "      <td>3730.000</td>\n",
       "      <td>2023-07-11 00:00:00</td>\n",
       "      <td>2023-07-13 14:10:00</td>\n",
       "    </tr>\n",
       "    <tr>\n",
       "      <th>51</th>\n",
       "      <td>2010 29th Avenue Drive Northeast_Hickory_NC</td>\n",
       "      <td>Room 209</td>\n",
       "      <td>8296.000</td>\n",
       "      <td>2023-07-13 14:11:00</td>\n",
       "      <td>2023-07-19 08:27:00</td>\n",
       "    </tr>\n",
       "    <tr>\n",
       "      <th>52</th>\n",
       "      <td>2010 29th Avenue Drive Northeast_Hickory_NC</td>\n",
       "      <td>Room 209</td>\n",
       "      <td>8279.000</td>\n",
       "      <td>2023-07-19 08:28:00</td>\n",
       "      <td>2023-07-25 02:27:00</td>\n",
       "    </tr>\n",
       "    <tr>\n",
       "      <th>53</th>\n",
       "      <td>2010 29th Avenue Drive Northeast_Hickory_NC</td>\n",
       "      <td>Room 209</td>\n",
       "      <td>8324.000</td>\n",
       "      <td>2023-07-25 02:28:00</td>\n",
       "      <td>2023-07-30 21:12:00</td>\n",
       "    </tr>\n",
       "    <tr>\n",
       "      <th>54</th>\n",
       "      <td>2010 29th Avenue Drive Northeast_Hickory_NC</td>\n",
       "      <td>Room 209</td>\n",
       "      <td>4904.000</td>\n",
       "      <td>2023-08-08 00:00:00</td>\n",
       "      <td>2023-08-11 09:44:00</td>\n",
       "    </tr>\n",
       "    <tr>\n",
       "      <th>55</th>\n",
       "      <td>2010 29th Avenue Drive Northeast_Hickory_NC</td>\n",
       "      <td>Room 209</td>\n",
       "      <td>3223.000</td>\n",
       "      <td>2023-08-11 09:45:00</td>\n",
       "      <td>2023-08-13 15:28:00</td>\n",
       "    </tr>\n",
       "    <tr>\n",
       "      <th>56</th>\n",
       "      <td>2010 29th Avenue Drive Northeast_Hickory_NC</td>\n",
       "      <td>Room 209</td>\n",
       "      <td>6137.000</td>\n",
       "      <td>2023-08-13 16:42:00</td>\n",
       "      <td>2023-08-17 22:59:00</td>\n",
       "    </tr>\n",
       "    <tr>\n",
       "      <th>57</th>\n",
       "      <td>2010 29th Avenue Drive Northeast_Hickory_NC</td>\n",
       "      <td>Room 209</td>\n",
       "      <td>5820.000</td>\n",
       "      <td>2023-08-17 23:00:00</td>\n",
       "      <td>2023-08-22 00:00:00</td>\n",
       "    </tr>\n",
       "    <tr>\n",
       "      <th>58</th>\n",
       "      <td>2010 29th Avenue Drive Northeast_Hickory_NC</td>\n",
       "      <td>Room 209</td>\n",
       "      <td>8392.000</td>\n",
       "      <td>2023-08-29 15:02:00</td>\n",
       "      <td>2023-09-04 10:54:00</td>\n",
       "    </tr>\n",
       "    <tr>\n",
       "      <th>59</th>\n",
       "      <td>2010 29th Avenue Drive Northeast_Hickory_NC</td>\n",
       "      <td>Room 209</td>\n",
       "      <td>8430.000</td>\n",
       "      <td>2023-09-04 10:55:00</td>\n",
       "      <td>2023-09-10 07:25:00</td>\n",
       "    </tr>\n",
       "    <tr>\n",
       "      <th>60</th>\n",
       "      <td>2010 29th Avenue Drive Northeast_Hickory_NC</td>\n",
       "      <td>Room 209</td>\n",
       "      <td>8382.000</td>\n",
       "      <td>2023-09-10 07:26:00</td>\n",
       "      <td>2023-09-16 03:08:00</td>\n",
       "    </tr>\n",
       "    <tr>\n",
       "      <th>61</th>\n",
       "      <td>2010 29th Avenue Drive Northeast_Hickory_NC</td>\n",
       "      <td>Room 209</td>\n",
       "      <td>8406.000</td>\n",
       "      <td>2023-09-16 03:09:00</td>\n",
       "      <td>2023-09-21 23:15:00</td>\n",
       "    </tr>\n",
       "    <tr>\n",
       "      <th>62</th>\n",
       "      <td>2010 29th Avenue Drive Northeast_Hickory_NC</td>\n",
       "      <td>Room 209</td>\n",
       "      <td>8375.000</td>\n",
       "      <td>2023-09-21 23:16:00</td>\n",
       "      <td>2023-09-27 18:51:00</td>\n",
       "    </tr>\n",
       "    <tr>\n",
       "      <th>63</th>\n",
       "      <td>2010 29th Avenue Drive Northeast_Hickory_NC</td>\n",
       "      <td>Room 209</td>\n",
       "      <td>8343.000</td>\n",
       "      <td>2023-09-27 18:52:00</td>\n",
       "      <td>2023-10-03 13:55:00</td>\n",
       "    </tr>\n",
       "    <tr>\n",
       "      <th>64</th>\n",
       "      <td>2010 29th Avenue Drive Northeast_Hickory_NC</td>\n",
       "      <td>Room 209</td>\n",
       "      <td>6713.000</td>\n",
       "      <td>2023-10-03 13:56:00</td>\n",
       "      <td>2023-10-08 05:49:00</td>\n",
       "    </tr>\n",
       "    <tr>\n",
       "      <th>65</th>\n",
       "      <td>2010 29th Avenue Drive Northeast_Hickory_NC</td>\n",
       "      <td>Room 209</td>\n",
       "      <td>4967.000</td>\n",
       "      <td>2023-10-17 12:43:00</td>\n",
       "      <td>2023-10-20 23:30:00</td>\n",
       "    </tr>\n",
       "    <tr>\n",
       "      <th>66</th>\n",
       "      <td>2010 29th Avenue Drive Northeast_Hickory_NC</td>\n",
       "      <td>Room 209</td>\n",
       "      <td>4949.000</td>\n",
       "      <td>2023-10-20 23:31:00</td>\n",
       "      <td>2023-10-24 10:00:00</td>\n",
       "    </tr>\n",
       "    <tr>\n",
       "      <th>67</th>\n",
       "      <td>2010 29th Avenue Drive Northeast_Hickory_NC</td>\n",
       "      <td>Room 209</td>\n",
       "      <td>4935.000</td>\n",
       "      <td>2023-11-02 10:54:00</td>\n",
       "      <td>2023-11-05 21:09:00</td>\n",
       "    </tr>\n",
       "    <tr>\n",
       "      <th>68</th>\n",
       "      <td>27669 Highway 125_Scotland Neck_NC</td>\n",
       "      <td>CABLE BOARD RM 624</td>\n",
       "      <td>4721.000</td>\n",
       "      <td>2022-04-27 15:49:00</td>\n",
       "      <td>2022-04-30 22:30:00</td>\n",
       "    </tr>\n",
       "    <tr>\n",
       "      <th>69</th>\n",
       "      <td>27669 Highway 125_Scotland Neck_NC</td>\n",
       "      <td>CABLE BOARD RM 624</td>\n",
       "      <td>8198.000</td>\n",
       "      <td>2022-04-30 22:31:00</td>\n",
       "      <td>2022-05-06 15:09:00</td>\n",
       "    </tr>\n",
       "    <tr>\n",
       "      <th>70</th>\n",
       "      <td>27669 Highway 125_Scotland Neck_NC</td>\n",
       "      <td>CABLE BOARD RM 624</td>\n",
       "      <td>4850.000</td>\n",
       "      <td>2022-05-06 15:10:00</td>\n",
       "      <td>2022-05-10 00:00:00</td>\n",
       "    </tr>\n",
       "    <tr>\n",
       "      <th>71</th>\n",
       "      <td>27669 Highway 125_Scotland Neck_NC</td>\n",
       "      <td>CABLE BOARD RM 624</td>\n",
       "      <td>8131.000</td>\n",
       "      <td>2022-05-17 23:59:00</td>\n",
       "      <td>2022-05-23 15:30:00</td>\n",
       "    </tr>\n",
       "    <tr>\n",
       "      <th>72</th>\n",
       "      <td>27669 Highway 125_Scotland Neck_NC</td>\n",
       "      <td>CABLE BOARD RM 624</td>\n",
       "      <td>8146.000</td>\n",
       "      <td>2022-06-15 06:33:00</td>\n",
       "      <td>2022-06-20 22:19:00</td>\n",
       "    </tr>\n",
       "    <tr>\n",
       "      <th>73</th>\n",
       "      <td>27669 Highway 125_Scotland Neck_NC</td>\n",
       "      <td>CABLE BOARD RM 624</td>\n",
       "      <td>8114.000</td>\n",
       "      <td>2022-06-20 22:20:00</td>\n",
       "      <td>2022-06-26 13:34:00</td>\n",
       "    </tr>\n",
       "    <tr>\n",
       "      <th>74</th>\n",
       "      <td>27669 Highway 125_Scotland Neck_NC</td>\n",
       "      <td>CABLE BOARD RM 624</td>\n",
       "      <td>4162.000</td>\n",
       "      <td>2022-07-05 00:00:00</td>\n",
       "      <td>2022-07-07 21:22:00</td>\n",
       "    </tr>\n",
       "    <tr>\n",
       "      <th>75</th>\n",
       "      <td>27669 Highway 125_Scotland Neck_NC</td>\n",
       "      <td>CABLE BOARD RM 624</td>\n",
       "      <td>8183.000</td>\n",
       "      <td>2022-07-07 21:25:00</td>\n",
       "      <td>2022-07-13 13:48:00</td>\n",
       "    </tr>\n",
       "    <tr>\n",
       "      <th>76</th>\n",
       "      <td>27669 Highway 125_Scotland Neck_NC</td>\n",
       "      <td>CABLE BOARD RM 624</td>\n",
       "      <td>6052.000</td>\n",
       "      <td>2022-07-13 13:49:00</td>\n",
       "      <td>2022-07-17 18:41:00</td>\n",
       "    </tr>\n",
       "    <tr>\n",
       "      <th>77</th>\n",
       "      <td>27669 Highway 125_Scotland Neck_NC</td>\n",
       "      <td>CABLE BOARD RM 624</td>\n",
       "      <td>6479.000</td>\n",
       "      <td>2022-07-26 00:00:00</td>\n",
       "      <td>2022-07-30 11:59:00</td>\n",
       "    </tr>\n",
       "    <tr>\n",
       "      <th>78</th>\n",
       "      <td>27669 Highway 125_Scotland Neck_NC</td>\n",
       "      <td>CABLE BOARD RM 624</td>\n",
       "      <td>4435.000</td>\n",
       "      <td>2022-07-30 12:00:00</td>\n",
       "      <td>2022-08-02 13:55:00</td>\n",
       "    </tr>\n",
       "    <tr>\n",
       "      <th>79</th>\n",
       "      <td>27669 Highway 125_Scotland Neck_NC</td>\n",
       "      <td>CABLE BOARD RM 624</td>\n",
       "      <td>8082.000</td>\n",
       "      <td>2022-08-02 17:41:00</td>\n",
       "      <td>2022-08-08 08:23:00</td>\n",
       "    </tr>\n",
       "    <tr>\n",
       "      <th>80</th>\n",
       "      <td>27669 Highway 125_Scotland Neck_NC</td>\n",
       "      <td>CABLE BOARD RM 624</td>\n",
       "      <td>3062.000</td>\n",
       "      <td>2022-08-23 00:00:00</td>\n",
       "      <td>2022-08-25 03:02:00</td>\n",
       "    </tr>\n",
       "    <tr>\n",
       "      <th>81</th>\n",
       "      <td>27669 Highway 125_Scotland Neck_NC</td>\n",
       "      <td>CABLE BOARD RM 624</td>\n",
       "      <td>7017.000</td>\n",
       "      <td>2022-08-25 03:03:00</td>\n",
       "      <td>2022-08-30 00:00:00</td>\n",
       "    </tr>\n",
       "    <tr>\n",
       "      <th>82</th>\n",
       "      <td>27669 Highway 125_Scotland Neck_NC</td>\n",
       "      <td>CABLE BOARD RM 624</td>\n",
       "      <td>7184.000</td>\n",
       "      <td>2022-09-06 00:00:00</td>\n",
       "      <td>2022-09-10 23:44:00</td>\n",
       "    </tr>\n",
       "    <tr>\n",
       "      <th>83</th>\n",
       "      <td>27669 Highway 125_Scotland Neck_NC</td>\n",
       "      <td>CABLE BOARD RM 624</td>\n",
       "      <td>2895.000</td>\n",
       "      <td>2022-09-10 23:45:00</td>\n",
       "      <td>2022-09-13 00:00:00</td>\n",
       "    </tr>\n",
       "    <tr>\n",
       "      <th>84</th>\n",
       "      <td>27669 Highway 125_Scotland Neck_NC</td>\n",
       "      <td>CABLE BOARD RM 624</td>\n",
       "      <td>3216.000</td>\n",
       "      <td>2022-09-20 00:00:00</td>\n",
       "      <td>2022-09-22 05:36:00</td>\n",
       "    </tr>\n",
       "    <tr>\n",
       "      <th>85</th>\n",
       "      <td>27669 Highway 125_Scotland Neck_NC</td>\n",
       "      <td>CABLE BOARD RM 624</td>\n",
       "      <td>8066.000</td>\n",
       "      <td>2022-09-22 05:37:00</td>\n",
       "      <td>2022-09-27 20:03:00</td>\n",
       "    </tr>\n",
       "    <tr>\n",
       "      <th>86</th>\n",
       "      <td>27669 Highway 125_Scotland Neck_NC</td>\n",
       "      <td>CABLE BOARD RM 624</td>\n",
       "      <td>8076.000</td>\n",
       "      <td>2022-09-27 20:06:00</td>\n",
       "      <td>2022-10-03 10:42:00</td>\n",
       "    </tr>\n",
       "    <tr>\n",
       "      <th>87</th>\n",
       "      <td>27669 Highway 125_Scotland Neck_NC</td>\n",
       "      <td>CABLE BOARD RM 624</td>\n",
       "      <td>8118.000</td>\n",
       "      <td>2022-10-03 10:43:00</td>\n",
       "      <td>2022-10-09 02:01:00</td>\n",
       "    </tr>\n",
       "    <tr>\n",
       "      <th>88</th>\n",
       "      <td>27669 Highway 125_Scotland Neck_NC</td>\n",
       "      <td>CABLE BOARD RM 624</td>\n",
       "      <td>3287.000</td>\n",
       "      <td>2022-10-18 00:00:00</td>\n",
       "      <td>2022-10-20 06:47:00</td>\n",
       "    </tr>\n",
       "    <tr>\n",
       "      <th>89</th>\n",
       "      <td>27669 Highway 125_Scotland Neck_NC</td>\n",
       "      <td>CABLE BOARD RM 624</td>\n",
       "      <td>6792.000</td>\n",
       "      <td>2022-10-20 06:48:00</td>\n",
       "      <td>2022-10-25 00:00:00</td>\n",
       "    </tr>\n",
       "    <tr>\n",
       "      <th>90</th>\n",
       "      <td>27669 Highway 125_Scotland Neck_NC</td>\n",
       "      <td>CABLE BOARD RM 624</td>\n",
       "      <td>3384.000</td>\n",
       "      <td>2022-11-15 00:00:00</td>\n",
       "      <td>2022-11-17 08:24:00</td>\n",
       "    </tr>\n",
       "    <tr>\n",
       "      <th>91</th>\n",
       "      <td>27669 Highway 125_Scotland Neck_NC</td>\n",
       "      <td>CABLE BOARD RM 624</td>\n",
       "      <td>6693.000</td>\n",
       "      <td>2022-11-17 08:27:00</td>\n",
       "      <td>2022-11-22 00:00:00</td>\n",
       "    </tr>\n",
       "    <tr>\n",
       "      <th>92</th>\n",
       "      <td>27669 Highway 125_Scotland Neck_NC</td>\n",
       "      <td>CABLE BOARD RM 624</td>\n",
       "      <td>7450.000</td>\n",
       "      <td>2022-11-29 00:00:00</td>\n",
       "      <td>2022-12-04 04:10:00</td>\n",
       "    </tr>\n",
       "    <tr>\n",
       "      <th>93</th>\n",
       "      <td>27669 Highway 125_Scotland Neck_NC</td>\n",
       "      <td>CABLE BOARD RM 624</td>\n",
       "      <td>8087.000</td>\n",
       "      <td>2022-12-04 04:11:00</td>\n",
       "      <td>2022-12-09 18:58:00</td>\n",
       "    </tr>\n",
       "    <tr>\n",
       "      <th>94</th>\n",
       "      <td>27669 Highway 125_Scotland Neck_NC</td>\n",
       "      <td>CABLE BOARD RM 624</td>\n",
       "      <td>8091.000</td>\n",
       "      <td>2022-12-09 18:59:00</td>\n",
       "      <td>2022-12-15 09:50:00</td>\n",
       "    </tr>\n",
       "    <tr>\n",
       "      <th>95</th>\n",
       "      <td>27669 Highway 125_Scotland Neck_NC</td>\n",
       "      <td>CABLE BOARD RM 624</td>\n",
       "      <td>8090.000</td>\n",
       "      <td>2022-12-15 09:54:00</td>\n",
       "      <td>2022-12-21 00:44:00</td>\n",
       "    </tr>\n",
       "    <tr>\n",
       "      <th>96</th>\n",
       "      <td>27669 Highway 125_Scotland Neck_NC</td>\n",
       "      <td>CABLE BOARD RM 624</td>\n",
       "      <td>8068.000</td>\n",
       "      <td>2022-12-21 00:45:00</td>\n",
       "      <td>2022-12-26 15:13:00</td>\n",
       "    </tr>\n",
       "    <tr>\n",
       "      <th>97</th>\n",
       "      <td>27669 Highway 125_Scotland Neck_NC</td>\n",
       "      <td>CABLE BOARD RM 624</td>\n",
       "      <td>8123.000</td>\n",
       "      <td>2023-01-11 01:12:00</td>\n",
       "      <td>2023-01-16 16:35:00</td>\n",
       "    </tr>\n",
       "    <tr>\n",
       "      <th>98</th>\n",
       "      <td>27669 Highway 125_Scotland Neck_NC</td>\n",
       "      <td>CABLE BOARD RM 624</td>\n",
       "      <td>3624.000</td>\n",
       "      <td>2023-01-16 16:36:00</td>\n",
       "      <td>2023-01-19 05:00:00</td>\n",
       "    </tr>\n",
       "    <tr>\n",
       "      <th>99</th>\n",
       "      <td>27669 Highway 125_Scotland Neck_NC</td>\n",
       "      <td>CABLE BOARD RM 624</td>\n",
       "      <td>8125.000</td>\n",
       "      <td>2023-01-20 20:11:00</td>\n",
       "      <td>2023-01-26 11:36:00</td>\n",
       "    </tr>\n",
       "    <tr>\n",
       "      <th>100</th>\n",
       "      <td>27669 Highway 125_Scotland Neck_NC</td>\n",
       "      <td>CABLE BOARD RM 624</td>\n",
       "      <td>8103.000</td>\n",
       "      <td>2023-01-26 11:37:00</td>\n",
       "      <td>2023-02-01 02:40:00</td>\n",
       "    </tr>\n",
       "    <tr>\n",
       "      <th>101</th>\n",
       "      <td>27669 Highway 125_Scotland Neck_NC</td>\n",
       "      <td>CABLE BOARD RM 624</td>\n",
       "      <td>8087.000</td>\n",
       "      <td>2023-02-01 02:41:00</td>\n",
       "      <td>2023-02-06 17:28:00</td>\n",
       "    </tr>\n",
       "    <tr>\n",
       "      <th>102</th>\n",
       "      <td>27669 Highway 125_Scotland Neck_NC</td>\n",
       "      <td>CABLE BOARD RM 624</td>\n",
       "      <td>8088.000</td>\n",
       "      <td>2023-02-06 17:29:00</td>\n",
       "      <td>2023-02-12 08:17:00</td>\n",
       "    </tr>\n",
       "    <tr>\n",
       "      <th>103</th>\n",
       "      <td>27669 Highway 125_Scotland Neck_NC</td>\n",
       "      <td>CABLE BOARD RM 624</td>\n",
       "      <td>5047.000</td>\n",
       "      <td>2023-03-07 00:00:00</td>\n",
       "      <td>2023-03-10 12:07:00</td>\n",
       "    </tr>\n",
       "    <tr>\n",
       "      <th>104</th>\n",
       "      <td>27669 Highway 125_Scotland Neck_NC</td>\n",
       "      <td>CABLE BOARD RM 624</td>\n",
       "      <td>5032.000</td>\n",
       "      <td>2023-03-10 12:08:00</td>\n",
       "      <td>2023-03-14 00:00:00</td>\n",
       "    </tr>\n",
       "    <tr>\n",
       "      <th>105</th>\n",
       "      <td>27669 Highway 125_Scotland Neck_NC</td>\n",
       "      <td>CABLE BOARD RM 624</td>\n",
       "      <td>8124.000</td>\n",
       "      <td>2023-03-21 17:36:00</td>\n",
       "      <td>2023-03-27 09:00:00</td>\n",
       "    </tr>\n",
       "    <tr>\n",
       "      <th>106</th>\n",
       "      <td>27669 Highway 125_Scotland Neck_NC</td>\n",
       "      <td>CABLE BOARD RM 624</td>\n",
       "      <td>8123.000</td>\n",
       "      <td>2023-03-27 09:01:00</td>\n",
       "      <td>2023-04-02 00:24:00</td>\n",
       "    </tr>\n",
       "    <tr>\n",
       "      <th>107</th>\n",
       "      <td>27669 Highway 125_Scotland Neck_NC</td>\n",
       "      <td>CABLE BOARD RM 624</td>\n",
       "      <td>8144.000</td>\n",
       "      <td>2023-04-02 00:25:00</td>\n",
       "      <td>2023-04-07 16:09:00</td>\n",
       "    </tr>\n",
       "    <tr>\n",
       "      <th>108</th>\n",
       "      <td>27669 Highway 125_Scotland Neck_NC</td>\n",
       "      <td>CABLE BOARD RM 624</td>\n",
       "      <td>4790.000</td>\n",
       "      <td>2023-04-07 16:10:00</td>\n",
       "      <td>2023-04-11 00:00:00</td>\n",
       "    </tr>\n",
       "    <tr>\n",
       "      <th>109</th>\n",
       "      <td>27669 Highway 125_Scotland Neck_NC</td>\n",
       "      <td>CABLE BOARD RM 624</td>\n",
       "      <td>8168.000</td>\n",
       "      <td>2023-04-18 23:11:00</td>\n",
       "      <td>2023-04-24 15:19:00</td>\n",
       "    </tr>\n",
       "    <tr>\n",
       "      <th>110</th>\n",
       "      <td>27669 Highway 125_Scotland Neck_NC</td>\n",
       "      <td>CABLE BOARD RM 624</td>\n",
       "      <td>3287.000</td>\n",
       "      <td>2023-05-16 00:00:00</td>\n",
       "      <td>2023-05-18 06:47:00</td>\n",
       "    </tr>\n",
       "    <tr>\n",
       "      <th>111</th>\n",
       "      <td>27669 Highway 125_Scotland Neck_NC</td>\n",
       "      <td>CABLE BOARD RM 624</td>\n",
       "      <td>8091.000</td>\n",
       "      <td>2023-05-18 06:48:00</td>\n",
       "      <td>2023-05-23 21:39:00</td>\n",
       "    </tr>\n",
       "    <tr>\n",
       "      <th>112</th>\n",
       "      <td>27669 Highway 125_Scotland Neck_NC</td>\n",
       "      <td>CABLE BOARD RM 624</td>\n",
       "      <td>6828.000</td>\n",
       "      <td>2023-05-24 18:54:00</td>\n",
       "      <td>2023-05-29 12:42:00</td>\n",
       "    </tr>\n",
       "    <tr>\n",
       "      <th>113</th>\n",
       "      <td>27669 Highway 125_Scotland Neck_NC</td>\n",
       "      <td>CABLE BOARD RM 624</td>\n",
       "      <td>6631.000</td>\n",
       "      <td>2023-06-06 00:00:00</td>\n",
       "      <td>2023-06-10 14:31:00</td>\n",
       "    </tr>\n",
       "    <tr>\n",
       "      <th>114</th>\n",
       "      <td>27669 Highway 125_Scotland Neck_NC</td>\n",
       "      <td>CABLE BOARD RM 624</td>\n",
       "      <td>8106.000</td>\n",
       "      <td>2023-06-10 14:32:00</td>\n",
       "      <td>2023-06-16 05:38:00</td>\n",
       "    </tr>\n",
       "    <tr>\n",
       "      <th>115</th>\n",
       "      <td>27669 Highway 125_Scotland Neck_NC</td>\n",
       "      <td>CABLE BOARD RM 624</td>\n",
       "      <td>5421.000</td>\n",
       "      <td>2023-06-16 05:39:00</td>\n",
       "      <td>2023-06-20 00:00:00</td>\n",
       "    </tr>\n",
       "    <tr>\n",
       "      <th>116</th>\n",
       "      <td>27669 Highway 125_Scotland Neck_NC</td>\n",
       "      <td>CABLE BOARD RM 624</td>\n",
       "      <td>8121.000</td>\n",
       "      <td>2023-06-27 11:30:00</td>\n",
       "      <td>2023-07-03 02:51:00</td>\n",
       "    </tr>\n",
       "    <tr>\n",
       "      <th>117</th>\n",
       "      <td>27669 Highway 125_Scotland Neck_NC</td>\n",
       "      <td>CABLE BOARD RM 624</td>\n",
       "      <td>8090.000</td>\n",
       "      <td>2023-07-03 03:05:00</td>\n",
       "      <td>2023-07-08 17:55:00</td>\n",
       "    </tr>\n",
       "    <tr>\n",
       "      <th>118</th>\n",
       "      <td>27669 Highway 125_Scotland Neck_NC</td>\n",
       "      <td>CABLE BOARD RM 624</td>\n",
       "      <td>6336.000</td>\n",
       "      <td>2023-07-25 00:00:00</td>\n",
       "      <td>2023-07-29 09:36:00</td>\n",
       "    </tr>\n",
       "    <tr>\n",
       "      <th>119</th>\n",
       "      <td>27669 Highway 125_Scotland Neck_NC</td>\n",
       "      <td>CABLE BOARD RM 624</td>\n",
       "      <td>3743.000</td>\n",
       "      <td>2023-07-29 09:37:00</td>\n",
       "      <td>2023-08-01 00:00:00</td>\n",
       "    </tr>\n",
       "    <tr>\n",
       "      <th>120</th>\n",
       "      <td>27669 Highway 125_Scotland Neck_NC</td>\n",
       "      <td>CABLE BOARD RM 624</td>\n",
       "      <td>7642.000</td>\n",
       "      <td>2023-08-09 16:38:00</td>\n",
       "      <td>2023-08-15 00:00:00</td>\n",
       "    </tr>\n",
       "    <tr>\n",
       "      <th>121</th>\n",
       "      <td>27669 Highway 125_Scotland Neck_NC</td>\n",
       "      <td>CABLE BOARD RM 624</td>\n",
       "      <td>8081.000</td>\n",
       "      <td>2023-08-22 10:17:00</td>\n",
       "      <td>2023-08-28 00:58:00</td>\n",
       "    </tr>\n",
       "    <tr>\n",
       "      <th>122</th>\n",
       "      <td>27669 Highway 125_Scotland Neck_NC</td>\n",
       "      <td>CABLE BOARD RM 624</td>\n",
       "      <td>8108.000</td>\n",
       "      <td>2023-08-28 00:59:00</td>\n",
       "      <td>2023-09-02 16:07:00</td>\n",
       "    </tr>\n",
       "    <tr>\n",
       "      <th>123</th>\n",
       "      <td>27669 Highway 125_Scotland Neck_NC</td>\n",
       "      <td>CABLE BOARD RM 624</td>\n",
       "      <td>8127.000</td>\n",
       "      <td>2023-09-02 16:08:00</td>\n",
       "      <td>2023-09-08 07:35:00</td>\n",
       "    </tr>\n",
       "    <tr>\n",
       "      <th>124</th>\n",
       "      <td>27669 Highway 125_Scotland Neck_NC</td>\n",
       "      <td>CABLE BOARD RM 624</td>\n",
       "      <td>3043.000</td>\n",
       "      <td>2023-09-09 21:17:00</td>\n",
       "      <td>2023-09-12 00:00:00</td>\n",
       "    </tr>\n",
       "    <tr>\n",
       "      <th>125</th>\n",
       "      <td>27669 Highway 125_Scotland Neck_NC</td>\n",
       "      <td>CABLE BOARD RM 624</td>\n",
       "      <td>7573.000</td>\n",
       "      <td>2023-09-20 17:47:00</td>\n",
       "      <td>2023-09-26 00:00:00</td>\n",
       "    </tr>\n",
       "    <tr>\n",
       "      <th>126</th>\n",
       "      <td>27669 Highway 125_Scotland Neck_NC</td>\n",
       "      <td>CABLE BOARD RM 624</td>\n",
       "      <td>7362.000</td>\n",
       "      <td>2023-10-18 21:18:00</td>\n",
       "      <td>2023-10-24 00:00:00</td>\n",
       "    </tr>\n",
       "    <tr>\n",
       "      <th>127</th>\n",
       "      <td>27669 Highway 125_Scotland Neck_NC</td>\n",
       "      <td>CABLE BOARD RM 624</td>\n",
       "      <td>6881.000</td>\n",
       "      <td>2023-10-31 00:00:00</td>\n",
       "      <td>2023-11-04 18:41:00</td>\n",
       "    </tr>\n",
       "    <tr>\n",
       "      <th>128</th>\n",
       "      <td>27669 Highway 125_Scotland Neck_NC</td>\n",
       "      <td>CABLE BOARD RM 624</td>\n",
       "      <td>8105.000</td>\n",
       "      <td>2023-11-04 18:42:00</td>\n",
       "      <td>2023-11-10 09:47:00</td>\n",
       "    </tr>\n",
       "    <tr>\n",
       "      <th>129</th>\n",
       "      <td>27669 Highway 125_Scotland Neck_NC</td>\n",
       "      <td>CABLE BOARD RM 624</td>\n",
       "      <td>8109.000</td>\n",
       "      <td>2023-11-10 09:48:00</td>\n",
       "      <td>2023-11-16 00:57:00</td>\n",
       "    </tr>\n",
       "    <tr>\n",
       "      <th>130</th>\n",
       "      <td>27669 Highway 125_Scotland Neck_NC</td>\n",
       "      <td>CABLE BOARD RM 624</td>\n",
       "      <td>8079.000</td>\n",
       "      <td>2023-11-16 00:58:00</td>\n",
       "      <td>2023-11-21 15:37:00</td>\n",
       "    </tr>\n",
       "    <tr>\n",
       "      <th>131</th>\n",
       "      <td>27669 Highway 125_Scotland Neck_NC</td>\n",
       "      <td>CABLE BOARD RM 624</td>\n",
       "      <td>5994.000</td>\n",
       "      <td>2023-11-23 12:12:00</td>\n",
       "      <td>2023-11-27 16:06:00</td>\n",
       "    </tr>\n",
       "    <tr>\n",
       "      <th>132</th>\n",
       "      <td>27669 Highway 125_Scotland Neck_NC</td>\n",
       "      <td>CABLE BOARD RM 624</td>\n",
       "      <td>3761.000</td>\n",
       "      <td>2023-12-12 00:00:00</td>\n",
       "      <td>2023-12-14 14:41:00</td>\n",
       "    </tr>\n",
       "    <tr>\n",
       "      <th>133</th>\n",
       "      <td>27669 Highway 125_Scotland Neck_NC</td>\n",
       "      <td>CABLE BOARD RM 624</td>\n",
       "      <td>8126.000</td>\n",
       "      <td>2023-12-14 14:42:00</td>\n",
       "      <td>2023-12-20 06:08:00</td>\n",
       "    </tr>\n",
       "    <tr>\n",
       "      <th>134</th>\n",
       "      <td>27669 Highway 125_Scotland Neck_NC</td>\n",
       "      <td>CABLE BOARD RM 624</td>\n",
       "      <td>8096.000</td>\n",
       "      <td>2023-12-20 06:09:00</td>\n",
       "      <td>2023-12-25 21:05:00</td>\n",
       "    </tr>\n",
       "    <tr>\n",
       "      <th>135</th>\n",
       "      <td>27669 Highway 125_Scotland Neck_NC</td>\n",
       "      <td>CABLE BOARD RM 624</td>\n",
       "      <td>8092.000</td>\n",
       "      <td>2023-12-25 21:06:00</td>\n",
       "      <td>2023-12-31 11:58:00</td>\n",
       "    </tr>\n",
       "    <tr>\n",
       "      <th>136</th>\n",
       "      <td>27669 Highway 125_Scotland Neck_NC</td>\n",
       "      <td>CABLE BOARD RM 624</td>\n",
       "      <td>8128.000</td>\n",
       "      <td>2023-12-31 12:07:00</td>\n",
       "      <td>2024-01-06 03:35:00</td>\n",
       "    </tr>\n",
       "    <tr>\n",
       "      <th>137</th>\n",
       "      <td>27669 Highway 125_Scotland Neck_NC</td>\n",
       "      <td>CABLE BOARD RM 624</td>\n",
       "      <td>8075.000</td>\n",
       "      <td>2024-01-06 03:36:00</td>\n",
       "      <td>2024-01-11 18:11:00</td>\n",
       "    </tr>\n",
       "    <tr>\n",
       "      <th>138</th>\n",
       "      <td>27669 Highway 125_Scotland Neck_NC</td>\n",
       "      <td>CABLE BOARD RM 624</td>\n",
       "      <td>6108.000</td>\n",
       "      <td>2024-01-11 18:12:00</td>\n",
       "      <td>2024-01-16 00:00:00</td>\n",
       "    </tr>\n",
       "    <tr>\n",
       "      <th>139</th>\n",
       "      <td>27669 Highway 125_Scotland Neck_NC</td>\n",
       "      <td>CABLE BOARD RM 624</td>\n",
       "      <td>4060.000</td>\n",
       "      <td>2024-02-06 00:00:00</td>\n",
       "      <td>2024-02-08 19:40:00</td>\n",
       "    </tr>\n",
       "    <tr>\n",
       "      <th>140</th>\n",
       "      <td>27669 Highway 125_Scotland Neck_NC</td>\n",
       "      <td>CABLE BOARD RM 624</td>\n",
       "      <td>6019.000</td>\n",
       "      <td>2024-02-08 19:41:00</td>\n",
       "      <td>2024-02-13 00:00:00</td>\n",
       "    </tr>\n",
       "    <tr>\n",
       "      <th>141</th>\n",
       "      <td>27669 Highway 125_Scotland Neck_NC</td>\n",
       "      <td>CABLE BOARD RM 624</td>\n",
       "      <td>8033.000</td>\n",
       "      <td>2024-02-20 00:00:00</td>\n",
       "      <td>2024-02-25 13:53:00</td>\n",
       "    </tr>\n",
       "    <tr>\n",
       "      <th>142</th>\n",
       "      <td>27669 Highway 125_Scotland Neck_NC</td>\n",
       "      <td>CABLE BOARD RM 624</td>\n",
       "      <td>6357.000</td>\n",
       "      <td>2024-02-25 14:03:00</td>\n",
       "      <td>2024-03-01 00:00:00</td>\n",
       "    </tr>\n",
       "    <tr>\n",
       "      <th>143</th>\n",
       "      <td>27669 Highway 125_Scotland Neck_NC</td>\n",
       "      <td>TWV-2 RM 305</td>\n",
       "      <td>2994.000</td>\n",
       "      <td>2023-01-02 09:02:00</td>\n",
       "      <td>2023-01-04 10:56:00</td>\n",
       "    </tr>\n",
       "    <tr>\n",
       "      <th>144</th>\n",
       "      <td>27669 Highway 125_Scotland Neck_NC</td>\n",
       "      <td>TWV-2 RM 305</td>\n",
       "      <td>2973.000</td>\n",
       "      <td>2023-01-05 16:28:00</td>\n",
       "      <td>2023-01-07 18:01:00</td>\n",
       "    </tr>\n",
       "    <tr>\n",
       "      <th>145</th>\n",
       "      <td>27669 Highway 125_Scotland Neck_NC</td>\n",
       "      <td>TWV-2 RM 305</td>\n",
       "      <td>5069.000</td>\n",
       "      <td>2023-01-11 01:12:00</td>\n",
       "      <td>2023-01-14 13:41:00</td>\n",
       "    </tr>\n",
       "    <tr>\n",
       "      <th>146</th>\n",
       "      <td>27669 Highway 125_Scotland Neck_NC</td>\n",
       "      <td>TWV-2 RM 305</td>\n",
       "      <td>3911.000</td>\n",
       "      <td>2023-03-01 12:42:00</td>\n",
       "      <td>2023-03-04 05:53:00</td>\n",
       "    </tr>\n",
       "    <tr>\n",
       "      <th>147</th>\n",
       "      <td>337 Hospital Street_Mocksville_NC</td>\n",
       "      <td>Through Wall Unit Dining Room 127</td>\n",
       "      <td>3282.000</td>\n",
       "      <td>2023-05-27 11:44:00</td>\n",
       "      <td>2023-05-29 18:26:00</td>\n",
       "    </tr>\n",
       "    <tr>\n",
       "      <th>148</th>\n",
       "      <td>337 Hospital Street_Mocksville_NC</td>\n",
       "      <td>Through Wall Unit Dining Room 127</td>\n",
       "      <td>3802.000</td>\n",
       "      <td>2024-01-03 20:46:00</td>\n",
       "      <td>2024-01-06 12:08:00</td>\n",
       "    </tr>\n",
       "    <tr>\n",
       "      <th>149</th>\n",
       "      <td>337 Hospital Street_Mocksville_NC</td>\n",
       "      <td>Through Wall Unit Dining Room 127</td>\n",
       "      <td>4559.000</td>\n",
       "      <td>2024-01-06 12:09:00</td>\n",
       "      <td>2024-01-09 16:08:00</td>\n",
       "    </tr>\n",
       "    <tr>\n",
       "      <th>150</th>\n",
       "      <td>337 Hospital Street_Mocksville_NC</td>\n",
       "      <td>Through Wall Unit Room 100</td>\n",
       "      <td>6161.000</td>\n",
       "      <td>2024-01-14 23:06:00</td>\n",
       "      <td>2024-01-19 05:47:00</td>\n",
       "    </tr>\n",
       "    <tr>\n",
       "      <th>151</th>\n",
       "      <td>337 Hospital Street_Mocksville_NC</td>\n",
       "      <td>Through Wall Unit Room 100</td>\n",
       "      <td>6666.000</td>\n",
       "      <td>2024-01-19 21:06:00</td>\n",
       "      <td>2024-01-24 12:12:00</td>\n",
       "    </tr>\n",
       "    <tr>\n",
       "      <th>152</th>\n",
       "      <td>337 Hospital Street_Mocksville_NC</td>\n",
       "      <td>Through Wall Unit Room 105</td>\n",
       "      <td>3703.000</td>\n",
       "      <td>2023-01-13 17:46:00</td>\n",
       "      <td>2023-01-16 07:29:00</td>\n",
       "    </tr>\n",
       "    <tr>\n",
       "      <th>153</th>\n",
       "      <td>337 Hospital Street_Mocksville_NC</td>\n",
       "      <td>Through Wall Unit Room 108</td>\n",
       "      <td>4159.000</td>\n",
       "      <td>2022-11-13 20:37:00</td>\n",
       "      <td>2022-11-16 17:56:00</td>\n",
       "    </tr>\n",
       "    <tr>\n",
       "      <th>154</th>\n",
       "      <td>337 Hospital Street_Mocksville_NC</td>\n",
       "      <td>Through Wall Unit Room 108</td>\n",
       "      <td>3643.000</td>\n",
       "      <td>2022-11-17 13:20:00</td>\n",
       "      <td>2022-11-20 02:03:00</td>\n",
       "    </tr>\n",
       "    <tr>\n",
       "      <th>155</th>\n",
       "      <td>337 Hospital Street_Mocksville_NC</td>\n",
       "      <td>Through Wall Unit Room 108</td>\n",
       "      <td>5071.000</td>\n",
       "      <td>2023-09-01 05:17:00</td>\n",
       "      <td>2023-09-04 17:48:00</td>\n",
       "    </tr>\n",
       "    <tr>\n",
       "      <th>156</th>\n",
       "      <td>337 Hospital Street_Mocksville_NC</td>\n",
       "      <td>Through Wall Unit Room 108</td>\n",
       "      <td>3592.000</td>\n",
       "      <td>2023-09-05 02:06:00</td>\n",
       "      <td>2023-09-07 13:58:00</td>\n",
       "    </tr>\n",
       "    <tr>\n",
       "      <th>157</th>\n",
       "      <td>337 Hospital Street_Mocksville_NC</td>\n",
       "      <td>Through Wall Unit Room 108</td>\n",
       "      <td>4615.000</td>\n",
       "      <td>2023-09-27 02:57:00</td>\n",
       "      <td>2023-09-30 07:52:00</td>\n",
       "    </tr>\n",
       "    <tr>\n",
       "      <th>158</th>\n",
       "      <td>337 Hospital Street_Mocksville_NC</td>\n",
       "      <td>Through Wall Unit Room 108</td>\n",
       "      <td>3106.000</td>\n",
       "      <td>2023-10-19 04:41:00</td>\n",
       "      <td>2023-10-21 08:27:00</td>\n",
       "    </tr>\n",
       "    <tr>\n",
       "      <th>159</th>\n",
       "      <td>337 Hospital Street_Mocksville_NC</td>\n",
       "      <td>Through Wall Unit Room 108</td>\n",
       "      <td>3540.000</td>\n",
       "      <td>2023-10-31 08:46:00</td>\n",
       "      <td>2023-11-02 19:46:00</td>\n",
       "    </tr>\n",
       "    <tr>\n",
       "      <th>160</th>\n",
       "      <td>337 Hospital Street_Mocksville_NC</td>\n",
       "      <td>Through Wall Unit Room 108</td>\n",
       "      <td>3739.000</td>\n",
       "      <td>2023-11-14 00:00:00</td>\n",
       "      <td>2023-11-16 14:19:00</td>\n",
       "    </tr>\n",
       "    <tr>\n",
       "      <th>161</th>\n",
       "      <td>337 Hospital Street_Mocksville_NC</td>\n",
       "      <td>Through Wall Unit Room 108</td>\n",
       "      <td>6755.000</td>\n",
       "      <td>2023-11-22 22:41:00</td>\n",
       "      <td>2023-11-27 15:16:00</td>\n",
       "    </tr>\n",
       "    <tr>\n",
       "      <th>162</th>\n",
       "      <td>337 Hospital Street_Mocksville_NC</td>\n",
       "      <td>Through Wall Unit Room 108</td>\n",
       "      <td>3737.000</td>\n",
       "      <td>2023-11-29 07:05:00</td>\n",
       "      <td>2023-12-01 21:22:00</td>\n",
       "    </tr>\n",
       "    <tr>\n",
       "      <th>163</th>\n",
       "      <td>337 Hospital Street_Mocksville_NC</td>\n",
       "      <td>Through Wall Unit Room 115</td>\n",
       "      <td>3480.000</td>\n",
       "      <td>2023-04-22 04:06:00</td>\n",
       "      <td>2023-04-24 14:06:00</td>\n",
       "    </tr>\n",
       "    <tr>\n",
       "      <th>164</th>\n",
       "      <td>337 Hospital Street_Mocksville_NC</td>\n",
       "      <td>Through Wall Unit Room 115</td>\n",
       "      <td>3189.000</td>\n",
       "      <td>2023-05-12 23:21:00</td>\n",
       "      <td>2023-05-15 04:30:00</td>\n",
       "    </tr>\n",
       "    <tr>\n",
       "      <th>165</th>\n",
       "      <td>337 Hospital Street_Mocksville_NC</td>\n",
       "      <td>Through Wall Unit Room 115</td>\n",
       "      <td>3166.000</td>\n",
       "      <td>2023-06-12 20:55:00</td>\n",
       "      <td>2023-06-15 01:41:00</td>\n",
       "    </tr>\n",
       "    <tr>\n",
       "      <th>166</th>\n",
       "      <td>337 Hospital Street_Mocksville_NC</td>\n",
       "      <td>Through Wall Unit Room 115</td>\n",
       "      <td>3521.000</td>\n",
       "      <td>2023-12-09 05:21:00</td>\n",
       "      <td>2023-12-11 16:02:00</td>\n",
       "    </tr>\n",
       "    <tr>\n",
       "      <th>167</th>\n",
       "      <td>337 Hospital Street_Mocksville_NC</td>\n",
       "      <td>Through Wall Unit Room 127</td>\n",
       "      <td>3142.000</td>\n",
       "      <td>2023-03-15 13:39:00</td>\n",
       "      <td>2023-03-17 18:01:00</td>\n",
       "    </tr>\n",
       "    <tr>\n",
       "      <th>168</th>\n",
       "      <td>337 Hospital Street_Mocksville_NC</td>\n",
       "      <td>Through Wall Unit Room 127</td>\n",
       "      <td>2936.000</td>\n",
       "      <td>2023-05-19 22:52:00</td>\n",
       "      <td>2023-05-21 23:48:00</td>\n",
       "    </tr>\n",
       "    <tr>\n",
       "      <th>169</th>\n",
       "      <td>337 Hospital Street_Mocksville_NC</td>\n",
       "      <td>Through Wall Unit Room 127</td>\n",
       "      <td>6916.000</td>\n",
       "      <td>2023-09-28 04:44:00</td>\n",
       "      <td>2023-10-03 00:00:00</td>\n",
       "    </tr>\n",
       "    <tr>\n",
       "      <th>170</th>\n",
       "      <td>337 Hospital Street_Mocksville_NC</td>\n",
       "      <td>Through Wall Unit Room 127</td>\n",
       "      <td>2881.000</td>\n",
       "      <td>2023-12-27 18:05:00</td>\n",
       "      <td>2023-12-29 18:06:00</td>\n",
       "    </tr>\n",
       "    <tr>\n",
       "      <th>171</th>\n",
       "      <td>337 Hospital Street_Mocksville_NC</td>\n",
       "      <td>Through Wall Unit Room 127</td>\n",
       "      <td>3629.000</td>\n",
       "      <td>2023-12-31 04:03:00</td>\n",
       "      <td>2024-01-02 16:32:00</td>\n",
       "    </tr>\n",
       "    <tr>\n",
       "      <th>172</th>\n",
       "      <td>337 Hospital Street_Mocksville_NC</td>\n",
       "      <td>Through Wall Unit Room 127</td>\n",
       "      <td>3736.000</td>\n",
       "      <td>2024-01-10 06:25:00</td>\n",
       "      <td>2024-01-12 20:41:00</td>\n",
       "    </tr>\n",
       "    <tr>\n",
       "      <th>173</th>\n",
       "      <td>337 Hospital Street_Mocksville_NC</td>\n",
       "      <td>Through Wall Unit Room 127</td>\n",
       "      <td>3708.000</td>\n",
       "      <td>2024-01-23 01:08:00</td>\n",
       "      <td>2024-01-25 14:56:00</td>\n",
       "    </tr>\n",
       "    <tr>\n",
       "      <th>174</th>\n",
       "      <td>4968 Milestone Avenue_Kannapolis_NC</td>\n",
       "      <td>TW-504</td>\n",
       "      <td>2992.000</td>\n",
       "      <td>2023-10-14 02:45:00</td>\n",
       "      <td>2023-10-16 04:37:00</td>\n",
       "    </tr>\n",
       "    <tr>\n",
       "      <th>175</th>\n",
       "      <td>4968 Milestone Avenue_Kannapolis_NC</td>\n",
       "      <td>TW-505</td>\n",
       "      <td>5675.000</td>\n",
       "      <td>2022-03-08 00:00:00</td>\n",
       "      <td>2022-03-11 22:35:00</td>\n",
       "    </tr>\n",
       "    <tr>\n",
       "      <th>176</th>\n",
       "      <td>4968 Milestone Avenue_Kannapolis_NC</td>\n",
       "      <td>TW-505</td>\n",
       "      <td>4404.000</td>\n",
       "      <td>2022-03-11 22:36:00</td>\n",
       "      <td>2022-03-15 00:00:00</td>\n",
       "    </tr>\n",
       "    <tr>\n",
       "      <th>177</th>\n",
       "      <td>4968 Milestone Avenue_Kannapolis_NC</td>\n",
       "      <td>TW-505</td>\n",
       "      <td>8629.000</td>\n",
       "      <td>2022-03-29 20:54:00</td>\n",
       "      <td>2022-04-04 20:43:00</td>\n",
       "    </tr>\n",
       "    <tr>\n",
       "      <th>178</th>\n",
       "      <td>4968 Milestone Avenue_Kannapolis_NC</td>\n",
       "      <td>TW-505</td>\n",
       "      <td>7083.000</td>\n",
       "      <td>2022-04-12 00:00:00</td>\n",
       "      <td>2022-04-16 22:03:00</td>\n",
       "    </tr>\n",
       "    <tr>\n",
       "      <th>179</th>\n",
       "      <td>4968 Milestone Avenue_Kannapolis_NC</td>\n",
       "      <td>TW-708 LOUNGE</td>\n",
       "      <td>2915.000</td>\n",
       "      <td>2022-11-15 18:38:00</td>\n",
       "      <td>2022-11-17 19:13:00</td>\n",
       "    </tr>\n",
       "    <tr>\n",
       "      <th>180</th>\n",
       "      <td>4968 Milestone Avenue_Kannapolis_NC</td>\n",
       "      <td>TW-708 LOUNGE</td>\n",
       "      <td>3274.000</td>\n",
       "      <td>2022-11-30 12:59:00</td>\n",
       "      <td>2022-12-02 19:33:00</td>\n",
       "    </tr>\n",
       "    <tr>\n",
       "      <th>181</th>\n",
       "      <td>4968 Milestone Avenue_Kannapolis_NC</td>\n",
       "      <td>TW-708 LOUNGE</td>\n",
       "      <td>6201.000</td>\n",
       "      <td>2023-02-01 21:06:00</td>\n",
       "      <td>2023-02-06 04:27:00</td>\n",
       "    </tr>\n",
       "    <tr>\n",
       "      <th>182</th>\n",
       "      <td>632 Freeman Mill Road_Hamlet_NC</td>\n",
       "      <td>Thru Wall - 115</td>\n",
       "      <td>3103.000</td>\n",
       "      <td>2022-07-26 01:14:00</td>\n",
       "      <td>2022-07-28 04:57:00</td>\n",
       "    </tr>\n",
       "    <tr>\n",
       "      <th>183</th>\n",
       "      <td>632 Freeman Mill Road_Hamlet_NC</td>\n",
       "      <td>Thru Wall - 118</td>\n",
       "      <td>3423.000</td>\n",
       "      <td>2023-07-20 19:58:00</td>\n",
       "      <td>2023-07-23 05:01:00</td>\n",
       "    </tr>\n",
       "    <tr>\n",
       "      <th>184</th>\n",
       "      <td>632 Freeman Mill Road_Hamlet_NC</td>\n",
       "      <td>Thru Wall - 118</td>\n",
       "      <td>3388.000</td>\n",
       "      <td>2023-07-23 05:02:00</td>\n",
       "      <td>2023-07-25 13:30:00</td>\n",
       "    </tr>\n",
       "    <tr>\n",
       "      <th>185</th>\n",
       "      <td>632 Freeman Mill Road_Hamlet_NC</td>\n",
       "      <td>Thru Wall - 118</td>\n",
       "      <td>3987.000</td>\n",
       "      <td>2023-07-29 00:59:00</td>\n",
       "      <td>2023-07-31 19:26:00</td>\n",
       "    </tr>\n",
       "    <tr>\n",
       "      <th>186</th>\n",
       "      <td>632 Freeman Mill Road_Hamlet_NC</td>\n",
       "      <td>Thru Wall - 118</td>\n",
       "      <td>4065.000</td>\n",
       "      <td>2023-09-13 01:33:00</td>\n",
       "      <td>2023-09-15 21:18:00</td>\n",
       "    </tr>\n",
       "    <tr>\n",
       "      <th>187</th>\n",
       "      <td>632 Freeman Mill Road_Hamlet_NC</td>\n",
       "      <td>Thru Wall - 118</td>\n",
       "      <td>3705.000</td>\n",
       "      <td>2023-09-26 23:54:00</td>\n",
       "      <td>2023-09-29 13:39:00</td>\n",
       "    </tr>\n",
       "    <tr>\n",
       "      <th>188</th>\n",
       "      <td>632 Freeman Mill Road_Hamlet_NC</td>\n",
       "      <td>Thru Wall - 120</td>\n",
       "      <td>4215.000</td>\n",
       "      <td>2023-11-03 23:00:00</td>\n",
       "      <td>2023-11-06 21:15:00</td>\n",
       "    </tr>\n",
       "    <tr>\n",
       "      <th>189</th>\n",
       "      <td>632 Freeman Mill Road_Hamlet_NC</td>\n",
       "      <td>Thru Wall - 120</td>\n",
       "      <td>3252.000</td>\n",
       "      <td>2023-11-11 14:24:00</td>\n",
       "      <td>2023-11-13 20:36:00</td>\n",
       "    </tr>\n",
       "    <tr>\n",
       "      <th>190</th>\n",
       "      <td>632 Freeman Mill Road_Hamlet_NC</td>\n",
       "      <td>Thru Wall - 120</td>\n",
       "      <td>2953.000</td>\n",
       "      <td>2023-11-16 14:25:00</td>\n",
       "      <td>2023-11-18 15:38:00</td>\n",
       "    </tr>\n",
       "    <tr>\n",
       "      <th>191</th>\n",
       "      <td>632 Freeman Mill Road_Hamlet_NC</td>\n",
       "      <td>Thru Wall - 120</td>\n",
       "      <td>3344.000</td>\n",
       "      <td>2023-11-24 21:36:00</td>\n",
       "      <td>2023-11-27 05:20:00</td>\n",
       "    </tr>\n",
       "    <tr>\n",
       "      <th>192</th>\n",
       "      <td>632 Freeman Mill Road_Hamlet_NC</td>\n",
       "      <td>Thru Wall - 120</td>\n",
       "      <td>7356.000</td>\n",
       "      <td>2023-11-27 22:26:00</td>\n",
       "      <td>2023-12-03 01:02:00</td>\n",
       "    </tr>\n",
       "    <tr>\n",
       "      <th>193</th>\n",
       "      <td>632 Freeman Mill Road_Hamlet_NC</td>\n",
       "      <td>Thru Wall - 120</td>\n",
       "      <td>5927.000</td>\n",
       "      <td>2023-12-04 17:30:00</td>\n",
       "      <td>2023-12-08 20:17:00</td>\n",
       "    </tr>\n",
       "    <tr>\n",
       "      <th>194</th>\n",
       "      <td>632 Freeman Mill Road_Hamlet_NC</td>\n",
       "      <td>Thru Wall - 120</td>\n",
       "      <td>4042.000</td>\n",
       "      <td>2023-12-08 20:18:00</td>\n",
       "      <td>2023-12-11 15:40:00</td>\n",
       "    </tr>\n",
       "    <tr>\n",
       "      <th>195</th>\n",
       "      <td>632 Freeman Mill Road_Hamlet_NC</td>\n",
       "      <td>Thru Wall - 120</td>\n",
       "      <td>4724.000</td>\n",
       "      <td>2023-12-28 16:24:00</td>\n",
       "      <td>2023-12-31 23:08:00</td>\n",
       "    </tr>\n",
       "    <tr>\n",
       "      <th>196</th>\n",
       "      <td>632 Freeman Mill Road_Hamlet_NC</td>\n",
       "      <td>Thru Wall - 120</td>\n",
       "      <td>7081.000</td>\n",
       "      <td>2024-01-01 20:33:00</td>\n",
       "      <td>2024-01-06 18:34:00</td>\n",
       "    </tr>\n",
       "    <tr>\n",
       "      <th>197</th>\n",
       "      <td>632 Freeman Mill Road_Hamlet_NC</td>\n",
       "      <td>Thru Wall - 120</td>\n",
       "      <td>8342.000</td>\n",
       "      <td>2024-01-06 18:35:00</td>\n",
       "      <td>2024-01-12 13:37:00</td>\n",
       "    </tr>\n",
       "    <tr>\n",
       "      <th>198</th>\n",
       "      <td>632 Freeman Mill Road_Hamlet_NC</td>\n",
       "      <td>Thru Wall - 120</td>\n",
       "      <td>5713.000</td>\n",
       "      <td>2024-01-12 13:38:00</td>\n",
       "      <td>2024-01-16 12:51:00</td>\n",
       "    </tr>\n",
       "    <tr>\n",
       "      <th>199</th>\n",
       "      <td>632 Freeman Mill Road_Hamlet_NC</td>\n",
       "      <td>Thru Wall - 120</td>\n",
       "      <td>3302.000</td>\n",
       "      <td>2024-01-18 07:54:00</td>\n",
       "      <td>2024-01-20 14:56:00</td>\n",
       "    </tr>\n",
       "    <tr>\n",
       "      <th>200</th>\n",
       "      <td>632 Freeman Mill Road_Hamlet_NC</td>\n",
       "      <td>Thru Wall - 120</td>\n",
       "      <td>2976.000</td>\n",
       "      <td>2024-01-22 01:17:00</td>\n",
       "      <td>2024-01-24 02:53:00</td>\n",
       "    </tr>\n",
       "    <tr>\n",
       "      <th>201</th>\n",
       "      <td>632 Freeman Mill Road_Hamlet_NC</td>\n",
       "      <td>Thru Wall - 120</td>\n",
       "      <td>8306.000</td>\n",
       "      <td>2024-01-24 02:54:00</td>\n",
       "      <td>2024-01-29 21:20:00</td>\n",
       "    </tr>\n",
       "    <tr>\n",
       "      <th>202</th>\n",
       "      <td>632 Freeman Mill Road_Hamlet_NC</td>\n",
       "      <td>Thru Wall - 120</td>\n",
       "      <td>3133.000</td>\n",
       "      <td>2024-01-29 21:21:00</td>\n",
       "      <td>2024-02-01 01:34:00</td>\n",
       "    </tr>\n",
       "    <tr>\n",
       "      <th>203</th>\n",
       "      <td>632 Freeman Mill Road_Hamlet_NC</td>\n",
       "      <td>Thru Wall - 120</td>\n",
       "      <td>4558.000</td>\n",
       "      <td>2024-02-04 16:35:00</td>\n",
       "      <td>2024-02-07 20:33:00</td>\n",
       "    </tr>\n",
       "    <tr>\n",
       "      <th>204</th>\n",
       "      <td>632 Freeman Mill Road_Hamlet_NC</td>\n",
       "      <td>Thru Wall - 120</td>\n",
       "      <td>2889.000</td>\n",
       "      <td>2024-02-10 22:45:00</td>\n",
       "      <td>2024-02-12 22:54:00</td>\n",
       "    </tr>\n",
       "    <tr>\n",
       "      <th>205</th>\n",
       "      <td>632 Freeman Mill Road_Hamlet_NC</td>\n",
       "      <td>Thru Wall - 120</td>\n",
       "      <td>5079.000</td>\n",
       "      <td>2024-02-16 05:24:00</td>\n",
       "      <td>2024-02-19 18:03:00</td>\n",
       "    </tr>\n",
       "    <tr>\n",
       "      <th>206</th>\n",
       "      <td>632 Freeman Mill Road_Hamlet_NC</td>\n",
       "      <td>Thru Wall - 120</td>\n",
       "      <td>4051.000</td>\n",
       "      <td>2024-02-23 21:07:00</td>\n",
       "      <td>2024-02-26 16:38:00</td>\n",
       "    </tr>\n",
       "    <tr>\n",
       "      <th>207</th>\n",
       "      <td>632 Freeman Mill Road_Hamlet_NC</td>\n",
       "      <td>Thru Wall - 130</td>\n",
       "      <td>3572.000</td>\n",
       "      <td>2022-07-30 12:54:00</td>\n",
       "      <td>2022-08-02 00:26:00</td>\n",
       "    </tr>\n",
       "  </tbody>\n",
       "</table>\n",
       "</div>"
      ],
      "text/plain": [
       "                                            site  \\\n",
       "0              11 Sherwood Ridge Road_Brevard_NC   \n",
       "1              11 Sherwood Ridge Road_Brevard_NC   \n",
       "2              11 Sherwood Ridge Road_Brevard_NC   \n",
       "3              11 Sherwood Ridge Road_Brevard_NC   \n",
       "4              11 Sherwood Ridge Road_Brevard_NC   \n",
       "5              11 Sherwood Ridge Road_Brevard_NC   \n",
       "6              11 Sherwood Ridge Road_Brevard_NC   \n",
       "7              11 Sherwood Ridge Road_Brevard_NC   \n",
       "8              11 Sherwood Ridge Road_Brevard_NC   \n",
       "9              11 Sherwood Ridge Road_Brevard_NC   \n",
       "10             11 Sherwood Ridge Road_Brevard_NC   \n",
       "11             11 Sherwood Ridge Road_Brevard_NC   \n",
       "12             11 Sherwood Ridge Road_Brevard_NC   \n",
       "13             11 Sherwood Ridge Road_Brevard_NC   \n",
       "14             11 Sherwood Ridge Road_Brevard_NC   \n",
       "15             11 Sherwood Ridge Road_Brevard_NC   \n",
       "16             11 Sherwood Ridge Road_Brevard_NC   \n",
       "17             11 Sherwood Ridge Road_Brevard_NC   \n",
       "18             11 Sherwood Ridge Road_Brevard_NC   \n",
       "19             11 Sherwood Ridge Road_Brevard_NC   \n",
       "20             11 Sherwood Ridge Road_Brevard_NC   \n",
       "21             11 Sherwood Ridge Road_Brevard_NC   \n",
       "22             11 Sherwood Ridge Road_Brevard_NC   \n",
       "23             11 Sherwood Ridge Road_Brevard_NC   \n",
       "24             11 Sherwood Ridge Road_Brevard_NC   \n",
       "25        1328 Southeast 2nd Street_Snow Hill_NC   \n",
       "26              186 One Center Court_Franklin_NC   \n",
       "27              186 One Center Court_Franklin_NC   \n",
       "28   2010 29th Avenue Drive Northeast_Hickory_NC   \n",
       "29   2010 29th Avenue Drive Northeast_Hickory_NC   \n",
       "30   2010 29th Avenue Drive Northeast_Hickory_NC   \n",
       "31   2010 29th Avenue Drive Northeast_Hickory_NC   \n",
       "32   2010 29th Avenue Drive Northeast_Hickory_NC   \n",
       "33   2010 29th Avenue Drive Northeast_Hickory_NC   \n",
       "34   2010 29th Avenue Drive Northeast_Hickory_NC   \n",
       "35   2010 29th Avenue Drive Northeast_Hickory_NC   \n",
       "36   2010 29th Avenue Drive Northeast_Hickory_NC   \n",
       "37   2010 29th Avenue Drive Northeast_Hickory_NC   \n",
       "38   2010 29th Avenue Drive Northeast_Hickory_NC   \n",
       "39   2010 29th Avenue Drive Northeast_Hickory_NC   \n",
       "40   2010 29th Avenue Drive Northeast_Hickory_NC   \n",
       "41   2010 29th Avenue Drive Northeast_Hickory_NC   \n",
       "42   2010 29th Avenue Drive Northeast_Hickory_NC   \n",
       "43   2010 29th Avenue Drive Northeast_Hickory_NC   \n",
       "44   2010 29th Avenue Drive Northeast_Hickory_NC   \n",
       "45   2010 29th Avenue Drive Northeast_Hickory_NC   \n",
       "46   2010 29th Avenue Drive Northeast_Hickory_NC   \n",
       "47   2010 29th Avenue Drive Northeast_Hickory_NC   \n",
       "48   2010 29th Avenue Drive Northeast_Hickory_NC   \n",
       "49   2010 29th Avenue Drive Northeast_Hickory_NC   \n",
       "50   2010 29th Avenue Drive Northeast_Hickory_NC   \n",
       "51   2010 29th Avenue Drive Northeast_Hickory_NC   \n",
       "52   2010 29th Avenue Drive Northeast_Hickory_NC   \n",
       "53   2010 29th Avenue Drive Northeast_Hickory_NC   \n",
       "54   2010 29th Avenue Drive Northeast_Hickory_NC   \n",
       "55   2010 29th Avenue Drive Northeast_Hickory_NC   \n",
       "56   2010 29th Avenue Drive Northeast_Hickory_NC   \n",
       "57   2010 29th Avenue Drive Northeast_Hickory_NC   \n",
       "58   2010 29th Avenue Drive Northeast_Hickory_NC   \n",
       "59   2010 29th Avenue Drive Northeast_Hickory_NC   \n",
       "60   2010 29th Avenue Drive Northeast_Hickory_NC   \n",
       "61   2010 29th Avenue Drive Northeast_Hickory_NC   \n",
       "62   2010 29th Avenue Drive Northeast_Hickory_NC   \n",
       "63   2010 29th Avenue Drive Northeast_Hickory_NC   \n",
       "64   2010 29th Avenue Drive Northeast_Hickory_NC   \n",
       "65   2010 29th Avenue Drive Northeast_Hickory_NC   \n",
       "66   2010 29th Avenue Drive Northeast_Hickory_NC   \n",
       "67   2010 29th Avenue Drive Northeast_Hickory_NC   \n",
       "68            27669 Highway 125_Scotland Neck_NC   \n",
       "69            27669 Highway 125_Scotland Neck_NC   \n",
       "70            27669 Highway 125_Scotland Neck_NC   \n",
       "71            27669 Highway 125_Scotland Neck_NC   \n",
       "72            27669 Highway 125_Scotland Neck_NC   \n",
       "73            27669 Highway 125_Scotland Neck_NC   \n",
       "74            27669 Highway 125_Scotland Neck_NC   \n",
       "75            27669 Highway 125_Scotland Neck_NC   \n",
       "76            27669 Highway 125_Scotland Neck_NC   \n",
       "77            27669 Highway 125_Scotland Neck_NC   \n",
       "78            27669 Highway 125_Scotland Neck_NC   \n",
       "79            27669 Highway 125_Scotland Neck_NC   \n",
       "80            27669 Highway 125_Scotland Neck_NC   \n",
       "81            27669 Highway 125_Scotland Neck_NC   \n",
       "82            27669 Highway 125_Scotland Neck_NC   \n",
       "83            27669 Highway 125_Scotland Neck_NC   \n",
       "84            27669 Highway 125_Scotland Neck_NC   \n",
       "85            27669 Highway 125_Scotland Neck_NC   \n",
       "86            27669 Highway 125_Scotland Neck_NC   \n",
       "87            27669 Highway 125_Scotland Neck_NC   \n",
       "88            27669 Highway 125_Scotland Neck_NC   \n",
       "89            27669 Highway 125_Scotland Neck_NC   \n",
       "90            27669 Highway 125_Scotland Neck_NC   \n",
       "91            27669 Highway 125_Scotland Neck_NC   \n",
       "92            27669 Highway 125_Scotland Neck_NC   \n",
       "93            27669 Highway 125_Scotland Neck_NC   \n",
       "94            27669 Highway 125_Scotland Neck_NC   \n",
       "95            27669 Highway 125_Scotland Neck_NC   \n",
       "96            27669 Highway 125_Scotland Neck_NC   \n",
       "97            27669 Highway 125_Scotland Neck_NC   \n",
       "98            27669 Highway 125_Scotland Neck_NC   \n",
       "99            27669 Highway 125_Scotland Neck_NC   \n",
       "100           27669 Highway 125_Scotland Neck_NC   \n",
       "101           27669 Highway 125_Scotland Neck_NC   \n",
       "102           27669 Highway 125_Scotland Neck_NC   \n",
       "103           27669 Highway 125_Scotland Neck_NC   \n",
       "104           27669 Highway 125_Scotland Neck_NC   \n",
       "105           27669 Highway 125_Scotland Neck_NC   \n",
       "106           27669 Highway 125_Scotland Neck_NC   \n",
       "107           27669 Highway 125_Scotland Neck_NC   \n",
       "108           27669 Highway 125_Scotland Neck_NC   \n",
       "109           27669 Highway 125_Scotland Neck_NC   \n",
       "110           27669 Highway 125_Scotland Neck_NC   \n",
       "111           27669 Highway 125_Scotland Neck_NC   \n",
       "112           27669 Highway 125_Scotland Neck_NC   \n",
       "113           27669 Highway 125_Scotland Neck_NC   \n",
       "114           27669 Highway 125_Scotland Neck_NC   \n",
       "115           27669 Highway 125_Scotland Neck_NC   \n",
       "116           27669 Highway 125_Scotland Neck_NC   \n",
       "117           27669 Highway 125_Scotland Neck_NC   \n",
       "118           27669 Highway 125_Scotland Neck_NC   \n",
       "119           27669 Highway 125_Scotland Neck_NC   \n",
       "120           27669 Highway 125_Scotland Neck_NC   \n",
       "121           27669 Highway 125_Scotland Neck_NC   \n",
       "122           27669 Highway 125_Scotland Neck_NC   \n",
       "123           27669 Highway 125_Scotland Neck_NC   \n",
       "124           27669 Highway 125_Scotland Neck_NC   \n",
       "125           27669 Highway 125_Scotland Neck_NC   \n",
       "126           27669 Highway 125_Scotland Neck_NC   \n",
       "127           27669 Highway 125_Scotland Neck_NC   \n",
       "128           27669 Highway 125_Scotland Neck_NC   \n",
       "129           27669 Highway 125_Scotland Neck_NC   \n",
       "130           27669 Highway 125_Scotland Neck_NC   \n",
       "131           27669 Highway 125_Scotland Neck_NC   \n",
       "132           27669 Highway 125_Scotland Neck_NC   \n",
       "133           27669 Highway 125_Scotland Neck_NC   \n",
       "134           27669 Highway 125_Scotland Neck_NC   \n",
       "135           27669 Highway 125_Scotland Neck_NC   \n",
       "136           27669 Highway 125_Scotland Neck_NC   \n",
       "137           27669 Highway 125_Scotland Neck_NC   \n",
       "138           27669 Highway 125_Scotland Neck_NC   \n",
       "139           27669 Highway 125_Scotland Neck_NC   \n",
       "140           27669 Highway 125_Scotland Neck_NC   \n",
       "141           27669 Highway 125_Scotland Neck_NC   \n",
       "142           27669 Highway 125_Scotland Neck_NC   \n",
       "143           27669 Highway 125_Scotland Neck_NC   \n",
       "144           27669 Highway 125_Scotland Neck_NC   \n",
       "145           27669 Highway 125_Scotland Neck_NC   \n",
       "146           27669 Highway 125_Scotland Neck_NC   \n",
       "147            337 Hospital Street_Mocksville_NC   \n",
       "148            337 Hospital Street_Mocksville_NC   \n",
       "149            337 Hospital Street_Mocksville_NC   \n",
       "150            337 Hospital Street_Mocksville_NC   \n",
       "151            337 Hospital Street_Mocksville_NC   \n",
       "152            337 Hospital Street_Mocksville_NC   \n",
       "153            337 Hospital Street_Mocksville_NC   \n",
       "154            337 Hospital Street_Mocksville_NC   \n",
       "155            337 Hospital Street_Mocksville_NC   \n",
       "156            337 Hospital Street_Mocksville_NC   \n",
       "157            337 Hospital Street_Mocksville_NC   \n",
       "158            337 Hospital Street_Mocksville_NC   \n",
       "159            337 Hospital Street_Mocksville_NC   \n",
       "160            337 Hospital Street_Mocksville_NC   \n",
       "161            337 Hospital Street_Mocksville_NC   \n",
       "162            337 Hospital Street_Mocksville_NC   \n",
       "163            337 Hospital Street_Mocksville_NC   \n",
       "164            337 Hospital Street_Mocksville_NC   \n",
       "165            337 Hospital Street_Mocksville_NC   \n",
       "166            337 Hospital Street_Mocksville_NC   \n",
       "167            337 Hospital Street_Mocksville_NC   \n",
       "168            337 Hospital Street_Mocksville_NC   \n",
       "169            337 Hospital Street_Mocksville_NC   \n",
       "170            337 Hospital Street_Mocksville_NC   \n",
       "171            337 Hospital Street_Mocksville_NC   \n",
       "172            337 Hospital Street_Mocksville_NC   \n",
       "173            337 Hospital Street_Mocksville_NC   \n",
       "174          4968 Milestone Avenue_Kannapolis_NC   \n",
       "175          4968 Milestone Avenue_Kannapolis_NC   \n",
       "176          4968 Milestone Avenue_Kannapolis_NC   \n",
       "177          4968 Milestone Avenue_Kannapolis_NC   \n",
       "178          4968 Milestone Avenue_Kannapolis_NC   \n",
       "179          4968 Milestone Avenue_Kannapolis_NC   \n",
       "180          4968 Milestone Avenue_Kannapolis_NC   \n",
       "181          4968 Milestone Avenue_Kannapolis_NC   \n",
       "182              632 Freeman Mill Road_Hamlet_NC   \n",
       "183              632 Freeman Mill Road_Hamlet_NC   \n",
       "184              632 Freeman Mill Road_Hamlet_NC   \n",
       "185              632 Freeman Mill Road_Hamlet_NC   \n",
       "186              632 Freeman Mill Road_Hamlet_NC   \n",
       "187              632 Freeman Mill Road_Hamlet_NC   \n",
       "188              632 Freeman Mill Road_Hamlet_NC   \n",
       "189              632 Freeman Mill Road_Hamlet_NC   \n",
       "190              632 Freeman Mill Road_Hamlet_NC   \n",
       "191              632 Freeman Mill Road_Hamlet_NC   \n",
       "192              632 Freeman Mill Road_Hamlet_NC   \n",
       "193              632 Freeman Mill Road_Hamlet_NC   \n",
       "194              632 Freeman Mill Road_Hamlet_NC   \n",
       "195              632 Freeman Mill Road_Hamlet_NC   \n",
       "196              632 Freeman Mill Road_Hamlet_NC   \n",
       "197              632 Freeman Mill Road_Hamlet_NC   \n",
       "198              632 Freeman Mill Road_Hamlet_NC   \n",
       "199              632 Freeman Mill Road_Hamlet_NC   \n",
       "200              632 Freeman Mill Road_Hamlet_NC   \n",
       "201              632 Freeman Mill Road_Hamlet_NC   \n",
       "202              632 Freeman Mill Road_Hamlet_NC   \n",
       "203              632 Freeman Mill Road_Hamlet_NC   \n",
       "204              632 Freeman Mill Road_Hamlet_NC   \n",
       "205              632 Freeman Mill Road_Hamlet_NC   \n",
       "206              632 Freeman Mill Road_Hamlet_NC   \n",
       "207              632 Freeman Mill Road_Hamlet_NC   \n",
       "\n",
       "                                  ptac   length               start  \\\n",
       "0              Thru Wall Unit Corridor 2971.000 2022-09-13 15:49:00   \n",
       "1              Thru Wall Unit Corridor 3641.000 2022-11-22 00:00:00   \n",
       "2              Thru Wall Unit Corridor 3968.000 2022-12-20 17:14:00   \n",
       "3                Thru Wall Unit Rm 127 3303.000 2023-02-01 09:35:00   \n",
       "4                Thru Wall Unit Rm 127 4926.000 2023-02-08 13:04:00   \n",
       "5                Thru Wall Unit Rm 127 4428.000 2023-02-28 00:00:00   \n",
       "6                Thru Wall Unit Rm 127 4859.000 2023-03-03 01:49:00   \n",
       "7                Thru Wall Unit Rm 127 3387.000 2023-03-25 15:33:00   \n",
       "8                Thru Wall Unit Rm 127 4328.000 2023-04-04 10:02:00   \n",
       "9                Thru Wall Unit Rm 127 4391.000 2023-04-07 10:11:00   \n",
       "10               Thru Wall Unit Rm 127 4880.000 2023-04-20 09:21:00   \n",
       "11               Thru Wall Unit Rm 127 3687.000 2023-05-06 10:33:00   \n",
       "12               Thru Wall Unit Rm 127 8319.000 2023-05-16 00:00:00   \n",
       "13               Thru Wall Unit Rm 127 4794.000 2023-06-13 00:00:00   \n",
       "14               Thru Wall Unit Rm 127 5285.000 2023-06-16 07:55:00   \n",
       "15               Thru Wall Unit Rm 127 6887.000 2023-06-27 00:00:00   \n",
       "16               Thru Wall Unit Rm 127 9165.000 2023-07-01 18:48:00   \n",
       "17               Thru Wall Unit Rm 127 4104.000 2023-07-08 03:36:00   \n",
       "18               Thru Wall Unit Rm 127 4263.000 2023-07-18 00:00:00   \n",
       "19               Thru Wall Unit Rm 127 5816.000 2023-07-20 23:04:00   \n",
       "20               Thru Wall Unit Rm 127 5768.000 2023-08-15 00:00:00   \n",
       "21               Thru Wall Unit Rm 127 9185.000 2023-08-19 00:09:00   \n",
       "22               Thru Wall Unit Rm 127 9154.000 2023-08-25 09:15:00   \n",
       "23               Thru Wall Unit Rm 127 9172.000 2023-08-31 17:50:00   \n",
       "24               Thru Wall Unit Rm 127 7037.000 2023-09-07 02:43:00   \n",
       "25                       HVAC - Rm 103 5937.000 2023-02-01 09:42:00   \n",
       "26                            PTAC 206 8605.000 2023-07-26 00:35:00   \n",
       "27                            PTAC 206 4651.000 2023-08-10 01:43:00   \n",
       "28                            Room 209 7810.000 2022-05-03 00:00:00   \n",
       "29                            Room 209 8305.000 2022-05-08 10:11:00   \n",
       "30                            Room 209 5641.000 2022-05-14 04:37:00   \n",
       "31                            Room 209 3773.000 2022-05-21 10:54:00   \n",
       "32                            Room 209 6605.000 2022-06-23 16:39:00   \n",
       "33                            Room 209 4229.000 2022-06-29 11:36:00   \n",
       "34                            Room 209 4087.000 2022-07-02 10:08:00   \n",
       "35                            Room 209 8327.000 2022-07-05 06:16:00   \n",
       "36                            Room 209 6310.000 2022-07-12 10:53:00   \n",
       "37                            Room 209 8304.000 2022-07-16 20:08:00   \n",
       "38                            Room 209 8322.000 2022-07-22 14:41:00   \n",
       "39                            Room 209 6636.000 2022-07-28 09:24:00   \n",
       "40                            Room 209 8285.000 2022-08-08 23:11:00   \n",
       "41                            Room 209 2897.000 2022-08-21 15:27:00   \n",
       "42                            Room 209 8368.000 2022-08-23 15:45:00   \n",
       "43                            Room 209 5904.000 2022-09-06 00:00:00   \n",
       "44                            Room 209 8349.000 2022-09-10 02:25:00   \n",
       "45                            Room 209 5905.000 2022-09-15 21:35:00   \n",
       "46                            Room 209 3082.000 2023-04-04 00:00:00   \n",
       "47                            Room 209 7823.000 2023-04-12 14:06:00   \n",
       "48                            Room 209 5963.000 2023-04-18 00:30:00   \n",
       "49                            Room 209 8304.000 2023-06-26 06:52:00   \n",
       "50                            Room 209 3730.000 2023-07-11 00:00:00   \n",
       "51                            Room 209 8296.000 2023-07-13 14:11:00   \n",
       "52                            Room 209 8279.000 2023-07-19 08:28:00   \n",
       "53                            Room 209 8324.000 2023-07-25 02:28:00   \n",
       "54                            Room 209 4904.000 2023-08-08 00:00:00   \n",
       "55                            Room 209 3223.000 2023-08-11 09:45:00   \n",
       "56                            Room 209 6137.000 2023-08-13 16:42:00   \n",
       "57                            Room 209 5820.000 2023-08-17 23:00:00   \n",
       "58                            Room 209 8392.000 2023-08-29 15:02:00   \n",
       "59                            Room 209 8430.000 2023-09-04 10:55:00   \n",
       "60                            Room 209 8382.000 2023-09-10 07:26:00   \n",
       "61                            Room 209 8406.000 2023-09-16 03:09:00   \n",
       "62                            Room 209 8375.000 2023-09-21 23:16:00   \n",
       "63                            Room 209 8343.000 2023-09-27 18:52:00   \n",
       "64                            Room 209 6713.000 2023-10-03 13:56:00   \n",
       "65                            Room 209 4967.000 2023-10-17 12:43:00   \n",
       "66                            Room 209 4949.000 2023-10-20 23:31:00   \n",
       "67                            Room 209 4935.000 2023-11-02 10:54:00   \n",
       "68                  CABLE BOARD RM 624 4721.000 2022-04-27 15:49:00   \n",
       "69                  CABLE BOARD RM 624 8198.000 2022-04-30 22:31:00   \n",
       "70                  CABLE BOARD RM 624 4850.000 2022-05-06 15:10:00   \n",
       "71                  CABLE BOARD RM 624 8131.000 2022-05-17 23:59:00   \n",
       "72                  CABLE BOARD RM 624 8146.000 2022-06-15 06:33:00   \n",
       "73                  CABLE BOARD RM 624 8114.000 2022-06-20 22:20:00   \n",
       "74                  CABLE BOARD RM 624 4162.000 2022-07-05 00:00:00   \n",
       "75                  CABLE BOARD RM 624 8183.000 2022-07-07 21:25:00   \n",
       "76                  CABLE BOARD RM 624 6052.000 2022-07-13 13:49:00   \n",
       "77                  CABLE BOARD RM 624 6479.000 2022-07-26 00:00:00   \n",
       "78                  CABLE BOARD RM 624 4435.000 2022-07-30 12:00:00   \n",
       "79                  CABLE BOARD RM 624 8082.000 2022-08-02 17:41:00   \n",
       "80                  CABLE BOARD RM 624 3062.000 2022-08-23 00:00:00   \n",
       "81                  CABLE BOARD RM 624 7017.000 2022-08-25 03:03:00   \n",
       "82                  CABLE BOARD RM 624 7184.000 2022-09-06 00:00:00   \n",
       "83                  CABLE BOARD RM 624 2895.000 2022-09-10 23:45:00   \n",
       "84                  CABLE BOARD RM 624 3216.000 2022-09-20 00:00:00   \n",
       "85                  CABLE BOARD RM 624 8066.000 2022-09-22 05:37:00   \n",
       "86                  CABLE BOARD RM 624 8076.000 2022-09-27 20:06:00   \n",
       "87                  CABLE BOARD RM 624 8118.000 2022-10-03 10:43:00   \n",
       "88                  CABLE BOARD RM 624 3287.000 2022-10-18 00:00:00   \n",
       "89                  CABLE BOARD RM 624 6792.000 2022-10-20 06:48:00   \n",
       "90                  CABLE BOARD RM 624 3384.000 2022-11-15 00:00:00   \n",
       "91                  CABLE BOARD RM 624 6693.000 2022-11-17 08:27:00   \n",
       "92                  CABLE BOARD RM 624 7450.000 2022-11-29 00:00:00   \n",
       "93                  CABLE BOARD RM 624 8087.000 2022-12-04 04:11:00   \n",
       "94                  CABLE BOARD RM 624 8091.000 2022-12-09 18:59:00   \n",
       "95                  CABLE BOARD RM 624 8090.000 2022-12-15 09:54:00   \n",
       "96                  CABLE BOARD RM 624 8068.000 2022-12-21 00:45:00   \n",
       "97                  CABLE BOARD RM 624 8123.000 2023-01-11 01:12:00   \n",
       "98                  CABLE BOARD RM 624 3624.000 2023-01-16 16:36:00   \n",
       "99                  CABLE BOARD RM 624 8125.000 2023-01-20 20:11:00   \n",
       "100                 CABLE BOARD RM 624 8103.000 2023-01-26 11:37:00   \n",
       "101                 CABLE BOARD RM 624 8087.000 2023-02-01 02:41:00   \n",
       "102                 CABLE BOARD RM 624 8088.000 2023-02-06 17:29:00   \n",
       "103                 CABLE BOARD RM 624 5047.000 2023-03-07 00:00:00   \n",
       "104                 CABLE BOARD RM 624 5032.000 2023-03-10 12:08:00   \n",
       "105                 CABLE BOARD RM 624 8124.000 2023-03-21 17:36:00   \n",
       "106                 CABLE BOARD RM 624 8123.000 2023-03-27 09:01:00   \n",
       "107                 CABLE BOARD RM 624 8144.000 2023-04-02 00:25:00   \n",
       "108                 CABLE BOARD RM 624 4790.000 2023-04-07 16:10:00   \n",
       "109                 CABLE BOARD RM 624 8168.000 2023-04-18 23:11:00   \n",
       "110                 CABLE BOARD RM 624 3287.000 2023-05-16 00:00:00   \n",
       "111                 CABLE BOARD RM 624 8091.000 2023-05-18 06:48:00   \n",
       "112                 CABLE BOARD RM 624 6828.000 2023-05-24 18:54:00   \n",
       "113                 CABLE BOARD RM 624 6631.000 2023-06-06 00:00:00   \n",
       "114                 CABLE BOARD RM 624 8106.000 2023-06-10 14:32:00   \n",
       "115                 CABLE BOARD RM 624 5421.000 2023-06-16 05:39:00   \n",
       "116                 CABLE BOARD RM 624 8121.000 2023-06-27 11:30:00   \n",
       "117                 CABLE BOARD RM 624 8090.000 2023-07-03 03:05:00   \n",
       "118                 CABLE BOARD RM 624 6336.000 2023-07-25 00:00:00   \n",
       "119                 CABLE BOARD RM 624 3743.000 2023-07-29 09:37:00   \n",
       "120                 CABLE BOARD RM 624 7642.000 2023-08-09 16:38:00   \n",
       "121                 CABLE BOARD RM 624 8081.000 2023-08-22 10:17:00   \n",
       "122                 CABLE BOARD RM 624 8108.000 2023-08-28 00:59:00   \n",
       "123                 CABLE BOARD RM 624 8127.000 2023-09-02 16:08:00   \n",
       "124                 CABLE BOARD RM 624 3043.000 2023-09-09 21:17:00   \n",
       "125                 CABLE BOARD RM 624 7573.000 2023-09-20 17:47:00   \n",
       "126                 CABLE BOARD RM 624 7362.000 2023-10-18 21:18:00   \n",
       "127                 CABLE BOARD RM 624 6881.000 2023-10-31 00:00:00   \n",
       "128                 CABLE BOARD RM 624 8105.000 2023-11-04 18:42:00   \n",
       "129                 CABLE BOARD RM 624 8109.000 2023-11-10 09:48:00   \n",
       "130                 CABLE BOARD RM 624 8079.000 2023-11-16 00:58:00   \n",
       "131                 CABLE BOARD RM 624 5994.000 2023-11-23 12:12:00   \n",
       "132                 CABLE BOARD RM 624 3761.000 2023-12-12 00:00:00   \n",
       "133                 CABLE BOARD RM 624 8126.000 2023-12-14 14:42:00   \n",
       "134                 CABLE BOARD RM 624 8096.000 2023-12-20 06:09:00   \n",
       "135                 CABLE BOARD RM 624 8092.000 2023-12-25 21:06:00   \n",
       "136                 CABLE BOARD RM 624 8128.000 2023-12-31 12:07:00   \n",
       "137                 CABLE BOARD RM 624 8075.000 2024-01-06 03:36:00   \n",
       "138                 CABLE BOARD RM 624 6108.000 2024-01-11 18:12:00   \n",
       "139                 CABLE BOARD RM 624 4060.000 2024-02-06 00:00:00   \n",
       "140                 CABLE BOARD RM 624 6019.000 2024-02-08 19:41:00   \n",
       "141                 CABLE BOARD RM 624 8033.000 2024-02-20 00:00:00   \n",
       "142                 CABLE BOARD RM 624 6357.000 2024-02-25 14:03:00   \n",
       "143                       TWV-2 RM 305 2994.000 2023-01-02 09:02:00   \n",
       "144                       TWV-2 RM 305 2973.000 2023-01-05 16:28:00   \n",
       "145                       TWV-2 RM 305 5069.000 2023-01-11 01:12:00   \n",
       "146                       TWV-2 RM 305 3911.000 2023-03-01 12:42:00   \n",
       "147  Through Wall Unit Dining Room 127 3282.000 2023-05-27 11:44:00   \n",
       "148  Through Wall Unit Dining Room 127 3802.000 2024-01-03 20:46:00   \n",
       "149  Through Wall Unit Dining Room 127 4559.000 2024-01-06 12:09:00   \n",
       "150         Through Wall Unit Room 100 6161.000 2024-01-14 23:06:00   \n",
       "151         Through Wall Unit Room 100 6666.000 2024-01-19 21:06:00   \n",
       "152         Through Wall Unit Room 105 3703.000 2023-01-13 17:46:00   \n",
       "153         Through Wall Unit Room 108 4159.000 2022-11-13 20:37:00   \n",
       "154         Through Wall Unit Room 108 3643.000 2022-11-17 13:20:00   \n",
       "155         Through Wall Unit Room 108 5071.000 2023-09-01 05:17:00   \n",
       "156         Through Wall Unit Room 108 3592.000 2023-09-05 02:06:00   \n",
       "157         Through Wall Unit Room 108 4615.000 2023-09-27 02:57:00   \n",
       "158         Through Wall Unit Room 108 3106.000 2023-10-19 04:41:00   \n",
       "159         Through Wall Unit Room 108 3540.000 2023-10-31 08:46:00   \n",
       "160         Through Wall Unit Room 108 3739.000 2023-11-14 00:00:00   \n",
       "161         Through Wall Unit Room 108 6755.000 2023-11-22 22:41:00   \n",
       "162         Through Wall Unit Room 108 3737.000 2023-11-29 07:05:00   \n",
       "163         Through Wall Unit Room 115 3480.000 2023-04-22 04:06:00   \n",
       "164         Through Wall Unit Room 115 3189.000 2023-05-12 23:21:00   \n",
       "165         Through Wall Unit Room 115 3166.000 2023-06-12 20:55:00   \n",
       "166         Through Wall Unit Room 115 3521.000 2023-12-09 05:21:00   \n",
       "167         Through Wall Unit Room 127 3142.000 2023-03-15 13:39:00   \n",
       "168         Through Wall Unit Room 127 2936.000 2023-05-19 22:52:00   \n",
       "169         Through Wall Unit Room 127 6916.000 2023-09-28 04:44:00   \n",
       "170         Through Wall Unit Room 127 2881.000 2023-12-27 18:05:00   \n",
       "171         Through Wall Unit Room 127 3629.000 2023-12-31 04:03:00   \n",
       "172         Through Wall Unit Room 127 3736.000 2024-01-10 06:25:00   \n",
       "173         Through Wall Unit Room 127 3708.000 2024-01-23 01:08:00   \n",
       "174                             TW-504 2992.000 2023-10-14 02:45:00   \n",
       "175                             TW-505 5675.000 2022-03-08 00:00:00   \n",
       "176                             TW-505 4404.000 2022-03-11 22:36:00   \n",
       "177                             TW-505 8629.000 2022-03-29 20:54:00   \n",
       "178                             TW-505 7083.000 2022-04-12 00:00:00   \n",
       "179                      TW-708 LOUNGE 2915.000 2022-11-15 18:38:00   \n",
       "180                      TW-708 LOUNGE 3274.000 2022-11-30 12:59:00   \n",
       "181                      TW-708 LOUNGE 6201.000 2023-02-01 21:06:00   \n",
       "182                    Thru Wall - 115 3103.000 2022-07-26 01:14:00   \n",
       "183                    Thru Wall - 118 3423.000 2023-07-20 19:58:00   \n",
       "184                    Thru Wall - 118 3388.000 2023-07-23 05:02:00   \n",
       "185                    Thru Wall - 118 3987.000 2023-07-29 00:59:00   \n",
       "186                    Thru Wall - 118 4065.000 2023-09-13 01:33:00   \n",
       "187                    Thru Wall - 118 3705.000 2023-09-26 23:54:00   \n",
       "188                    Thru Wall - 120 4215.000 2023-11-03 23:00:00   \n",
       "189                    Thru Wall - 120 3252.000 2023-11-11 14:24:00   \n",
       "190                    Thru Wall - 120 2953.000 2023-11-16 14:25:00   \n",
       "191                    Thru Wall - 120 3344.000 2023-11-24 21:36:00   \n",
       "192                    Thru Wall - 120 7356.000 2023-11-27 22:26:00   \n",
       "193                    Thru Wall - 120 5927.000 2023-12-04 17:30:00   \n",
       "194                    Thru Wall - 120 4042.000 2023-12-08 20:18:00   \n",
       "195                    Thru Wall - 120 4724.000 2023-12-28 16:24:00   \n",
       "196                    Thru Wall - 120 7081.000 2024-01-01 20:33:00   \n",
       "197                    Thru Wall - 120 8342.000 2024-01-06 18:35:00   \n",
       "198                    Thru Wall - 120 5713.000 2024-01-12 13:38:00   \n",
       "199                    Thru Wall - 120 3302.000 2024-01-18 07:54:00   \n",
       "200                    Thru Wall - 120 2976.000 2024-01-22 01:17:00   \n",
       "201                    Thru Wall - 120 8306.000 2024-01-24 02:54:00   \n",
       "202                    Thru Wall - 120 3133.000 2024-01-29 21:21:00   \n",
       "203                    Thru Wall - 120 4558.000 2024-02-04 16:35:00   \n",
       "204                    Thru Wall - 120 2889.000 2024-02-10 22:45:00   \n",
       "205                    Thru Wall - 120 5079.000 2024-02-16 05:24:00   \n",
       "206                    Thru Wall - 120 4051.000 2024-02-23 21:07:00   \n",
       "207                    Thru Wall - 130 3572.000 2022-07-30 12:54:00   \n",
       "\n",
       "                    end  \n",
       "0   2022-09-15 17:20:00  \n",
       "1   2022-11-24 12:41:00  \n",
       "2   2022-12-23 11:22:00  \n",
       "3   2023-02-03 16:38:00  \n",
       "4   2023-02-11 23:10:00  \n",
       "5   2023-03-03 01:48:00  \n",
       "6   2023-03-06 10:48:00  \n",
       "7   2023-03-28 00:00:00  \n",
       "8   2023-04-07 10:10:00  \n",
       "9   2023-04-10 11:22:00  \n",
       "10  2023-04-23 18:41:00  \n",
       "11  2023-05-09 00:00:00  \n",
       "12  2023-05-21 18:39:00  \n",
       "13  2023-06-16 07:54:00  \n",
       "14  2023-06-20 00:00:00  \n",
       "15  2023-07-01 18:47:00  \n",
       "16  2023-07-08 03:33:00  \n",
       "17  2023-07-11 00:00:00  \n",
       "18  2023-07-20 23:03:00  \n",
       "19  2023-07-25 00:00:00  \n",
       "20  2023-08-19 00:08:00  \n",
       "21  2023-08-25 09:14:00  \n",
       "22  2023-08-31 17:49:00  \n",
       "23  2023-09-07 02:42:00  \n",
       "24  2023-09-12 00:00:00  \n",
       "25  2023-02-05 12:39:00  \n",
       "26  2023-08-01 00:00:00  \n",
       "27  2023-08-13 07:14:00  \n",
       "28  2022-05-08 10:10:00  \n",
       "29  2022-05-14 04:36:00  \n",
       "30  2022-05-18 02:38:00  \n",
       "31  2022-05-24 01:47:00  \n",
       "32  2022-06-28 06:44:00  \n",
       "33  2022-07-02 10:05:00  \n",
       "34  2022-07-05 06:15:00  \n",
       "35  2022-07-11 01:03:00  \n",
       "36  2022-07-16 20:03:00  \n",
       "37  2022-07-22 14:32:00  \n",
       "38  2022-07-28 09:23:00  \n",
       "39  2022-08-02 00:00:00  \n",
       "40  2022-08-14 17:16:00  \n",
       "41  2022-08-23 15:44:00  \n",
       "42  2022-08-29 11:13:00  \n",
       "43  2022-09-10 02:24:00  \n",
       "44  2022-09-15 21:34:00  \n",
       "45  2022-09-20 00:00:00  \n",
       "46  2023-04-06 03:22:00  \n",
       "47  2023-04-18 00:29:00  \n",
       "48  2023-04-22 03:53:00  \n",
       "49  2023-07-02 01:16:00  \n",
       "50  2023-07-13 14:10:00  \n",
       "51  2023-07-19 08:27:00  \n",
       "52  2023-07-25 02:27:00  \n",
       "53  2023-07-30 21:12:00  \n",
       "54  2023-08-11 09:44:00  \n",
       "55  2023-08-13 15:28:00  \n",
       "56  2023-08-17 22:59:00  \n",
       "57  2023-08-22 00:00:00  \n",
       "58  2023-09-04 10:54:00  \n",
       "59  2023-09-10 07:25:00  \n",
       "60  2023-09-16 03:08:00  \n",
       "61  2023-09-21 23:15:00  \n",
       "62  2023-09-27 18:51:00  \n",
       "63  2023-10-03 13:55:00  \n",
       "64  2023-10-08 05:49:00  \n",
       "65  2023-10-20 23:30:00  \n",
       "66  2023-10-24 10:00:00  \n",
       "67  2023-11-05 21:09:00  \n",
       "68  2022-04-30 22:30:00  \n",
       "69  2022-05-06 15:09:00  \n",
       "70  2022-05-10 00:00:00  \n",
       "71  2022-05-23 15:30:00  \n",
       "72  2022-06-20 22:19:00  \n",
       "73  2022-06-26 13:34:00  \n",
       "74  2022-07-07 21:22:00  \n",
       "75  2022-07-13 13:48:00  \n",
       "76  2022-07-17 18:41:00  \n",
       "77  2022-07-30 11:59:00  \n",
       "78  2022-08-02 13:55:00  \n",
       "79  2022-08-08 08:23:00  \n",
       "80  2022-08-25 03:02:00  \n",
       "81  2022-08-30 00:00:00  \n",
       "82  2022-09-10 23:44:00  \n",
       "83  2022-09-13 00:00:00  \n",
       "84  2022-09-22 05:36:00  \n",
       "85  2022-09-27 20:03:00  \n",
       "86  2022-10-03 10:42:00  \n",
       "87  2022-10-09 02:01:00  \n",
       "88  2022-10-20 06:47:00  \n",
       "89  2022-10-25 00:00:00  \n",
       "90  2022-11-17 08:24:00  \n",
       "91  2022-11-22 00:00:00  \n",
       "92  2022-12-04 04:10:00  \n",
       "93  2022-12-09 18:58:00  \n",
       "94  2022-12-15 09:50:00  \n",
       "95  2022-12-21 00:44:00  \n",
       "96  2022-12-26 15:13:00  \n",
       "97  2023-01-16 16:35:00  \n",
       "98  2023-01-19 05:00:00  \n",
       "99  2023-01-26 11:36:00  \n",
       "100 2023-02-01 02:40:00  \n",
       "101 2023-02-06 17:28:00  \n",
       "102 2023-02-12 08:17:00  \n",
       "103 2023-03-10 12:07:00  \n",
       "104 2023-03-14 00:00:00  \n",
       "105 2023-03-27 09:00:00  \n",
       "106 2023-04-02 00:24:00  \n",
       "107 2023-04-07 16:09:00  \n",
       "108 2023-04-11 00:00:00  \n",
       "109 2023-04-24 15:19:00  \n",
       "110 2023-05-18 06:47:00  \n",
       "111 2023-05-23 21:39:00  \n",
       "112 2023-05-29 12:42:00  \n",
       "113 2023-06-10 14:31:00  \n",
       "114 2023-06-16 05:38:00  \n",
       "115 2023-06-20 00:00:00  \n",
       "116 2023-07-03 02:51:00  \n",
       "117 2023-07-08 17:55:00  \n",
       "118 2023-07-29 09:36:00  \n",
       "119 2023-08-01 00:00:00  \n",
       "120 2023-08-15 00:00:00  \n",
       "121 2023-08-28 00:58:00  \n",
       "122 2023-09-02 16:07:00  \n",
       "123 2023-09-08 07:35:00  \n",
       "124 2023-09-12 00:00:00  \n",
       "125 2023-09-26 00:00:00  \n",
       "126 2023-10-24 00:00:00  \n",
       "127 2023-11-04 18:41:00  \n",
       "128 2023-11-10 09:47:00  \n",
       "129 2023-11-16 00:57:00  \n",
       "130 2023-11-21 15:37:00  \n",
       "131 2023-11-27 16:06:00  \n",
       "132 2023-12-14 14:41:00  \n",
       "133 2023-12-20 06:08:00  \n",
       "134 2023-12-25 21:05:00  \n",
       "135 2023-12-31 11:58:00  \n",
       "136 2024-01-06 03:35:00  \n",
       "137 2024-01-11 18:11:00  \n",
       "138 2024-01-16 00:00:00  \n",
       "139 2024-02-08 19:40:00  \n",
       "140 2024-02-13 00:00:00  \n",
       "141 2024-02-25 13:53:00  \n",
       "142 2024-03-01 00:00:00  \n",
       "143 2023-01-04 10:56:00  \n",
       "144 2023-01-07 18:01:00  \n",
       "145 2023-01-14 13:41:00  \n",
       "146 2023-03-04 05:53:00  \n",
       "147 2023-05-29 18:26:00  \n",
       "148 2024-01-06 12:08:00  \n",
       "149 2024-01-09 16:08:00  \n",
       "150 2024-01-19 05:47:00  \n",
       "151 2024-01-24 12:12:00  \n",
       "152 2023-01-16 07:29:00  \n",
       "153 2022-11-16 17:56:00  \n",
       "154 2022-11-20 02:03:00  \n",
       "155 2023-09-04 17:48:00  \n",
       "156 2023-09-07 13:58:00  \n",
       "157 2023-09-30 07:52:00  \n",
       "158 2023-10-21 08:27:00  \n",
       "159 2023-11-02 19:46:00  \n",
       "160 2023-11-16 14:19:00  \n",
       "161 2023-11-27 15:16:00  \n",
       "162 2023-12-01 21:22:00  \n",
       "163 2023-04-24 14:06:00  \n",
       "164 2023-05-15 04:30:00  \n",
       "165 2023-06-15 01:41:00  \n",
       "166 2023-12-11 16:02:00  \n",
       "167 2023-03-17 18:01:00  \n",
       "168 2023-05-21 23:48:00  \n",
       "169 2023-10-03 00:00:00  \n",
       "170 2023-12-29 18:06:00  \n",
       "171 2024-01-02 16:32:00  \n",
       "172 2024-01-12 20:41:00  \n",
       "173 2024-01-25 14:56:00  \n",
       "174 2023-10-16 04:37:00  \n",
       "175 2022-03-11 22:35:00  \n",
       "176 2022-03-15 00:00:00  \n",
       "177 2022-04-04 20:43:00  \n",
       "178 2022-04-16 22:03:00  \n",
       "179 2022-11-17 19:13:00  \n",
       "180 2022-12-02 19:33:00  \n",
       "181 2023-02-06 04:27:00  \n",
       "182 2022-07-28 04:57:00  \n",
       "183 2023-07-23 05:01:00  \n",
       "184 2023-07-25 13:30:00  \n",
       "185 2023-07-31 19:26:00  \n",
       "186 2023-09-15 21:18:00  \n",
       "187 2023-09-29 13:39:00  \n",
       "188 2023-11-06 21:15:00  \n",
       "189 2023-11-13 20:36:00  \n",
       "190 2023-11-18 15:38:00  \n",
       "191 2023-11-27 05:20:00  \n",
       "192 2023-12-03 01:02:00  \n",
       "193 2023-12-08 20:17:00  \n",
       "194 2023-12-11 15:40:00  \n",
       "195 2023-12-31 23:08:00  \n",
       "196 2024-01-06 18:34:00  \n",
       "197 2024-01-12 13:37:00  \n",
       "198 2024-01-16 12:51:00  \n",
       "199 2024-01-20 14:56:00  \n",
       "200 2024-01-24 02:53:00  \n",
       "201 2024-01-29 21:20:00  \n",
       "202 2024-02-01 01:34:00  \n",
       "203 2024-02-07 20:33:00  \n",
       "204 2024-02-12 22:54:00  \n",
       "205 2024-02-19 18:03:00  \n",
       "206 2024-02-26 16:38:00  \n",
       "207 2022-08-02 00:26:00  "
      ]
     },
     "execution_count": 16,
     "metadata": {},
     "output_type": "execute_result"
    }
   ],
   "source": [
    "blocks_df"
   ]
  }
 ],
 "metadata": {
  "kernelspec": {
   "display_name": "venv",
   "language": "python",
   "name": "python3"
  },
  "language_info": {
   "codemirror_mode": {
    "name": "ipython",
    "version": 3
   },
   "file_extension": ".py",
   "mimetype": "text/x-python",
   "name": "python",
   "nbconvert_exporter": "python",
   "pygments_lexer": "ipython3",
   "version": "3.11.3"
  }
 },
 "nbformat": 4,
 "nbformat_minor": 2
}
