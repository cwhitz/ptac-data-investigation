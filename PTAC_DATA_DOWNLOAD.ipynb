{
 "cells": [
  {
   "cell_type": "markdown",
   "metadata": {},
   "source": [
    "# PTAC Unit Outage Identification at ALG Senior"
   ]
  },
  {
   "cell_type": "code",
   "execution_count": null,
   "metadata": {},
   "outputs": [],
   "source": [
    "import pandas as pd\n",
    "from redaptipy.api_clients.rdp_partner_api_client import RdpApiClient\n",
    "from redaptipy.external_api_clients.get_vc_weather_data import VCWeatherAPI\n",
    "import datetime as dt"
   ]
  },
  {
   "cell_type": "code",
   "execution_count": null,
   "metadata": {},
   "outputs": [],
   "source": [
    "circuit_df = pd.read_excel('ALG_ptac_inventory.xlsx')"
   ]
  },
  {
   "cell_type": "markdown",
   "metadata": {},
   "source": [
    "## Get Electric Data"
   ]
  },
  {
   "cell_type": "code",
   "execution_count": null,
   "metadata": {},
   "outputs": [],
   "source": [
    "rdp_client = RdpApiClient()"
   ]
  },
  {
   "cell_type": "code",
   "execution_count": null,
   "metadata": {},
   "outputs": [],
   "source": [
    "for pp in ['rmsCurrent', 'rmsVoltage', 'powerFactor']:\n",
    "    print(pp)\n",
    "\n",
    "    data = rdp_client.get_data_by_circuit(\n",
    "        circuit_ids=circuit_df['id'].tolist(),\n",
    "        start_date= dt.datetime(2022, 3, 1),\n",
    "        end_date= dt.datetime(2024, 3, 1),\n",
    "        resolution=1,\n",
    "        power_parameter=pp\n",
    "    )\n",
    "\n",
    "    data.to_csv(f'data/{pp}.csv')\n"
   ]
  },
  {
   "cell_type": "markdown",
   "metadata": {},
   "source": [
    "## Weather Data Download"
   ]
  },
  {
   "cell_type": "code",
   "execution_count": null,
   "metadata": {},
   "outputs": [],
   "source": [
    "vc_client = VCWeatherAPI()\n",
    "\n",
    "lat_lng_df = circuit_df[['address1','city','state','lat','lng']].drop_duplicates()\n",
    "\n",
    "for i, row in lat_lng_df.iterrows():\n",
    "    print(row['address1'], row['city'], row['state'])\n",
    "\n",
    "    data = vc_client.get_vc_api_data(\n",
    "        latitude = row['lat'],\n",
    "        longitude = row['lng'],\n",
    "        start_date = dt.datetime(2022, 3, 1),\n",
    "        end_date = dt.datetime(2024, 3, 1),\n",
    "        hourly_data = True,\n",
    "        weather_parameters = None\n",
    "    )\n",
    "\n",
    "    data.to_csv(f'data/weather/{row[\"address1\"]}_{row[\"city\"]}_{row[\"state\"]}.csv')\n"
   ]
  },
  {
   "cell_type": "code",
   "execution_count": null,
   "metadata": {},
   "outputs": [],
   "source": [
    "circuit_df.apply(lambda x: f\"{x['address1']}, {x['city']} {x['state']}\", axis=1).drop_duplicates().to_clipboard(index=False)"
   ]
  }
 ],
 "metadata": {
  "kernelspec": {
   "display_name": "venv",
   "language": "python",
   "name": "python3"
  },
  "language_info": {
   "codemirror_mode": {
    "name": "ipython",
    "version": 3
   },
   "file_extension": ".py",
   "mimetype": "text/x-python",
   "name": "python",
   "nbconvert_exporter": "python",
   "pygments_lexer": "ipython3",
   "version": "3.11.3"
  }
 },
 "nbformat": 4,
 "nbformat_minor": 2
}
