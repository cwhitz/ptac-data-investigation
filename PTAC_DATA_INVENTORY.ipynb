{
 "cells": [
  {
   "cell_type": "markdown",
   "metadata": {},
   "source": [
    "## PTAC Data Inventory\n",
    "\n",
    "Investigating the PTAC data inventory."
   ]
  },
  {
   "cell_type": "code",
   "execution_count": 2,
   "metadata": {},
   "outputs": [],
   "source": [
    "from redaptipy.db_clients.rdp_db_client import RdpDBClient\n",
    "\n",
    "import pandas as pd\n",
    "\n",
    "pd.set_option('display.max_rows', None)"
   ]
  },
  {
   "cell_type": "code",
   "execution_count": 3,
   "metadata": {},
   "outputs": [],
   "source": [
    "rdp_client = RdpDBClient()"
   ]
  },
  {
   "cell_type": "code",
   "execution_count": 8,
   "metadata": {},
   "outputs": [],
   "source": [
    "ptac_query = \"\"\"\n",
    "    SELECT \n",
    "    circuit.id,\n",
    "    circuit.breaker_number,\n",
    "    circuit.description, \n",
    "    equipment.name as equipment_name,\n",
    "    meter.name as metermac,\n",
    "    panel.name as panel_name,\n",
    "    site.address1,\n",
    "    site.city,\n",
    "    site.lat,\n",
    "    site.lng,\n",
    "    site.state FROM circuit\n",
    "    JOIN building_system ON circuit.building_system_id = building_system.id\n",
    "    LEFT join equipment ON circuit.equipment_id = equipment.id\n",
    "    JOIN meter ON circuit.meter_id = meter.id\n",
    "    LEFT JOIN panel ON circuit.panel_id = panel.id\n",
    "    JOIN site ON meter.site_id = site.id\n",
    "    JOIN customer ON site.customer_id = customer.id\n",
    "    WHERE 1=1\n",
    "    AND customer.name = 'ALG Senior'\n",
    "    AND building_system.name in ('HVAC', 'Other Submetered')\n",
    "    AND (circuit.description ILIKE 'room%' \n",
    "        OR circuit.description ILIKE '%rm%' \n",
    "        OR circuit.description ILIKE '%wall%'\n",
    "        OR circuit.description ILIKE '%tw%'\n",
    "        OR circuit.description ILIKE '%ptac%'\n",
    "        OR circuit.description ILIKE '%through wall%'\n",
    "        OR circuit.description ILIKE '%thru wall%'\n",
    "        OR equipment.name ILIKE '%hchv%')\n",
    "    AND (circuit.description NOT ILIKE '%living%' OR\n",
    "         circuit.description NOT ILIKE '%dining%')\n",
    "    \"\"\"\n",
    "\n",
    "df = rdp_client.query(ptac_query)\n",
    "\n",
    "df.to_excel('ALG_ptac_inventory.xlsx')\n"
   ]
  }
 ],
 "metadata": {
  "kernelspec": {
   "display_name": "venv",
   "language": "python",
   "name": "python3"
  },
  "language_info": {
   "codemirror_mode": {
    "name": "ipython",
    "version": 3
   },
   "file_extension": ".py",
   "mimetype": "text/x-python",
   "name": "python",
   "nbconvert_exporter": "python",
   "pygments_lexer": "ipython3",
   "version": "3.11.3"
  }
 },
 "nbformat": 4,
 "nbformat_minor": 2
}
